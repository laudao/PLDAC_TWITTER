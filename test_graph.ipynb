{
 "cells": [
  {
   "cell_type": "code",
   "execution_count": 1,
   "metadata": {},
   "outputs": [],
   "source": [
    "%load_ext autoreload\n",
    "%autoreload 2\n",
    "from utils import *\n",
    "import networkx as nx\n",
    "import matplotlib.pyplot as plt\n",
    "import pandas as pd"
   ]
  },
  {
   "cell_type": "code",
   "execution_count": 21,
   "metadata": {},
   "outputs": [],
   "source": [
    "twitter_db = connect_to_db()"
   ]
  },
  {
   "cell_type": "code",
   "execution_count": 22,
   "metadata": {},
   "outputs": [
    {
     "name": "stdout",
     "output_type": "stream",
     "text": [
      "1029413485 None None 983300684\n",
      "413132646 None None 193476471\n",
      "784769137956495360 101664219 None None\n"
     ]
    },
    {
     "data": {
      "text/plain": [
       "True"
      ]
     },
     "execution_count": 22,
     "metadata": {},
     "output_type": "execute_result"
    }
   ],
   "source": [
    "N = 3\n",
    "G_dict = dict()\n",
    "\n",
    "cursor = twitter_db.cursor()\n",
    "\n",
    "query = (\"SELECT user_id, in_reply_to_user_id, quoted_user_id, retweeted_user_id \\\n",
    "        FROM tweets WHERE lang='fr' LIMIT \" + str(N))\n",
    "\n",
    "cursor.execute(query)\n",
    "\n",
    "for (user_id, in_reply_to_user_id, quoted_user_id, retweeted_user_id) in cursor:\n",
    "    print(user_id, in_reply_to_user_id, quoted_user_id, retweeted_user_id)\n",
    "    if user_id not in G_dict:\n",
    "        G_dict[user_id] = {'replied_to': {}, 'quoted': {}, 'retweeted': {}}\n",
    "        \n",
    "    if not(in_reply_to_user_id is None):\n",
    "        if in_reply_to_user_id not in G_dict:\n",
    "            G_dict[in_reply_to_user_id] = {'replied_to': {}, 'quoted': {}, 'retweeted': {}}\n",
    "        if in_reply_to_user_id not in G_dict[user_id]['replied_to']:\n",
    "            G_dict[user_id]['replied_to'][in_reply_to_user_id] = 1\n",
    "        else:\n",
    "            G_dict[user_id]['replied_to'][in_reply_to_user_id] += 1\n",
    "            \n",
    "    if not(quoted_user_id is None):\n",
    "        if quoted_user_id not in G_dict:\n",
    "            G_dict[quoted_user_id] = {'replied_to': {}, 'quoted': {}, 'retweeted': {}}\n",
    "        if quoted_user_id not in G_dict[user_id]['quoted']:\n",
    "            G_dict[user_id]['quoted'][quoted_user_id] = 1\n",
    "        else:\n",
    "            G_dict[user_id]['quoted'][quoted_user_id] += 1\n",
    "    \n",
    "    if not(retweeted_user_id is None):\n",
    "        if retweeted_user_id not in G_dict:\n",
    "            G_dict[retweeted_user_id] = {'replied_to': {}, 'quoted': {}, 'retweeted': {}}\n",
    "        if retweeted_user_id not in G_dict[user_id]['retweeted']:\n",
    "            G_dict[user_id]['retweeted'][retweeted_user_id] = 1\n",
    "        else:\n",
    "            G_dict[user_id]['retweeted'][retweeted_user_id] += 1\n",
    "    \n",
    "cursor.close()       "
   ]
  },
  {
   "cell_type": "code",
   "execution_count": 23,
   "metadata": {},
   "outputs": [
    {
     "data": {
      "text/plain": [
       "{101664219: {'quoted': {}, 'replied_to': {}, 'retweeted': {}},\n",
       " 193476471: {'quoted': {}, 'replied_to': {}, 'retweeted': {}},\n",
       " 413132646: {'quoted': {}, 'replied_to': {}, 'retweeted': {193476471: 1}},\n",
       " 983300684: {'quoted': {}, 'replied_to': {}, 'retweeted': {}},\n",
       " 1029413485: {'quoted': {}, 'replied_to': {}, 'retweeted': {983300684: 1}},\n",
       " 784769137956495360: {'quoted': {},\n",
       "  'replied_to': {101664219: 1},\n",
       "  'retweeted': {}}}"
      ]
     },
     "execution_count": 23,
     "metadata": {},
     "output_type": "execute_result"
    }
   ],
   "source": [
    "G_dict"
   ]
  },
  {
   "cell_type": "code",
   "execution_count": 24,
   "metadata": {},
   "outputs": [
    {
     "name": "stdout",
     "output_type": "stream",
     "text": [
      "replied to : 784769137956495360--(1)-->101664219\n",
      "retweeted : 413132646--(1)-->193476471\n",
      "retweeted : 1029413485--(1)-->983300684\n"
     ]
    }
   ],
   "source": [
    "G = nx.DiGraph()\n",
    "G.add_nodes_from(G_dict.keys())\n",
    "\n",
    "for (u1,v) in G_dict.items():\n",
    "    for (u2, count) in v['quoted'].items():\n",
    "        print(\"quoted : {}--({})-->{}\".format(u1, count, u2))\n",
    "        G.add_edge(u1,u2,label='quoted',weight=count)\n",
    "    for (u2, count) in v['replied_to'].items():\n",
    "        print(\"replied to : {}--({})-->{}\".format(u1, count, u2))\n",
    "        G.add_edge(u1,u2,label='replied_to',weight=count)\n",
    "    for (u2, count) in v['retweeted'].items():\n",
    "        print(\"retweeted : {}--({})-->{}\".format(u1, count, u2))\n",
    "        G.add_edge(u1,u2,label='retweeted',weight=count)"
   ]
  },
  {
   "cell_type": "code",
   "execution_count": 25,
   "metadata": {},
   "outputs": [
    {
     "data": {
      "text/plain": [
       "OutEdgeView([(784769137956495360, 101664219), (413132646, 193476471), (1029413485, 983300684)])"
      ]
     },
     "execution_count": 25,
     "metadata": {},
     "output_type": "execute_result"
    }
   ],
   "source": [
    "G.edges()"
   ]
  },
  {
   "cell_type": "code",
   "execution_count": 26,
   "metadata": {},
   "outputs": [
    {
     "data": {
      "image/png": "[encoded data removed]",
      "text/plain": [
       "<Figure size 432x288 with 1 Axes>"
      ]
     },
     "metadata": {},
     "output_type": "display_data"
    }
   ],
   "source": [
    "nx.draw(G,with_labels=True)"
   ]
  },
  {
   "cell_type": "code",
   "execution_count": 33,
   "metadata": {},
   "outputs": [
    {
     "data": {
      "text/plain": [
       "{(413132646, 193476471): 'retweeted',\n",
       " (1029413485, 983300684): 'retweeted',\n",
       " (784769137956495360, 101664219): 'replied_to'}"
      ]
     },
     "execution_count": 33,
     "metadata": {},
     "output_type": "execute_result"
    }
   ],
   "source": [
    "edge_labels"
   ]
  },
  {
   "cell_type": "code",
   "execution_count": 34,
   "metadata": {},
   "outputs": [
    {
     "data": {
      "text/plain": [
       "[<matplotlib.patches.FancyArrowPatch at 0x118cf3dd8>,\n",
       " <matplotlib.patches.FancyArrowPatch at 0x118cf9198>,\n",
       " <matplotlib.patches.FancyArrowPatch at 0x118cf9518>]"
      ]
     },
     "execution_count": 34,
     "metadata": {},
     "output_type": "execute_result"
    },
    {
     "data": {
      "image/png": "[encoded data removed]",
      "text/plain": [
       "<Figure size 432x288 with 1 Axes>"
      ]
     },
     "metadata": {},
     "output_type": "display_data"
    }
   ],
   "source": [
    "edge_labels = nx.get_edge_attributes(G,'label')\n",
    "nx.draw_networkx_edges(G,pos=nx.spring_layout(G),edge_labels=edge_labels)"
   ]
  },
  {
   "cell_type": "code",
   "execution_count": 35,
   "metadata": {},
   "outputs": [
    {
     "name": "stderr",
     "output_type": "stream",
     "text": [
      "/Users/lauranguyen/anaconda3/lib/python3.5/site-packages/networkx/drawing/nx_pylab.py:611: MatplotlibDeprecationWarning: isinstance(..., numbers.Number)\n",
      "  if cb.is_numlike(alpha):\n"
     ]
    },
    {
     "data": {
      "text/plain": [
       "{(1, 2): Text(1.5, 1.5, '0.5'), (1, 3): Text(1.0, 0.5, '9.8')}"
      ]
     },
     "execution_count": 35,
     "metadata": {},
     "output_type": "execute_result"
    },
    {
     "data": {
      "image/png": "[encoded data removed]",
      "text/plain": [
       "<Figure size 432x288 with 1 Axes>"
      ]
     },
     "metadata": {},
     "output_type": "display_data"
    }
   ],
   "source": [
    "G=nx.Graph()\n",
    "i=1\n",
    "G.add_node(i,pos=(i,i))\n",
    "G.add_node(2,pos=(2,2))\n",
    "G.add_node(3,pos=(1,0))\n",
    "G.add_edge(1,2,weight=0.5)\n",
    "G.add_edge(1,3,weight=9.8)\n",
    "pos=nx.get_node_attributes(G,'pos')\n",
    "nx.draw(G,pos)\n",
    "labels = nx.get_edge_attributes(G,'weight')\n",
    "nx.draw_networkx_edge_labels(G,pos,edge_labels=labels)"
   ]
  }
 ],
 "metadata": {
  "kernelspec": {
   "display_name": "Python 3",
   "language": "python",
   "name": "python3"
  },
  "language_info": {
   "codemirror_mode": {
    "name": "ipython",
    "version": 3
   },
   "file_extension": ".py",
   "mimetype": "text/x-python",
   "name": "python",
   "nbconvert_exporter": "python",
   "pygments_lexer": "ipython3",
   "version": "3.5.4"
  }
 },
 "nbformat": 4,
 "nbformat_minor": 2
}

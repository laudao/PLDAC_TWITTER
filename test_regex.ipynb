{
 "cells": [
  {
   "cell_type": "code",
   "execution_count": 1,
   "metadata": {},
   "outputs": [],
   "source": [
    "from string import punctuation\n",
    "import re"
   ]
  },
  {
   "cell_type": "code",
   "execution_count": 7,
   "metadata": {},
   "outputs": [
    {
     "data": {
      "text/plain": [
       "['Emmanuel', 'Macron']"
      ]
     },
     "execution_count": 7,
     "metadata": {},
     "output_type": "execute_result"
    }
   ],
   "source": [
    "re.findall(r\"\\b(emmanuel|macron)\\b\",\"Emmanuel #Macron l'escroquerie en marche\",flags=re.IGNORECASE)"
   ]
  },
  {
   "cell_type": "code",
   "execution_count": 6,
   "metadata": {},
   "outputs": [
    {
     "data": {
      "text/plain": [
       "['!!!!', '???', '!????...']"
      ]
     },
     "execution_count": 6,
     "metadata": {},
     "output_type": "execute_result"
    }
   ],
   "source": [
    "re.findall(r\"[.!?]+\", \"Hello, I'm a string!!!!wow ???awesome!????...\")"
   ]
  },
  {
   "cell_type": "code",
   "execution_count": 57,
   "metadata": {},
   "outputs": [],
   "source": [
    "s1 = re.sub(r\"(?<!\\!|\\?|\\.)[\\!](?!\\!|\\?|\\.)\",\" un_pt_excl \",\"Hello!hello?! . hello? I'm a ... string!!!!wow ???awesome!????...\")"
   ]
  },
  {
   "cell_type": "code",
   "execution_count": 58,
   "metadata": {},
   "outputs": [
    {
     "data": {
      "text/plain": [
       "\"Hello un_pt_excl hello?! . hello? I'm a ... string!!!!wow ???awesome!????...\""
      ]
     },
     "execution_count": 58,
     "metadata": {},
     "output_type": "execute_result"
    }
   ],
   "source": [
    "s1"
   ]
  },
  {
   "cell_type": "code",
   "execution_count": 59,
   "metadata": {},
   "outputs": [],
   "source": [
    "s2 = re.sub(r\"(?<!\\?|\\.)[\\!]+(?!\\?|\\.)\", \" mult_pt_excl \", s1)"
   ]
  },
  {
   "cell_type": "code",
   "execution_count": 60,
   "metadata": {},
   "outputs": [
    {
     "data": {
      "text/plain": [
       "\"Hello un_pt_excl hello?! . hello? I'm a ... string mult_pt_excl wow ???awesome!????...\""
      ]
     },
     "execution_count": 60,
     "metadata": {},
     "output_type": "execute_result"
    }
   ],
   "source": [
    "s2"
   ]
  },
  {
   "cell_type": "code",
   "execution_count": 61,
   "metadata": {},
   "outputs": [],
   "source": [
    "s3 = re.sub(r\"(?<!\\!|\\?|\\.)[\\?](?!\\!|\\?|\\.)\", \" un_pt_int \", s2)"
   ]
  },
  {
   "cell_type": "code",
   "execution_count": 62,
   "metadata": {},
   "outputs": [
    {
     "data": {
      "text/plain": [
       "\"Hello un_pt_excl hello?! . hello un_pt_int  I'm a ... string mult_pt_excl wow ???awesome!????...\""
      ]
     },
     "execution_count": 62,
     "metadata": {},
     "output_type": "execute_result"
    }
   ],
   "source": [
    "s3"
   ]
  },
  {
   "cell_type": "code",
   "execution_count": 63,
   "metadata": {},
   "outputs": [],
   "source": [
    "s4 = re.sub(r\"(?<!\\!|\\.)[\\?]+(?!\\!|\\.)\", \" mult_pt_int \", s3)"
   ]
  },
  {
   "cell_type": "code",
   "execution_count": 64,
   "metadata": {},
   "outputs": [
    {
     "data": {
      "text/plain": [
       "\"Hello un_pt_excl hello?! . hello un_pt_int  I'm a ... string mult_pt_excl wow  mult_pt_int awesome!? mult_pt_int ?...\""
      ]
     },
     "execution_count": 64,
     "metadata": {},
     "output_type": "execute_result"
    }
   ],
   "source": [
    "s4"
   ]
  },
  {
   "cell_type": "code",
   "execution_count": 126,
   "metadata": {},
   "outputs": [],
   "source": [
    "s5 = re.sub(r\"(?<!\\w)[\\.\\.]+(?!\\w)|…\", \" pt_susp \", \"Marine Le Pen eclate de rire. Macron rit jaune…\")"
   ]
  },
  {
   "cell_type": "code",
   "execution_count": 127,
   "metadata": {},
   "outputs": [
    {
     "data": {
      "text/plain": [
       "'Marine Le Pen eclate de rire. Macron rit jaune pt_susp '"
      ]
     },
     "execution_count": 127,
     "metadata": {},
     "output_type": "execute_result"
    }
   ],
   "source": [
    "s5"
   ]
  },
  {
   "cell_type": "code",
   "execution_count": 105,
   "metadata": {},
   "outputs": [],
   "source": [
    "s6=re.sub(r\"(?<!\\w)[\\.|\\?|\\!]+(?!\\w)\", \" mix_points \", \"RT @Youssefbarcaa: Quand ?? !! j'arrive à la CAF à 9h01 #Macron https://t.co/6hDQo5Gk9m\")"
   ]
  },
  {
   "cell_type": "code",
   "execution_count": 106,
   "metadata": {},
   "outputs": [
    {
     "data": {
      "text/plain": [
       "\"RT @Youssefbarcaa: Quand  mix_points   mix_points  j'arrive à la CAF à 9h01 #Macron https://t.co/6hDQo5Gk9m\""
      ]
     },
     "execution_count": 106,
     "metadata": {},
     "output_type": "execute_result"
    }
   ],
   "source": [
    "s6"
   ]
  }
 ],
 "metadata": {
  "kernelspec": {
   "display_name": "Python 3",
   "language": "python",
   "name": "python3"
  },
  "language_info": {
   "codemirror_mode": {
    "name": "ipython",
    "version": 3
   },
   "file_extension": ".py",
   "mimetype": "text/x-python",
   "name": "python",
   "nbconvert_exporter": "python",
   "pygments_lexer": "ipython3",
   "version": "3.5.4"
  }
 },
 "nbformat": 4,
 "nbformat_minor": 2
}

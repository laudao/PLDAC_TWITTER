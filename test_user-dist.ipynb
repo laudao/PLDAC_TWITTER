{
 "cells": [
  {
   "cell_type": "code",
   "execution_count": 81,
   "metadata": {},
   "outputs": [
    {
     "name": "stdout",
     "output_type": "stream",
     "text": [
      "The autoreload extension is already loaded. To reload it, use:\n",
      "  %reload_ext autoreload\n"
     ]
    }
   ],
   "source": [
    "%load_ext autoreload\n",
    "%autoreload 2\n",
    "from utils import *\n",
    "import pandas as pd\n",
    "import matplotlib.pyplot as plt"
   ]
  },
  {
   "cell_type": "code",
   "execution_count": 82,
   "metadata": {},
   "outputs": [
    {
     "name": "stdout",
     "output_type": "stream",
     "text": [
      "Stemming\n",
      "Keeping the top 500 occurring tokens\n"
     ]
    }
   ],
   "source": [
    "[v, words_freq] = build_vectorizer_from_tweets(N=1000, stopwords=french_stopwords(), \\\n",
    "                                                  b_stemming=True, b_punctuation=True, \\\n",
    "                                                    max_f = 500)"
   ]
  },
  {
   "cell_type": "code",
   "execution_count": 83,
   "metadata": {},
   "outputs": [],
   "source": [
    "tweets_user = get_tweets_from_user(784769137956495360, N=100)"
   ]
  },
  {
   "cell_type": "code",
   "execution_count": 84,
   "metadata": {},
   "outputs": [
    {
     "data": {
      "text/plain": [
       "['@JJBourdin_RMC Pourquoi ne pas passer des extraits des interviews de Fillon avant,pendant et après les primaires. Ç… https://t.co/iF05jgqH4j',\n",
       " '@GG_RMC @CharlesConsigny Le candidat qui causera 1 véritable révolution c Fillon. 1X élu la France sera totalement ingouvernable.',\n",
       " \"@plafalb @Jaillet96941838 @FrancoisFillon Et 1 1er Ministre  (Fillon) qui a augmenté la dette publique 600 milliards d'euros!\",\n",
       " '@tarzoondtc @H9ORQFgTas9n4gz @Le_Figaro Voilà de quoi se réjouir! La laïcité version Fillon!',\n",
       " '@andre78fr @romain__ @Nau_Kofi @ADMDFRANCE @JLMelenchon ben non parce que ce sera la 6e!',\n",
       " '@andre78fr @EyesOnSea @SandraBarjos @romain__ @Nau_Kofi @ADMDFRANCE @JLMelenchon Vous connaissez cette dictature qu… https://t.co/vYaN1ajl4v',\n",
       " \"@andre78fr @romain__ @Nau_Kofi @ADMDFRANCE @JLMelenchon N'est-ce pas exactement ce qu'a fait De Gaulle?Gouverner av… https://t.co/YsTd0nqViS\",\n",
       " '@EyesOnSea @SandraBarjos @andre78fr @romain__ @Nau_Kofi @ADMDFRANCE @JLMelenchon Il est pédagogue, explique, analys… https://t.co/mFlxX5nZst',\n",
       " '@tprincedelamour non truqué? pourquoi le duo hamon melenchon alors?',\n",
       " 'Le modèle Macron. La précarité pour tous! https://t.co/IoTJpUdFdi',\n",
       " 'A 19h, suivez en direct @JLMelenchon en multi-meeting hologramme. Participez avec le hashtag #LaForceDuPeuple - https://t.co/Vz9YAjwy1Q',\n",
       " \"@mashalouga @JLMelenchon la plupart des terroristes étaient français. frontières ou pas ce n'est pas cela qui régle… https://t.co/8ODTImRAbD\",\n",
       " 'Un impôt vraiment progressif! https://t.co/QpXowYbNam',\n",
       " \"La précarité existe depuis la nuit des temps. La modernité c'est de la réduire. https://t.co/BTY5yTyN0f\",\n",
       " \"600 milliards d'euros du contribuable pour renflouer les banques https://t.co/BN73NDCHD8\",\n",
       " \"Un vrai meeting sur le fond avec de nombreuses clarifications. Bien entendu les médias n'ont retenu que l'hologramm… https://t.co/vMagKOf4UW\",\n",
       " 'A partager ! Urgent. https://t.co/4tIptpVwP2',\n",
       " 'Equation vérifiée! https://t.co/I3JPxsxbJW',\n",
       " '@LAURENTvronique @JJBourdin_RMC @JLMelenchon Et la mienne! !',\n",
       " \"Exact. Si l'UE  ne change pas elle nous conduira au chaos et à la guerre. https://t.co/CAGeQ9aZRR\",\n",
       " '20h France 2 https://t.co/yUeQ0npTiI',\n",
       " 'Fillon est venu avec ses objets fétiches; costume à 13k et montre de luxe',\n",
       " '#Fillon2017 @France2tv Fillon est venu avec ses objets fétiches; costume à 13k et montre de luxe',\n",
       " 'Exactement https://t.co/D7eFBcCho5',\n",
       " \"Ça va nous changer!@ BFM n'a pas l'air de savoir que vous êtes candidat. Ils ne relaient que très peu d'info concer… https://t.co/fmwR2k4XOS\",\n",
       " \"@lps57000 @JLMelenchon n'oubliez pas qu'il y a 15 millions de français qui contrairement à vous n'ont pas choisi.\",\n",
       " \"C'est pas nouveau. Rien n'arrête ces 2 là dans leur ambitions maladives! https://t.co/YQeEAcRB3d\",\n",
       " \"Exactement. Hamon ne peut s'exprimer. Mais il faut savoir lire entre les lignes. https://t.co/haSROYt7po\",\n",
       " 'A vour absolument! https://t.co/eVVwx7XAHt']"
      ]
     },
     "execution_count": 84,
     "metadata": {},
     "output_type": "execute_result"
    }
   ],
   "source": [
    "tweets_user"
   ]
  },
  {
   "cell_type": "code",
   "execution_count": 85,
   "metadata": {},
   "outputs": [],
   "source": [
    "X_user = vectorize_docs(v, tweets_user)"
   ]
  },
  {
   "cell_type": "code",
   "execution_count": 86,
   "metadata": {},
   "outputs": [
    {
     "data": {
      "text/plain": [
       "29"
      ]
     },
     "execution_count": 86,
     "metadata": {},
     "output_type": "execute_result"
    }
   ],
   "source": [
    "n_user = len(X_user)\n",
    "n_user"
   ]
  },
  {
   "cell_type": "code",
   "execution_count": 87,
   "metadata": {},
   "outputs": [],
   "source": [
    "dist_user = np.zeros((n_user,n_user))"
   ]
  },
  {
   "cell_type": "code",
   "execution_count": 88,
   "metadata": {},
   "outputs": [
    {
     "name": "stderr",
     "output_type": "stream",
     "text": [
      "/Users/lauranguyen/Documents/UPMC/M1/S2/PLDAC_/PLDAC/preprocessing.py:139: RuntimeWarning: invalid value encountered in true_divide\n",
      "  return dot_product / (norm_a * norm_b)\n"
     ]
    }
   ],
   "source": [
    "for i in range(n_user):\n",
    "    for j in range(n_user):\n",
    "        dist_user[i][j] = cos_sim(X_user[i], X_user[j])"
   ]
  },
  {
   "cell_type": "code",
   "execution_count": 90,
   "metadata": {},
   "outputs": [
    {
     "data": {
      "text/plain": [
       "<matplotlib.image.AxesImage at 0x1228627b8>"
      ]
     },
     "execution_count": 90,
     "metadata": {},
     "output_type": "execute_result"
    },
    {
     "data": {
      "image/png": "[encoded data removed]",
      "text/plain": [
       "<Figure size 432x288 with 1 Axes>"
      ]
     },
     "metadata": {},
     "output_type": "display_data"
    }
   ],
   "source": [
    "plt.imshow(dist_user)"
   ]
  }
 ],
 "metadata": {
  "kernelspec": {
   "display_name": "Python 3",
   "language": "python",
   "name": "python3"
  },
  "language_info": {
   "codemirror_mode": {
    "name": "ipython",
    "version": 3
   },
   "file_extension": ".py",
   "mimetype": "text/x-python",
   "name": "python",
   "nbconvert_exporter": "python",
   "pygments_lexer": "ipython3",
   "version": "3.5.4"
  }
 },
 "nbformat": 4,
 "nbformat_minor": 2
}

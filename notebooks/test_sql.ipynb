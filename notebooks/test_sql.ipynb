{
 "cells": [
  {
   "cell_type": "code",
   "execution_count": 5,
   "metadata": {},
   "outputs": [
    {
     "name": "stdout",
     "output_type": "stream",
     "text": [
      "The autoreload extension is already loaded. To reload it, use:\n",
      "  %reload_ext autoreload\n"
     ]
    }
   ],
   "source": [
    "%load_ext autoreload\n",
    "%autoreload 2\n",
    "import sys\n",
    "sys.path.insert(0, '../src')\n",
    "from utils import *"
   ]
  },
  {
   "cell_type": "code",
   "execution_count": 34,
   "metadata": {},
   "outputs": [
    {
     "name": "stdout",
     "output_type": "stream",
     "text": [
      "0\n",
      "1\n"
     ]
    }
   ],
   "source": [
    "twitter_db = connect_to_db()\n",
    "cursor = twitter_db.cursor()\n",
    "query_check = 'SELECT COUNT(*) FROM INFORMATION_SCHEMA.COLUMNS WHERE TABLE_SCHEMA=\"twitter_db\" AND TABLE_NAME = \"tweets\" AND COLUMN_NAME=\"cand1\"'\n",
    "cursor.execute(query_check)\n",
    "print(cursor.fetchall()[0][0])\n",
    "query_check = 'SELECT COUNT(*) FROM INFORMATION_SCHEMA.COLUMNS WHERE TABLE_SCHEMA=\"twitter_db\" AND TABLE_NAME = \"tweets\" AND COLUMN_NAME=\"tweet_id\"'\n",
    "cursor.execute(query_check)\n",
    "print(cursor.fetchall()[0][0])"
   ]
  },
  {
   "cell_type": "code",
   "execution_count": 35,
   "metadata": {},
   "outputs": [],
   "source": [
    "cand = \"cand1\""
   ]
  },
  {
   "cell_type": "code",
   "execution_count": 37,
   "metadata": {},
   "outputs": [],
   "source": [
    "twitter_db = connect_to_db()\n",
    "cursor = twitter_db.cursor()\n",
    "check = 'SELECT COUNT(*) \\\n",
    "            FROM INFORMATION_SCHEMA.COLUMNS \\\n",
    "            WHERE TABLE_SCHEMA=\"twitter_db\" AND TABLE_NAME = \"tweets\" AND COLUMN_NAME=\"'+ cand +'\"'\n",
    "cursor.execute(check)\n",
    "exists = cursor.fetchall()[0][0]\n",
    "cursor.close()\n",
    "\n",
    "# if column refering to candidate has not been added to table yet\n",
    "if exists == 0:\n",
    "    cursor2 = twitter_db.cursor()\n",
    "    add_column = \"ALTER TABLE tweets \\\n",
    "                ADD COLUMN \" + cand + \" TINYINT(1)\";\n",
    "    cursor2.execute(add_column)\n",
    "    cursor2.close()\n",
    "    twitter_db.commit()"
   ]
  }
 ],
 "metadata": {
  "kernelspec": {
   "display_name": "Python 3",
   "language": "python",
   "name": "python3"
  },
  "language_info": {
   "codemirror_mode": {
    "name": "ipython",
    "version": 3
   },
   "file_extension": ".py",
   "mimetype": "text/x-python",
   "name": "python",
   "nbconvert_exporter": "python",
   "pygments_lexer": "ipython3",
   "version": "3.5.4"
  }
 },
 "nbformat": 4,
 "nbformat_minor": 2
}

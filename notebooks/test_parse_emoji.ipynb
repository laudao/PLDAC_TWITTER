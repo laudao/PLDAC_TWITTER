{
 "cells": [
  {
   "cell_type": "code",
   "execution_count": 19,
   "metadata": {},
   "outputs": [
    {
     "name": "stdout",
     "output_type": "stream",
     "text": [
      "The autoreload extension is already loaded. To reload it, use:\n",
      "  %reload_ext autoreload\n"
     ]
    }
   ],
   "source": [
    "%load_ext autoreload\n",
    "%autoreload 2\n",
    "import sys\n",
    "sys.path.insert(0, '../src')\n",
    "from parse_emoji import ParseTweet"
   ]
  },
  {
   "cell_type": "code",
   "execution_count": 20,
   "metadata": {
    "collapsed": true
   },
   "outputs": [],
   "source": [
    "tweet=\"@Ecogine2 @RomainLesenne @JAMmontpellier @Chamade69 Allez petit bonus ^^\""
   ]
  },
  {
   "cell_type": "code",
   "execution_count": 21,
   "metadata": {},
   "outputs": [
    {
     "name": "stdout",
     "output_type": "stream",
     "text": [
      "\\*O|\\*-\\*|\\*O\\*|\\*o\\*|\\* \\*|:P|:D|:d|:p|;P|;D|;d|;p|:-\\)|;-\\)|:=\\)|;=\\)|:<\\)|:>\\)|;>\\)|;=\\)|=\\}|:\\)|\\(:;\\)|\\(;|:\\}|\\{:|<3|;\\}|\\{;:\\]|\\[;|:'\\)|;'\\)|:-3|\\{;|:\\]|;-3|:-x|;-x|:-X|;-X|:-\\}|;-=\\}|:-\\]|;-\\]|:-.\\)|\\^_\\^|\\^-\\^|\\^\\^\n"
     ]
    },
    {
     "data": {
      "text/plain": [
       "'@Ecogine2 @RomainLesenne @JAMmontpellier @Chamade69 Allez petit bonus positive'"
      ]
     },
     "execution_count": 21,
     "metadata": {},
     "output_type": "execute_result"
    }
   ],
   "source": [
    "ParseTweet(tweet)"
   ]
  }
 ],
 "metadata": {
  "kernelspec": {
   "display_name": "Python 3",
   "language": "python",
   "name": "python3"
  },
  "language_info": {
   "codemirror_mode": {
    "name": "ipython",
    "version": 3
   },
   "file_extension": ".py",
   "mimetype": "text/x-python",
   "name": "python",
   "nbconvert_exporter": "python",
   "pygments_lexer": "ipython3",
   "version": "3.6.3"
  }
 },
 "nbformat": 4,
 "nbformat_minor": 2
}

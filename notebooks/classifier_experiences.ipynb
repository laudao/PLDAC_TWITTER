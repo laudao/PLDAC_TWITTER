{
 "cells": [
  {
   "cell_type": "code",
   "execution_count": 1,
   "metadata": {},
   "outputs": [],
   "source": [
    "%load_ext autoreload\n",
    "%autoreload 2\n",
    "import sys\n",
    "sys.path.insert(0, '../src')\n",
    "from utils import *\n",
    "from sklearn.svm import LinearSVC\n",
    "from sklearn.model_selection import train_test_split\n",
    "from sklearn.model_selection import cross_val_score\n",
    "import matplotlib.pyplot as plt\n",
    "from sklearn.metrics import f1_score"
   ]
  },
  {
   "cell_type": "code",
   "execution_count": 2,
   "metadata": {
    "collapsed": true
   },
   "outputs": [],
   "source": [
    "fr_stopwords = french_stopwords()"
   ]
  },
  {
   "cell_type": "code",
   "execution_count": 3,
   "metadata": {
    "collapsed": true
   },
   "outputs": [],
   "source": [
    "interval = [10**-4, 10**-3, 10**-2, 10**-1, 1, 10, 10**2, 10**3]"
   ]
  },
  {
   "cell_type": "markdown",
   "metadata": {},
   "source": [
    "## Decathlon"
   ]
  },
  {
   "cell_type": "code",
   "execution_count": 4,
   "metadata": {
    "collapsed": true
   },
   "outputs": [],
   "source": [
    "data = pd.read_csv('../csv/decathlon_reviews.csv')"
   ]
  },
  {
   "cell_type": "code",
   "execution_count": 5,
   "metadata": {},
   "outputs": [
    {
     "data": {
      "text/plain": [
       "0.8713345969450329"
      ]
     },
     "execution_count": 5,
     "metadata": {},
     "output_type": "execute_result"
    }
   ],
   "source": [
    "np.count_nonzero(data.label == 1) / len(data)"
   ]
  },
  {
   "cell_type": "code",
   "execution_count": 6,
   "metadata": {},
   "outputs": [
    {
     "data": {
      "text/plain": [
       "0.1286654030549671"
      ]
     },
     "execution_count": 6,
     "metadata": {},
     "output_type": "execute_result"
    }
   ],
   "source": [
    "np.count_nonzero(data.label == -1) / len(data)"
   ]
  },
  {
   "cell_type": "code",
   "execution_count": 7,
   "metadata": {},
   "outputs": [
    {
     "data": {
      "text/plain": [
       "53814"
      ]
     },
     "execution_count": 7,
     "metadata": {},
     "output_type": "execute_result"
    }
   ],
   "source": [
    "len(data)"
   ]
  },
  {
   "cell_type": "code",
   "execution_count": 8,
   "metadata": {
    "collapsed": true
   },
   "outputs": [],
   "source": [
    "review_list=np.array(list(data.review))\n",
    "target = np.array(data.label)"
   ]
  },
  {
   "cell_type": "markdown",
   "metadata": {},
   "source": [
    "### 1) version 1 : (PP: remove numbers + remove accent + 10000 features)"
   ]
  },
  {
   "cell_type": "code",
   "execution_count": 9,
   "metadata": {
    "collapsed": true
   },
   "outputs": [],
   "source": [
    "fname=\"decathlon/v1\""
   ]
  },
  {
   "cell_type": "code",
   "execution_count": 10,
   "metadata": {
    "collapsed": true
   },
   "outputs": [],
   "source": [
    "#[vectorizer, X] = build_vectorizer(review_list, stopwords=None, \\\n",
    "#                                         b_rmaccent=True, b_rmnumbers=True, max_features=10000)\n",
    "\n",
    "#save_vectorizer(vectorizer,fname)"
   ]
  },
  {
   "cell_type": "code",
   "execution_count": 10,
   "metadata": {},
   "outputs": [
    {
     "name": "stderr",
     "output_type": "stream",
     "text": [
      "/Users/lauranguyen/anaconda3/lib/python3.5/site-packages/sklearn/base.py:251: UserWarning: Trying to unpickle estimator CountVectorizer from version 0.19.1 when using version 0.20.0. This might lead to breaking code or invalid results. Use at your own risk.\n",
      "  UserWarning)\n"
     ]
    }
   ],
   "source": [
    "vectorizer=load_vectorizer(fname)\n",
    "X= vectorizer.fit_transform(review_list.astype('U'))"
   ]
  },
  {
   "cell_type": "code",
   "execution_count": 11,
   "metadata": {},
   "outputs": [
    {
     "name": "stdout",
     "output_type": "stream",
     "text": [
      "10000\n"
     ]
    }
   ],
   "source": [
    "features = vectorizer.get_feature_names()\n",
    "print(len(features))"
   ]
  },
  {
   "cell_type": "code",
   "execution_count": 13,
   "metadata": {
    "collapsed": true
   },
   "outputs": [],
   "source": [
    "#vectorizer.get_feature_names()"
   ]
  },
  {
   "cell_type": "code",
   "execution_count": 12,
   "metadata": {},
   "outputs": [
    {
     "data": {
      "text/plain": [
       "(53814, 10000)"
      ]
     },
     "execution_count": 12,
     "metadata": {},
     "output_type": "execute_result"
    }
   ],
   "source": [
    "X.shape"
   ]
  },
  {
   "cell_type": "code",
   "execution_count": 13,
   "metadata": {
    "collapsed": true
   },
   "outputs": [],
   "source": [
    "X_train, X_test, y_train, y_test = train_test_split(X, target, test_size=0.3,random_state=0,stratify=target)"
   ]
  },
  {
   "cell_type": "code",
   "execution_count": 14,
   "metadata": {},
   "outputs": [
    {
     "name": "stderr",
     "output_type": "stream",
     "text": [
      "/Users/lauranguyen/anaconda3/lib/python3.5/site-packages/sklearn/svm/base.py:922: ConvergenceWarning: Liblinear failed to converge, increase the number of iterations.\n",
      "  \"the number of iterations.\", ConvergenceWarning)\n",
      "/Users/lauranguyen/anaconda3/lib/python3.5/site-packages/sklearn/svm/base.py:922: ConvergenceWarning: Liblinear failed to converge, increase the number of iterations.\n",
      "  \"the number of iterations.\", ConvergenceWarning)\n",
      "/Users/lauranguyen/anaconda3/lib/python3.5/site-packages/sklearn/svm/base.py:922: ConvergenceWarning: Liblinear failed to converge, increase the number of iterations.\n",
      "  \"the number of iterations.\", ConvergenceWarning)\n",
      "/Users/lauranguyen/anaconda3/lib/python3.5/site-packages/sklearn/svm/base.py:922: ConvergenceWarning: Liblinear failed to converge, increase the number of iterations.\n",
      "  \"the number of iterations.\", ConvergenceWarning)\n"
     ]
    }
   ],
   "source": [
    "mean_scores = []\n",
    "for C in interval:\n",
    "    clf = LinearSVC(C=C)\n",
    "    scores = cross_val_score(clf, X_train, y_train, cv=4,scoring='f1')\n",
    "    mean_scores.append(np.mean(scores)) "
   ]
  },
  {
   "cell_type": "code",
   "execution_count": 15,
   "metadata": {},
   "outputs": [
    {
     "data": {
      "image/png": "[encoded data removed]",
      "text/plain": [
       "<Figure size 432x288 with 1 Axes>"
      ]
     },
     "metadata": {},
     "output_type": "display_data"
    }
   ],
   "source": [
    "ax = plt.gca()\n",
    "\n",
    "ax.plot(interval, mean_scores)\n",
    "ax.set_xscale('log')\n",
    "plt.xlabel('C')\n",
    "plt.ylabel('Score F1 moyen')\n",
    "plt.axis('tight')\n",
    "plt.show()"
   ]
  },
  {
   "cell_type": "code",
   "execution_count": 16,
   "metadata": {},
   "outputs": [
    {
     "data": {
      "text/plain": [
       "0.67300699300699307"
      ]
     },
     "execution_count": 16,
     "metadata": {},
     "output_type": "execute_result"
    }
   ],
   "source": [
    "C_opt = interval[np.argmax(mean_scores)]\n",
    "clf = LinearSVC(C=C_opt)\n",
    "clf.fit(X_train,y_train)\n",
    "y_pred=clf.predict(X_test)\n",
    "f1_score(y_test,y_pred,pos_label=-1)"
   ]
  },
  {
   "cell_type": "code",
   "execution_count": 17,
   "metadata": {
    "collapsed": true
   },
   "outputs": [],
   "source": [
    "ind_neg = np.argsort(clf.coef_).flatten()[0:10]\n",
    "ind_pos = np.argsort(clf.coef_).flatten()[clf.coef_.shape[1]-10:]"
   ]
  },
  {
   "cell_type": "code",
   "execution_count": 23,
   "metadata": {},
   "outputs": [
    {
     "data": {
      "text/html": [
       "<div>\n",
       "<style scoped>\n",
       "    .dataframe tbody tr th:only-of-type {\n",
       "        vertical-align: middle;\n",
       "    }\n",
       "\n",
       "    .dataframe tbody tr th {\n",
       "        vertical-align: top;\n",
       "    }\n",
       "\n",
       "    .dataframe thead th {\n",
       "        text-align: right;\n",
       "    }\n",
       "</style>\n",
       "<table border=\"1\" class=\"dataframe\">\n",
       "  <thead>\n",
       "    <tr style=\"text-align: right;\">\n",
       "      <th></th>\n",
       "      <th>Mots négatifs</th>\n",
       "    </tr>\n",
       "  </thead>\n",
       "  <tbody>\n",
       "    <tr>\n",
       "      <th>0</th>\n",
       "      <td>déconseille</td>\n",
       "    </tr>\n",
       "    <tr>\n",
       "      <th>1</th>\n",
       "      <td>médiocre</td>\n",
       "    </tr>\n",
       "    <tr>\n",
       "      <th>2</th>\n",
       "      <td>déception</td>\n",
       "    </tr>\n",
       "    <tr>\n",
       "      <th>3</th>\n",
       "      <td>décu</td>\n",
       "    </tr>\n",
       "    <tr>\n",
       "      <th>4</th>\n",
       "      <td>décevant</td>\n",
       "    </tr>\n",
       "    <tr>\n",
       "      <th>5</th>\n",
       "      <td>déçut</td>\n",
       "    </tr>\n",
       "    <tr>\n",
       "      <th>6</th>\n",
       "      <td>mauvaise</td>\n",
       "    </tr>\n",
       "    <tr>\n",
       "      <th>7</th>\n",
       "      <td>déconseiller</td>\n",
       "    </tr>\n",
       "    <tr>\n",
       "      <th>8</th>\n",
       "      <td>dangereux</td>\n",
       "    </tr>\n",
       "    <tr>\n",
       "      <th>9</th>\n",
       "      <td>Déception</td>\n",
       "    </tr>\n",
       "  </tbody>\n",
       "</table>\n",
       "</div>"
      ],
      "text/plain": [
       "  Mots négatifs\n",
       "0   déconseille\n",
       "1      médiocre\n",
       "2     déception\n",
       "3          décu\n",
       "4      décevant\n",
       "5         déçut\n",
       "6      mauvaise\n",
       "7  déconseiller\n",
       "8     dangereux\n",
       "9     Déception"
      ]
     },
     "execution_count": 23,
     "metadata": {},
     "output_type": "execute_result"
    }
   ],
   "source": [
    "pd.DataFrame(np.array(vectorizer.get_feature_names())[ind_neg], columns=[\"Mots négatifs\"])"
   ]
  },
  {
   "cell_type": "code",
   "execution_count": 24,
   "metadata": {},
   "outputs": [
    {
     "data": {
      "text/html": [
       "<div>\n",
       "<style scoped>\n",
       "    .dataframe tbody tr th:only-of-type {\n",
       "        vertical-align: middle;\n",
       "    }\n",
       "\n",
       "    .dataframe tbody tr th {\n",
       "        vertical-align: top;\n",
       "    }\n",
       "\n",
       "    .dataframe thead th {\n",
       "        text-align: right;\n",
       "    }\n",
       "</style>\n",
       "<table border=\"1\" class=\"dataframe\">\n",
       "  <thead>\n",
       "    <tr style=\"text-align: right;\">\n",
       "      <th></th>\n",
       "      <th>Mots positifs</th>\n",
       "    </tr>\n",
       "  </thead>\n",
       "  <tbody>\n",
       "    <tr>\n",
       "      <th>0</th>\n",
       "      <td>toutefois</td>\n",
       "    </tr>\n",
       "    <tr>\n",
       "      <th>1</th>\n",
       "      <td>instant</td>\n",
       "    </tr>\n",
       "    <tr>\n",
       "      <th>2</th>\n",
       "      <td>40</td>\n",
       "    </tr>\n",
       "    <tr>\n",
       "      <th>3</th>\n",
       "      <td>génial</td>\n",
       "    </tr>\n",
       "    <tr>\n",
       "      <th>4</th>\n",
       "      <td>grave</td>\n",
       "    </tr>\n",
       "    <tr>\n",
       "      <th>5</th>\n",
       "      <td>Excellent</td>\n",
       "    </tr>\n",
       "    <tr>\n",
       "      <th>6</th>\n",
       "      <td>apprécié</td>\n",
       "    </tr>\n",
       "    <tr>\n",
       "      <th>7</th>\n",
       "      <td>adore</td>\n",
       "    </tr>\n",
       "    <tr>\n",
       "      <th>8</th>\n",
       "      <td>excellent</td>\n",
       "    </tr>\n",
       "    <tr>\n",
       "      <th>9</th>\n",
       "      <td>abimer</td>\n",
       "    </tr>\n",
       "  </tbody>\n",
       "</table>\n",
       "</div>"
      ],
      "text/plain": [
       "  Mots positifs\n",
       "0     toutefois\n",
       "1       instant\n",
       "2            40\n",
       "3        génial\n",
       "4         grave\n",
       "5     Excellent\n",
       "6      apprécié\n",
       "7         adore\n",
       "8     excellent\n",
       "9        abimer"
      ]
     },
     "execution_count": 24,
     "metadata": {},
     "output_type": "execute_result"
    }
   ],
   "source": [
    "pd.DataFrame(np.array(vectorizer.get_feature_names())[ind_pos], columns=[\"Mots positifs\"])"
   ]
  },
  {
   "cell_type": "markdown",
   "metadata": {},
   "source": [
    "### 2) version 2 : (PP: remove numbers + remove accent +remove stopwords+ steemming+10000 features)"
   ]
  },
  {
   "cell_type": "code",
   "execution_count": 19,
   "metadata": {
    "collapsed": true
   },
   "outputs": [],
   "source": [
    "fname=\"decathlon/v2\""
   ]
  },
  {
   "cell_type": "code",
   "execution_count": 20,
   "metadata": {
    "collapsed": true
   },
   "outputs": [],
   "source": [
    "#[vectorizer, X] = build_vectorizer(review_list, stopwords=fr_stopwords, b_stemming=True,\\\n",
    "#                                          b_rmaccent=True, b_rmnumbers=True, max_features=10000)\n",
    "\n",
    "#save_vectorizer(vectorizer,fname)"
   ]
  },
  {
   "cell_type": "code",
   "execution_count": 21,
   "metadata": {
    "collapsed": true
   },
   "outputs": [],
   "source": [
    "vectorizer=load_vectorizer(fname)\n",
    "X= vectorizer.fit_transform(review_list.astype('U'))"
   ]
  },
  {
   "cell_type": "code",
   "execution_count": 22,
   "metadata": {
    "collapsed": true
   },
   "outputs": [],
   "source": [
    "X_train, X_test, y_train, y_test = train_test_split(X, target, test_size=0.3,random_state=0,stratify=target)"
   ]
  },
  {
   "cell_type": "code",
   "execution_count": 23,
   "metadata": {
    "collapsed": true
   },
   "outputs": [],
   "source": [
    "mean_scores = []\n",
    "for C in interval:\n",
    "    clf = LinearSVC(C=C)\n",
    "    scores = cross_val_score(clf, X_train, y_train, cv=4,scoring='f1')\n",
    "    mean_scores.append(np.mean(scores)) "
   ]
  },
  {
   "cell_type": "code",
   "execution_count": 24,
   "metadata": {},
   "outputs": [
    {
     "data": {
      "image/png": "[encoded data removed]",
      "text/plain": [
       "<matplotlib.figure.Figure at 0x7f1a991830b8>"
      ]
     },
     "metadata": {},
     "output_type": "display_data"
    }
   ],
   "source": [
    "plt.plot(interval, mean_scores)\n",
    "plt.show()"
   ]
  },
  {
   "cell_type": "code",
   "execution_count": 25,
   "metadata": {},
   "outputs": [
    {
     "data": {
      "text/plain": [
       "0.6709569110240627"
      ]
     },
     "execution_count": 25,
     "metadata": {},
     "output_type": "execute_result"
    }
   ],
   "source": [
    "C_opt = interval[np.argmax(mean_scores)]\n",
    "clf = LinearSVC(C=C_opt)\n",
    "clf.fit(X_train,y_train)\n",
    "y_pred=clf.predict(X_test)\n",
    "f1_score(y_test,y_pred,pos_label=-1)"
   ]
  },
  {
   "cell_type": "code",
   "execution_count": 26,
   "metadata": {
    "collapsed": true
   },
   "outputs": [],
   "source": [
    "words_freq=get_words_freq(vectorizer, X)\n"
   ]
  },
  {
   "cell_type": "code",
   "execution_count": 27,
   "metadata": {},
   "outputs": [
    {
     "data": {
      "text/plain": [
       "14694"
      ]
     },
     "execution_count": 27,
     "metadata": {},
     "output_type": "execute_result"
    }
   ],
   "source": [
    "max(map(lambda x: x[1],words_freq))"
   ]
  },
  {
   "cell_type": "code",
   "execution_count": 28,
   "metadata": {},
   "outputs": [
    {
     "data": {
      "text/plain": [
       "2"
      ]
     },
     "execution_count": 28,
     "metadata": {},
     "output_type": "execute_result"
    }
   ],
   "source": [
    "min(map(lambda x: x[1],words_freq))"
   ]
  },
  {
   "cell_type": "markdown",
   "metadata": {},
   "source": [
    "### 3) version 3 : (PP: remove numbers + remove accent +steemming+min_f=0.0002 +max_f=0.02)"
   ]
  },
  {
   "cell_type": "code",
   "execution_count": 29,
   "metadata": {
    "collapsed": true
   },
   "outputs": [],
   "source": [
    "fname=\"decathlon/v3\""
   ]
  },
  {
   "cell_type": "code",
   "execution_count": 30,
   "metadata": {
    "collapsed": true
   },
   "outputs": [],
   "source": [
    "#[vectorizer, X] = build_vectorizer(review_list,b_rmaccent=True, b_rmnumbers=True,min_df=0.0002,max_df=0.02)\n",
    "\n",
    "#save_vectorizer(vectorizer,fname)"
   ]
  },
  {
   "cell_type": "code",
   "execution_count": 31,
   "metadata": {
    "collapsed": true
   },
   "outputs": [],
   "source": [
    "vectorizer=load_vectorizer(fname)\n",
    "X= vectorizer.fit_transform(review_list.astype('U'))"
   ]
  },
  {
   "cell_type": "code",
   "execution_count": 32,
   "metadata": {},
   "outputs": [
    {
     "name": "stdout",
     "output_type": "stream",
     "text": [
      "5544\n"
     ]
    }
   ],
   "source": [
    "features = vectorizer.get_feature_names()\n",
    "print(len(features))"
   ]
  },
  {
   "cell_type": "code",
   "execution_count": 33,
   "metadata": {
    "collapsed": true
   },
   "outputs": [],
   "source": [
    "words_freq=get_words_freq(vectorizer, X)"
   ]
  },
  {
   "cell_type": "code",
   "execution_count": 34,
   "metadata": {},
   "outputs": [
    {
     "data": {
      "text/plain": [
       "11"
      ]
     },
     "execution_count": 34,
     "metadata": {},
     "output_type": "execute_result"
    }
   ],
   "source": [
    "min(map(lambda x: x[1],words_freq))"
   ]
  },
  {
   "cell_type": "code",
   "execution_count": 35,
   "metadata": {},
   "outputs": [
    {
     "data": {
      "text/plain": [
       "1281"
      ]
     },
     "execution_count": 35,
     "metadata": {},
     "output_type": "execute_result"
    }
   ],
   "source": [
    "max(map(lambda x: x[1],words_freq))"
   ]
  },
  {
   "cell_type": "code",
   "execution_count": 36,
   "metadata": {
    "collapsed": true
   },
   "outputs": [],
   "source": [
    "X_train, X_test, y_train, y_test = train_test_split(X, target, test_size=0.3,random_state=0,stratify=target)"
   ]
  },
  {
   "cell_type": "code",
   "execution_count": 37,
   "metadata": {
    "collapsed": true
   },
   "outputs": [],
   "source": [
    "mean_scores = []\n",
    "for C in interval:\n",
    "    clf = LinearSVC(C=C)\n",
    "    scores = cross_val_score(clf, X_train, y_train, cv=4,scoring='f1')\n",
    "    mean_scores.append(np.mean(scores)) "
   ]
  },
  {
   "cell_type": "code",
   "execution_count": 38,
   "metadata": {},
   "outputs": [
    {
     "data": {
      "image/png": "[encoded data removed]",
      "text/plain": [
       "<matplotlib.figure.Figure at 0x7f1a99203b00>"
      ]
     },
     "metadata": {},
     "output_type": "display_data"
    }
   ],
   "source": [
    "plt.plot(interval, mean_scores)\n",
    "plt.show()"
   ]
  },
  {
   "cell_type": "code",
   "execution_count": 39,
   "metadata": {},
   "outputs": [
    {
     "data": {
      "text/plain": [
       "0.6221574344023323"
      ]
     },
     "execution_count": 39,
     "metadata": {},
     "output_type": "execute_result"
    }
   ],
   "source": [
    "C_opt = interval[np.argmax(mean_scores)]\n",
    "clf = LinearSVC(C=C_opt)\n",
    "clf.fit(X_train,y_train)\n",
    "y_pred=clf.predict(X_test)\n",
    "f1_score(y_test,y_pred,pos_label=-1)"
   ]
  },
  {
   "cell_type": "markdown",
   "metadata": {},
   "source": [
    "## Movies"
   ]
  },
  {
   "cell_type": "code",
   "execution_count": 5,
   "metadata": {},
   "outputs": [],
   "source": [
    "data_movies = pd.read_csv('../csv/movie_reviews.csv')\n",
    "review_list_movies=np.array(list(data_movies.review))\n",
    "target_movies = np.array(data_movies.label)"
   ]
  },
  {
   "cell_type": "code",
   "execution_count": 7,
   "metadata": {},
   "outputs": [
    {
     "name": "stdout",
     "output_type": "stream",
     "text": [
      "0.8365562575786585\n",
      "0.1634437424213415\n"
     ]
    }
   ],
   "source": [
    "print(np.count_nonzero(data_movies.label == -1) / len(data_movies))\n",
    "print(np.count_nonzero(data_movies.label == 1) / len(data_movies))"
   ]
  },
  {
   "cell_type": "code",
   "execution_count": 42,
   "metadata": {},
   "outputs": [
    {
     "data": {
      "text/plain": [
       "53814"
      ]
     },
     "execution_count": 42,
     "metadata": {},
     "output_type": "execute_result"
    }
   ],
   "source": [
    "len(data)"
   ]
  },
  {
   "cell_type": "markdown",
   "metadata": {},
   "source": [
    "### 1) version 1 : (PP: remove numbers + remove accent + 10000 features)"
   ]
  },
  {
   "cell_type": "code",
   "execution_count": 43,
   "metadata": {
    "collapsed": true
   },
   "outputs": [],
   "source": [
    "fname=\"movies/v1\""
   ]
  },
  {
   "cell_type": "code",
   "execution_count": 44,
   "metadata": {
    "collapsed": true
   },
   "outputs": [],
   "source": [
    "#[vectorizer, X] = build_vectorizer(review_list_movies,stopwords=None, \\\n",
    "#                                         b_rmaccent=True, b_rmnumbers=True, max_features=10000)\n",
    "#save_vectorizer(vectorizer,fname)"
   ]
  },
  {
   "cell_type": "code",
   "execution_count": 45,
   "metadata": {
    "collapsed": true
   },
   "outputs": [],
   "source": [
    "vectorizer=load_vectorizer(fname)\n",
    "X= vectorizer.fit_transform(review_list_movies.astype('U'))"
   ]
  },
  {
   "cell_type": "code",
   "execution_count": 46,
   "metadata": {},
   "outputs": [
    {
     "name": "stdout",
     "output_type": "stream",
     "text": [
      "10000\n"
     ]
    }
   ],
   "source": [
    "features = vectorizer.get_feature_names()\n",
    "print(len(features))"
   ]
  },
  {
   "cell_type": "code",
   "execution_count": 47,
   "metadata": {
    "collapsed": true
   },
   "outputs": [],
   "source": [
    "X_train, X_test, y_train, y_test = train_test_split(X, target_movies, test_size=0.3,random_state=0,stratify=target_movies)"
   ]
  },
  {
   "cell_type": "code",
   "execution_count": 48,
   "metadata": {},
   "outputs": [
    {
     "name": "stdout",
     "output_type": "stream",
     "text": [
      "0.8366305041480536\n"
     ]
    }
   ],
   "source": [
    "#vectorizer.get_feature_names()\n",
    "print(np.count_nonzero(y_test == -1) / len(y_test))"
   ]
  },
  {
   "cell_type": "code",
   "execution_count": 49,
   "metadata": {
    "collapsed": true
   },
   "outputs": [],
   "source": [
    "mean_scores = []\n",
    "for C in interval[1:]:\n",
    "    clf = LinearSVC(C=C)\n",
    "    scores = cross_val_score(clf, X_train, y_train, cv=4,scoring='f1')\n",
    "    mean_scores.append(np.mean(scores))"
   ]
  },
  {
   "cell_type": "code",
   "execution_count": 50,
   "metadata": {},
   "outputs": [
    {
     "data": {
      "text/plain": [
       "0.2776777775241919"
      ]
     },
     "execution_count": 50,
     "metadata": {},
     "output_type": "execute_result"
    }
   ],
   "source": [
    "mean_scores[0]"
   ]
  },
  {
   "cell_type": "code",
   "execution_count": 51,
   "metadata": {},
   "outputs": [
    {
     "data": {
      "image/png": "[encoded data removed]",
      "text/plain": [
       "<matplotlib.figure.Figure at 0x7f1a9925a6a0>"
      ]
     },
     "metadata": {},
     "output_type": "display_data"
    }
   ],
   "source": [
    "plt.plot(interval[1:], mean_scores)\n",
    "plt.show()"
   ]
  },
  {
   "cell_type": "code",
   "execution_count": 52,
   "metadata": {},
   "outputs": [
    {
     "data": {
      "text/plain": [
       "0.9456774984671981"
      ]
     },
     "execution_count": 52,
     "metadata": {},
     "output_type": "execute_result"
    }
   ],
   "source": [
    "C_opt = interval[np.argmax(mean_scores)]\n",
    "clf = LinearSVC(C=C_opt)\n",
    "clf.fit(X_train,y_train)\n",
    "y_pred=clf.predict(X_test)\n",
    "f1_score(y_test,y_pred,pos_label=-1)"
   ]
  },
  {
   "cell_type": "markdown",
   "metadata": {},
   "source": [
    "### 2) version 2 : (PP: remove numbers + remove accent +remove stopwords+ steemming+10000 features)"
   ]
  },
  {
   "cell_type": "code",
   "execution_count": 72,
   "metadata": {
    "collapsed": true
   },
   "outputs": [],
   "source": [
    "fname=\"movies/v2\""
   ]
  },
  {
   "cell_type": "code",
   "execution_count": 54,
   "metadata": {
    "collapsed": true
   },
   "outputs": [],
   "source": [
    "#[vectorizer, X] = build_vectorizer(review_list_movies, stopwords=fr_stopwords, b_stemming=True,\\\n",
    "#                                          b_rmaccent=True, b_rmnumbers=True, max_features=10000)\n",
    "\n",
    "#save_vectorizer(vectorizer,fname)"
   ]
  },
  {
   "cell_type": "code",
   "execution_count": 73,
   "metadata": {
    "collapsed": true
   },
   "outputs": [],
   "source": [
    "vectorizer=load_vectorizer(fname)\n",
    "X= vectorizer.fit_transform(review_list_movies.astype('U'))\n"
   ]
  },
  {
   "cell_type": "code",
   "execution_count": 74,
   "metadata": {
    "collapsed": true
   },
   "outputs": [],
   "source": [
    "X_train, X_test, y_train, y_test = train_test_split(X, target_movies, test_size=0.3,random_state=0,stratify=target_movies)"
   ]
  },
  {
   "cell_type": "code",
   "execution_count": 75,
   "metadata": {
    "collapsed": true
   },
   "outputs": [],
   "source": [
    "mean_scores = []\n",
    "for C in interval[1:]:\n",
    "    clf = LinearSVC(C=C)\n",
    "    scores = cross_val_score(clf, X_train, y_train, cv=4,scoring='f1')\n",
    "    mean_scores.append(np.mean(scores)) "
   ]
  },
  {
   "cell_type": "code",
   "execution_count": 76,
   "metadata": {},
   "outputs": [
    {
     "data": {
      "image/png": "[encoded data removed]",
      "text/plain": [
       "<matplotlib.figure.Figure at 0x7fab804ce320>"
      ]
     },
     "metadata": {},
     "output_type": "display_data"
    }
   ],
   "source": [
    "plt.plot(interval[1:], mean_scores)\n",
    "plt.show()"
   ]
  },
  {
   "cell_type": "code",
   "execution_count": 77,
   "metadata": {},
   "outputs": [
    {
     "data": {
      "text/plain": [
       "0.9468622857847367"
      ]
     },
     "execution_count": 77,
     "metadata": {},
     "output_type": "execute_result"
    }
   ],
   "source": [
    "C_opt = interval[np.argmax(mean_scores)]\n",
    "clf = LinearSVC(C=C_opt)\n",
    "clf.fit(X_train,y_train)\n",
    "y_pred=clf.predict(X_test)\n",
    "f1_score(y_test,y_pred,pos_label=-1)"
   ]
  },
  {
   "cell_type": "code",
   "execution_count": 60,
   "metadata": {
    "collapsed": true
   },
   "outputs": [],
   "source": [
    "words_freq=get_words_freq(vectorizer, X)"
   ]
  },
  {
   "cell_type": "code",
   "execution_count": 61,
   "metadata": {},
   "outputs": [
    {
     "data": {
      "text/plain": [
       "22221"
      ]
     },
     "execution_count": 61,
     "metadata": {},
     "output_type": "execute_result"
    }
   ],
   "source": [
    "max(map(lambda x: x[1],words_freq))"
   ]
  },
  {
   "cell_type": "code",
   "execution_count": 62,
   "metadata": {},
   "outputs": [
    {
     "data": {
      "text/plain": [
       "2"
      ]
     },
     "execution_count": 62,
     "metadata": {},
     "output_type": "execute_result"
    }
   ],
   "source": [
    "min(map(lambda x: x[1],words_freq))"
   ]
  },
  {
   "cell_type": "markdown",
   "metadata": {},
   "source": [
    "### 3) version 3 : (PP: remove numbers + remove accent +steemming+min_f=0.0002 +max_f=0.02)"
   ]
  },
  {
   "cell_type": "code",
   "execution_count": 63,
   "metadata": {
    "collapsed": true
   },
   "outputs": [],
   "source": [
    "fname=\"movies/v3\""
   ]
  },
  {
   "cell_type": "code",
   "execution_count": 64,
   "metadata": {
    "collapsed": true
   },
   "outputs": [],
   "source": [
    "#[vectorizer, X] = build_vectorizer(review_list_movies,b_rmaccent=True, b_rmnumbers=True,min_df=0.001,max_df=0.3)\n",
    "\n",
    "#save_vectorizer(vectorizer,fname)"
   ]
  },
  {
   "cell_type": "code",
   "execution_count": 65,
   "metadata": {
    "collapsed": true
   },
   "outputs": [],
   "source": [
    "vectorizer=load_vectorizer(fname)\n",
    "X= vectorizer.fit_transform(review_list_movies.astype('U'))"
   ]
  },
  {
   "cell_type": "code",
   "execution_count": 66,
   "metadata": {
    "collapsed": true
   },
   "outputs": [],
   "source": [
    "X_train, X_test, y_train, y_test = train_test_split(X, target_movies, test_size=0.3,random_state=0,stratify=target_movies)"
   ]
  },
  {
   "cell_type": "code",
   "execution_count": 67,
   "metadata": {},
   "outputs": [
    {
     "name": "stdout",
     "output_type": "stream",
     "text": [
      "4136\n"
     ]
    }
   ],
   "source": [
    "features = vectorizer.get_feature_names()\n",
    "print(len(features))"
   ]
  },
  {
   "cell_type": "code",
   "execution_count": 68,
   "metadata": {
    "collapsed": true
   },
   "outputs": [],
   "source": [
    "words_freq=get_words_freq(vectorizer, X)"
   ]
  },
  {
   "cell_type": "code",
   "execution_count": 69,
   "metadata": {},
   "outputs": [
    {
     "data": {
      "text/plain": [
       "16"
      ]
     },
     "execution_count": 69,
     "metadata": {},
     "output_type": "execute_result"
    }
   ],
   "source": [
    "min(map(lambda x: x[1],words_freq))"
   ]
  },
  {
   "cell_type": "code",
   "execution_count": 70,
   "metadata": {},
   "outputs": [
    {
     "data": {
      "text/plain": [
       "6340"
      ]
     },
     "execution_count": 70,
     "metadata": {},
     "output_type": "execute_result"
    }
   ],
   "source": [
    "max(map(lambda x: x[1],words_freq))"
   ]
  },
  {
   "cell_type": "code",
   "execution_count": 71,
   "metadata": {
    "collapsed": true
   },
   "outputs": [],
   "source": [
    "mean_scores = []\n",
    "for C in interval[1:]:\n",
    "    clf = LinearSVC(C=C)\n",
    "    scores = cross_val_score(clf, X_train, y_train, cv=4,scoring='f1')\n",
    "    mean_scores.append(np.mean(scores)) "
   ]
  },
  {
   "cell_type": "code",
   "execution_count": 72,
   "metadata": {},
   "outputs": [
    {
     "data": {
      "image/png": "[encoded data removed]",
      "text/plain": [
       "<matplotlib.figure.Figure at 0x7f1a98e1dd30>"
      ]
     },
     "metadata": {},
     "output_type": "display_data"
    }
   ],
   "source": [
    "plt.plot(interval[1:], mean_scores)\n",
    "plt.show()"
   ]
  },
  {
   "cell_type": "code",
   "execution_count": 73,
   "metadata": {},
   "outputs": [
    {
     "data": {
      "text/plain": [
       "0.9443354585581167"
      ]
     },
     "execution_count": 73,
     "metadata": {},
     "output_type": "execute_result"
    }
   ],
   "source": [
    "C_opt = interval[np.argmax(mean_scores)]\n",
    "clf = LinearSVC(C=C_opt)\n",
    "clf.fit(X_train,y_train)\n",
    "y_pred=clf.predict(X_test)\n",
    "f1_score(y_test,y_pred,pos_label=-1)"
   ]
  },
  {
   "cell_type": "markdown",
   "metadata": {},
   "source": [
    "## Tweets Traduis"
   ]
  },
  {
   "cell_type": "code",
   "execution_count": 51,
   "metadata": {},
   "outputs": [],
   "source": [
    "data_git = pd.read_csv(\"../csv/tweets_git.csv\")\n",
    "tweet_list_start=np.array(data_git.review)[:10000].astype('U')\n",
    "tweet_list_end=np.array(data_git.review)[-10000:].astype('U')\n",
    "label_list_start=np.array(data_git.label)[:10000]\n",
    "label_list_end=np.array(data_git.label)[-10000:]"
   ]
  },
  {
   "cell_type": "code",
   "execution_count": 5,
   "metadata": {},
   "outputs": [
    {
     "name": "stdout",
     "output_type": "stream",
     "text": [
      "0.5034518552265773\n",
      "0.4965481447734227\n"
     ]
    }
   ],
   "source": [
    "print(np.count_nonzero(data_git.label == -1) / len(data_git))\n",
    "print(np.count_nonzero(data_git.label == 1) / len(data_git))"
   ]
  },
  {
   "cell_type": "code",
   "execution_count": 56,
   "metadata": {},
   "outputs": [],
   "source": [
    "target_tweets = np.append(label_list_start,label_list_end)\n",
    "\n"
   ]
  },
  {
   "cell_type": "code",
   "execution_count": 55,
   "metadata": {},
   "outputs": [],
   "source": [
    "tweet_list = np.append(tweet_list_start,tweet_list_end)"
   ]
  },
  {
   "cell_type": "code",
   "execution_count": 9,
   "metadata": {},
   "outputs": [
    {
     "data": {
      "text/plain": [
       "20000"
      ]
     },
     "execution_count": 9,
     "metadata": {},
     "output_type": "execute_result"
    }
   ],
   "source": [
    "len(tweet_list)\n"
   ]
  },
  {
   "cell_type": "code",
   "execution_count": 10,
   "metadata": {},
   "outputs": [
    {
     "data": {
      "text/plain": [
       "20000"
      ]
     },
     "execution_count": 10,
     "metadata": {},
     "output_type": "execute_result"
    }
   ],
   "source": [
    "len(target_tweets)"
   ]
  },
  {
   "cell_type": "code",
   "execution_count": 11,
   "metadata": {},
   "outputs": [
    {
     "name": "stdout",
     "output_type": "stream",
     "text": [
      "0.4999\n",
      "0.5001\n"
     ]
    }
   ],
   "source": [
    "print(np.count_nonzero(target_tweets == -1) / len(target_tweets))\n",
    "print(np.count_nonzero(target_tweets == 1) / len(target_tweets))"
   ]
  },
  {
   "cell_type": "markdown",
   "metadata": {},
   "source": [
    "### 1) version 1 : (PP: remove numbers + remove accent + 10000 features)"
   ]
  },
  {
   "cell_type": "code",
   "execution_count": 84,
   "metadata": {
    "collapsed": true
   },
   "outputs": [],
   "source": [
    "fname=\"twitter/v1\""
   ]
  },
  {
   "cell_type": "code",
   "execution_count": 14,
   "metadata": {
    "collapsed": true
   },
   "outputs": [],
   "source": [
    "#[vectorizer, X] = build_vectorizer(tweet_list, stopwords=None, \\\n",
    "#                                         b_rmaccent=True, b_rmnumbers=True, max_features=10000)\n",
    "\n",
    "#save_vectorizer(vectorizer,fname)"
   ]
  },
  {
   "cell_type": "code",
   "execution_count": 85,
   "metadata": {
    "collapsed": true
   },
   "outputs": [],
   "source": [
    "vectorizer=load_vectorizer(fname)\n",
    "X= vectorizer.fit_transform(tweet_list.astype('U'))"
   ]
  },
  {
   "cell_type": "code",
   "execution_count": 86,
   "metadata": {
    "collapsed": true
   },
   "outputs": [],
   "source": [
    "X_train, X_test, y_train, y_test = train_test_split(X, target_tweets, test_size=0.3,random_state=0,stratify=target_tweets)"
   ]
  },
  {
   "cell_type": "code",
   "execution_count": 87,
   "metadata": {
    "collapsed": true
   },
   "outputs": [],
   "source": [
    "mean_scores = []\n",
    "for C in interval:\n",
    "    clf = LinearSVC(C=C)\n",
    "    scores = cross_val_score(clf, X_train, y_train, cv=4)\n",
    "    mean_scores.append(np.mean(scores)) "
   ]
  },
  {
   "cell_type": "code",
   "execution_count": 88,
   "metadata": {},
   "outputs": [
    {
     "data": {
      "image/png": "[encoded data removed]",
      "text/plain": [
       "<matplotlib.figure.Figure at 0x7fab2f8e82b0>"
      ]
     },
     "metadata": {},
     "output_type": "display_data"
    }
   ],
   "source": [
    "plt.plot(interval, mean_scores)\n",
    "plt.show()"
   ]
  },
  {
   "cell_type": "code",
   "execution_count": 89,
   "metadata": {},
   "outputs": [
    {
     "data": {
      "text/plain": [
       "0.7311666666666666"
      ]
     },
     "execution_count": 89,
     "metadata": {},
     "output_type": "execute_result"
    }
   ],
   "source": [
    "C_opt = interval[np.argmax(mean_scores)]\n",
    "clf = LinearSVC(C=C_opt)\n",
    "clf.fit(X_train,y_train)\n",
    "clf.score(X_test,y_test)"
   ]
  },
  {
   "cell_type": "markdown",
   "metadata": {},
   "source": [
    "### 2) version 2 : (PP: remove numbers + remove accent +remove stopwords+ steemming+10000 features)\n"
   ]
  },
  {
   "cell_type": "code",
   "execution_count": 20,
   "metadata": {
    "collapsed": true
   },
   "outputs": [],
   "source": [
    "fname=\"twitter/v2\""
   ]
  },
  {
   "cell_type": "code",
   "execution_count": null,
   "metadata": {
    "collapsed": true
   },
   "outputs": [],
   "source": [
    "#[vectorizer, X] = build_vectorizer(tweet_list, stopwords=fr_stopwords, b_stemming=True,\\\n",
    "#                                          b_rmaccent=True, b_rmnumbers=True, max_features=10000)\n",
    "\n",
    "#save_vectorizer(vectorizer,fname)"
   ]
  },
  {
   "cell_type": "code",
   "execution_count": 21,
   "metadata": {
    "collapsed": true
   },
   "outputs": [],
   "source": [
    "vectorizer=load_vectorizer(fname)\n",
    "X= vectorizer.fit_transform(tweet_list.astype('U'))"
   ]
  },
  {
   "cell_type": "code",
   "execution_count": 22,
   "metadata": {
    "collapsed": true
   },
   "outputs": [],
   "source": [
    "X_train, X_test, y_train, y_test = train_test_split(X, target_tweets, test_size=0.3,random_state=0,stratify=target_tweets)"
   ]
  },
  {
   "cell_type": "code",
   "execution_count": 23,
   "metadata": {
    "collapsed": true
   },
   "outputs": [],
   "source": [
    "mean_scores = []\n",
    "for C in interval:\n",
    "    clf = LinearSVC(C=C)\n",
    "    scores = cross_val_score(clf, X_train, y_train, cv=4)\n",
    "    mean_scores.append(np.mean(scores)) "
   ]
  },
  {
   "cell_type": "code",
   "execution_count": 24,
   "metadata": {},
   "outputs": [
    {
     "data": {
      "image/png": "[encoded data removed]",
      "text/plain": [
       "<matplotlib.figure.Figure at 0x7fab8052a278>"
      ]
     },
     "metadata": {},
     "output_type": "display_data"
    }
   ],
   "source": [
    "plt.plot(interval, mean_scores)\n",
    "plt.show()"
   ]
  },
  {
   "cell_type": "code",
   "execution_count": 25,
   "metadata": {},
   "outputs": [
    {
     "data": {
      "text/plain": [
       "0.7241666666666666"
      ]
     },
     "execution_count": 25,
     "metadata": {},
     "output_type": "execute_result"
    }
   ],
   "source": [
    "C_opt = interval[np.argmax(mean_scores)]\n",
    "clf = LinearSVC(C=C_opt)\n",
    "clf.fit(X_train,y_train)\n",
    "clf.score(X_test,y_test)\n"
   ]
  },
  {
   "cell_type": "code",
   "execution_count": 26,
   "metadata": {
    "collapsed": true
   },
   "outputs": [],
   "source": [
    "words_freq=get_words_freq(vectorizer, X)\n"
   ]
  },
  {
   "cell_type": "code",
   "execution_count": 27,
   "metadata": {},
   "outputs": [
    {
     "data": {
      "text/plain": [
       "1305"
      ]
     },
     "execution_count": 27,
     "metadata": {},
     "output_type": "execute_result"
    }
   ],
   "source": [
    "max(map(lambda x: x[1],words_freq))"
   ]
  },
  {
   "cell_type": "code",
   "execution_count": 28,
   "metadata": {},
   "outputs": [
    {
     "data": {
      "text/plain": [
       "1"
      ]
     },
     "execution_count": 28,
     "metadata": {},
     "output_type": "execute_result"
    }
   ],
   "source": [
    "min(map(lambda x: x[1],words_freq))"
   ]
  },
  {
   "cell_type": "markdown",
   "metadata": {},
   "source": [
    "### 3) version 3 : (PP: remove numbers + remove accent +steemming+min_f=0.0002 +max_f=0.02)"
   ]
  },
  {
   "cell_type": "code",
   "execution_count": 29,
   "metadata": {
    "collapsed": true
   },
   "outputs": [],
   "source": [
    "fname=\"twitter/v3\""
   ]
  },
  {
   "cell_type": "code",
   "execution_count": null,
   "metadata": {
    "collapsed": true
   },
   "outputs": [],
   "source": [
    "#[vectorizer, X] = build_vectorizer(tweet_list,b_rmaccent=True, b_rmnumbers=True,min_df=0.0002,max_df=0.02)\n",
    "\n",
    "#save_vectorizer(vectorizer,fname)"
   ]
  },
  {
   "cell_type": "code",
   "execution_count": 30,
   "metadata": {},
   "outputs": [
    {
     "name": "stderr",
     "output_type": "stream",
     "text": [
      "/home/arij/anaconda3/lib/python3.6/site-packages/sklearn/base.py:311: UserWarning: Trying to unpickle estimator CountVectorizer from version 0.20.0 when using version 0.19.1. This might lead to breaking code or invalid results. Use at your own risk.\n",
      "  UserWarning)\n"
     ]
    }
   ],
   "source": [
    "vectorizer=load_vectorizer(fname)\n",
    "X= vectorizer.fit_transform(tweet_list.astype('U'))"
   ]
  },
  {
   "cell_type": "code",
   "execution_count": 31,
   "metadata": {},
   "outputs": [
    {
     "name": "stdout",
     "output_type": "stream",
     "text": [
      "4911\n"
     ]
    }
   ],
   "source": [
    "features = vectorizer.get_feature_names()\n",
    "print(len(features))"
   ]
  },
  {
   "cell_type": "code",
   "execution_count": 32,
   "metadata": {
    "collapsed": true
   },
   "outputs": [],
   "source": [
    "words_freq=get_words_freq(vectorizer, X)"
   ]
  },
  {
   "cell_type": "code",
   "execution_count": 33,
   "metadata": {},
   "outputs": [
    {
     "data": {
      "text/plain": [
       "0.040083451704545456"
      ]
     },
     "execution_count": 33,
     "metadata": {},
     "output_type": "execute_result"
    }
   ],
   "source": [
    "4515 / np.array(words_freq)[:,1].astype(int).sum()"
   ]
  },
  {
   "cell_type": "code",
   "execution_count": 34,
   "metadata": {},
   "outputs": [
    {
     "data": {
      "text/plain": [
       "4"
      ]
     },
     "execution_count": 34,
     "metadata": {},
     "output_type": "execute_result"
    }
   ],
   "source": [
    "min(map(lambda x: x[1],words_freq))"
   ]
  },
  {
   "cell_type": "code",
   "execution_count": 35,
   "metadata": {},
   "outputs": [
    {
     "data": {
      "text/plain": [
       "415"
      ]
     },
     "execution_count": 35,
     "metadata": {},
     "output_type": "execute_result"
    }
   ],
   "source": [
    "max(map(lambda x: x[1],words_freq))"
   ]
  },
  {
   "cell_type": "code",
   "execution_count": 36,
   "metadata": {
    "collapsed": true
   },
   "outputs": [],
   "source": [
    "X_train, X_test, y_train, y_test = train_test_split(X, target_tweets, test_size=0.3,random_state=0,stratify=target_tweets)"
   ]
  },
  {
   "cell_type": "code",
   "execution_count": 37,
   "metadata": {
    "collapsed": true
   },
   "outputs": [],
   "source": [
    "mean_scores = []\n",
    "for C in interval:\n",
    "    clf = LinearSVC(C=C)\n",
    "    scores = cross_val_score(clf, X_train, y_train, cv=4)\n",
    "    mean_scores.append(np.mean(scores)) "
   ]
  },
  {
   "cell_type": "code",
   "execution_count": 38,
   "metadata": {},
   "outputs": [
    {
     "data": {
      "image/png": "[encoded data removed]",
      "text/plain": [
       "<matplotlib.figure.Figure at 0x7fab7f7a3710>"
      ]
     },
     "metadata": {},
     "output_type": "display_data"
    }
   ],
   "source": [
    "plt.plot(interval, mean_scores)\n",
    "plt.show()"
   ]
  },
  {
   "cell_type": "code",
   "execution_count": 39,
   "metadata": {},
   "outputs": [
    {
     "data": {
      "text/plain": [
       "0.707"
      ]
     },
     "execution_count": 39,
     "metadata": {},
     "output_type": "execute_result"
    }
   ],
   "source": [
    "C_opt = interval[np.argmax(mean_scores)]\n",
    "clf = LinearSVC(C=C_opt)\n",
    "clf.fit(X_train,y_train)\n",
    "y_pred=clf.predict(X_test)\n",
    "clf.score(X_test,y_test)"
   ]
  },
  {
   "cell_type": "markdown",
   "metadata": {
    "collapsed": true
   },
   "source": [
    "## Transfert :"
   ]
  },
  {
   "cell_type": "markdown",
   "metadata": {},
   "source": [
    "On va récuperer pour chaque jeu des donnes le meilleur classifeur appris et on va le tester sur les deux bases"
   ]
  },
  {
   "cell_type": "markdown",
   "metadata": {
    "collapsed": true
   },
   "source": [
    "### Classifeur + Vectorizer Decathlon "
   ]
  },
  {
   "cell_type": "code",
   "execution_count": 62,
   "metadata": {
    "collapsed": true
   },
   "outputs": [],
   "source": [
    "fname=\"decathlon/v1\""
   ]
  },
  {
   "cell_type": "code",
   "execution_count": 63,
   "metadata": {},
   "outputs": [
    {
     "data": {
      "text/plain": [
       "LinearSVC(C=0.1, class_weight=None, dual=True, fit_intercept=True,\n",
       "     intercept_scaling=1, loss='squared_hinge', max_iter=1000,\n",
       "     multi_class='ovr', penalty='l2', random_state=None, tol=0.0001,\n",
       "     verbose=0)"
      ]
     },
     "execution_count": 63,
     "metadata": {},
     "output_type": "execute_result"
    }
   ],
   "source": [
    "vectorizer=load_vectorizer(fname)\n",
    "X= vectorizer.fit_transform(review_list.astype('U'))\n",
    "C_opt=0.1\n",
    "clf = LinearSVC(C=C_opt)\n",
    "clf.fit(X,target)"
   ]
  },
  {
   "cell_type": "code",
   "execution_count": 65,
   "metadata": {},
   "outputs": [
    {
     "data": {
      "text/plain": [
       "0.1973408922183978"
      ]
     },
     "execution_count": 65,
     "metadata": {},
     "output_type": "execute_result"
    }
   ],
   "source": [
    "#score sur les donnees Movies\n",
    "X_movies= vectorizer.fit_transform(review_list_movies.astype('U'))\n",
    "y_pred=clf.predict(X_movies)\n",
    "f1_score(target_movies,y_pred,pos_label=-1)"
   ]
  },
  {
   "cell_type": "code",
   "execution_count": 66,
   "metadata": {},
   "outputs": [
    {
     "data": {
      "text/plain": [
       "0.24098538515540238"
      ]
     },
     "execution_count": 66,
     "metadata": {},
     "output_type": "execute_result"
    }
   ],
   "source": [
    "clf.score(X_movies,target_movies)"
   ]
  },
  {
   "cell_type": "code",
   "execution_count": 71,
   "metadata": {},
   "outputs": [
    {
     "data": {
      "text/plain": [
       "0.1391775080764865"
      ]
     },
     "execution_count": 71,
     "metadata": {},
     "output_type": "execute_result"
    }
   ],
   "source": [
    "#score sur les donnees Tweets_git\n",
    "X_tweets= vectorizer.fit_transform(tweet_list.astype('U'))\n",
    "y_pred=clf.predict(X_tweets)\n",
    "f1_score(target_tweets,y_pred,pos_label=-1)"
   ]
  },
  {
   "cell_type": "code",
   "execution_count": 70,
   "metadata": {},
   "outputs": [
    {
     "data": {
      "text/plain": [
       "0.50705"
      ]
     },
     "execution_count": 70,
     "metadata": {},
     "output_type": "execute_result"
    }
   ],
   "source": [
    "clf.score(X_tweets,target_tweets)"
   ]
  },
  {
   "cell_type": "markdown",
   "metadata": {},
   "source": [
    "### Classifeur + Vectorizer Movies"
   ]
  },
  {
   "cell_type": "code",
   "execution_count": 79,
   "metadata": {},
   "outputs": [
    {
     "data": {
      "text/plain": [
       "LinearSVC(C=0.01, class_weight=None, dual=True, fit_intercept=True,\n",
       "     intercept_scaling=1, loss='squared_hinge', max_iter=1000,\n",
       "     multi_class='ovr', penalty='l2', random_state=None, tol=0.0001,\n",
       "     verbose=0)"
      ]
     },
     "execution_count": 79,
     "metadata": {},
     "output_type": "execute_result"
    }
   ],
   "source": [
    "fname=\"movies/v2\"\n",
    "vectorizer=load_vectorizer(fname)\n",
    "X= vectorizer.fit_transform(review_list_movies.astype('U'))\n",
    "C_opt=0.01\n",
    "clf = LinearSVC(C=C_opt)\n",
    "clf.fit(X,target_movies)"
   ]
  },
  {
   "cell_type": "code",
   "execution_count": 80,
   "metadata": {},
   "outputs": [
    {
     "data": {
      "text/plain": [
       "0.6663769763010997"
      ]
     },
     "execution_count": 80,
     "metadata": {},
     "output_type": "execute_result"
    }
   ],
   "source": [
    "#score sur les donnees Tweets_git\n",
    "X_tweets= vectorizer.fit_transform(tweet_list.astype('U'))\n",
    "y_pred=clf.predict(X_tweets)\n",
    "f1_score(target_tweets,y_pred,pos_label=-1)"
   ]
  },
  {
   "cell_type": "code",
   "execution_count": 81,
   "metadata": {},
   "outputs": [
    {
     "data": {
      "text/plain": [
       "0.50095"
      ]
     },
     "execution_count": 81,
     "metadata": {},
     "output_type": "execute_result"
    }
   ],
   "source": [
    "clf.score(X_tweets,target_tweets)"
   ]
  },
  {
   "cell_type": "code",
   "execution_count": 82,
   "metadata": {},
   "outputs": [
    {
     "data": {
      "text/plain": [
       "0.22696417659008705"
      ]
     },
     "execution_count": 82,
     "metadata": {},
     "output_type": "execute_result"
    }
   ],
   "source": [
    "#score sur les donnees Decathlon\n",
    "X_decathlon= vectorizer.fit_transform(review_list.astype('U'))\n",
    "y_pred=clf.predict(X_decathlon)\n",
    "f1_score(target,y_pred,pos_label=-1)"
   ]
  },
  {
   "cell_type": "code",
   "execution_count": 83,
   "metadata": {},
   "outputs": [
    {
     "data": {
      "text/plain": [
       "0.1302449176794143"
      ]
     },
     "execution_count": 83,
     "metadata": {},
     "output_type": "execute_result"
    }
   ],
   "source": [
    "clf.score(X_decathlon,target)"
   ]
  },
  {
   "cell_type": "markdown",
   "metadata": {},
   "source": [
    "### Classifeur + Vectorizer Twitter"
   ]
  },
  {
   "cell_type": "code",
   "execution_count": 91,
   "metadata": {
    "collapsed": true
   },
   "outputs": [],
   "source": [
    "fname=\"twitter/v1\""
   ]
  },
  {
   "cell_type": "code",
   "execution_count": 92,
   "metadata": {},
   "outputs": [
    {
     "data": {
      "text/plain": [
       "LinearSVC(C=0.01, class_weight=None, dual=True, fit_intercept=True,\n",
       "     intercept_scaling=1, loss='squared_hinge', max_iter=1000,\n",
       "     multi_class='ovr', penalty='l2', random_state=None, tol=0.0001,\n",
       "     verbose=0)"
      ]
     },
     "execution_count": 92,
     "metadata": {},
     "output_type": "execute_result"
    }
   ],
   "source": [
    "vectorizer=load_vectorizer(fname)\n",
    "X= vectorizer.fit_transform(tweet_list.astype('U'))\n",
    "C_opt=0.01\n",
    "clf = LinearSVC(C=C_opt)\n",
    "clf.fit(X,target_tweets)"
   ]
  },
  {
   "cell_type": "code",
   "execution_count": 93,
   "metadata": {},
   "outputs": [
    {
     "data": {
      "text/plain": [
       "0.2134589196550159"
      ]
     },
     "execution_count": 93,
     "metadata": {},
     "output_type": "execute_result"
    }
   ],
   "source": [
    "#score sur les donnees Decathlon\n",
    "X_decathlon= vectorizer.fit_transform(review_list.astype('U'))\n",
    "y_pred=clf.predict(X_decathlon)\n",
    "f1_score(target,y_pred,pos_label=-1)"
   ]
  },
  {
   "cell_type": "code",
   "execution_count": 94,
   "metadata": {},
   "outputs": [
    {
     "data": {
      "text/plain": [
       "0.7424090385401568"
      ]
     },
     "execution_count": 94,
     "metadata": {},
     "output_type": "execute_result"
    }
   ],
   "source": [
    "clf.score(X_decathlon,target)"
   ]
  },
  {
   "cell_type": "code",
   "execution_count": 95,
   "metadata": {},
   "outputs": [
    {
     "data": {
      "text/plain": [
       "0.44340631507851636"
      ]
     },
     "execution_count": 95,
     "metadata": {},
     "output_type": "execute_result"
    }
   ],
   "source": [
    "#score sur les donnees Movies\n",
    "X_movies= vectorizer.fit_transform(review_list_movies.astype('U'))\n",
    "y_pred=clf.predict(X_movies)\n",
    "f1_score(target_movies,y_pred,pos_label=-1)"
   ]
  },
  {
   "cell_type": "code",
   "execution_count": 96,
   "metadata": {},
   "outputs": [
    {
     "data": {
      "text/plain": [
       "0.3688812304550386"
      ]
     },
     "execution_count": 96,
     "metadata": {},
     "output_type": "execute_result"
    }
   ],
   "source": [
    "clf.score(X_movies,target_movies)"
   ]
  },
  {
   "cell_type": "markdown",
   "metadata": {},
   "source": [
    "##  Classification des tweets originaux"
   ]
  },
  {
   "cell_type": "code",
   "execution_count": 2,
   "metadata": {},
   "outputs": [],
   "source": [
    "fname=\"../misc/tweets_10000\""
   ]
  },
  {
   "cell_type": "code",
   "execution_count": 3,
   "metadata": {},
   "outputs": [],
   "source": [
    "f = open(fname, \"rb\")\n",
    "tweets = pickle.load(f)\n",
    "f.close()"
   ]
  },
  {
   "cell_type": "code",
   "execution_count": 6,
   "metadata": {},
   "outputs": [
    {
     "name": "stderr",
     "output_type": "stream",
     "text": [
      "/Users/lauranguyen/anaconda3/lib/python3.5/site-packages/sklearn/base.py:251: UserWarning: Trying to unpickle estimator CountVectorizer from version 0.19.1 when using version 0.20.0. This might lead to breaking code or invalid results. Use at your own risk.\n",
      "  UserWarning)\n"
     ]
    },
    {
     "data": {
      "text/plain": [
       "LinearSVC(C=0.01, class_weight=None, dual=True, fit_intercept=True,\n",
       "     intercept_scaling=1, loss='squared_hinge', max_iter=1000,\n",
       "     multi_class='ovr', penalty='l2', random_state=None, tol=0.0001,\n",
       "     verbose=0)"
      ]
     },
     "execution_count": 6,
     "metadata": {},
     "output_type": "execute_result"
    }
   ],
   "source": [
    "#Vectorizer Movies\n",
    "fname=\"movies/v2\"\n",
    "vectorizer1=load_vectorizer(fname)\n",
    "X= vectorizer1.fit_transform(review_list_movies.astype('U'))\n",
    "C_opt=0.01\n",
    "clf1 = LinearSVC(C=C_opt)\n",
    "clf1.fit(X,target_movies)"
   ]
  },
  {
   "cell_type": "code",
   "execution_count": 7,
   "metadata": {},
   "outputs": [],
   "source": [
    "#score sur les donnees Tweets originaux\n",
    "X_tweets1= vectorizer1.fit_transform(tweets.astype('U'))\n",
    "y_pred1=clf1.predict(X_tweets1)"
   ]
  },
  {
   "cell_type": "code",
   "execution_count": 14,
   "metadata": {},
   "outputs": [
    {
     "data": {
      "text/plain": [
       "array([[-0.36758673, -0.33621885, -0.33265686, ...,  0.40343735,\n",
       "         0.40560196,  0.43336431]])"
      ]
     },
     "execution_count": 14,
     "metadata": {},
     "output_type": "execute_result"
    }
   ],
   "source": [
    "ind_neg = np.argsort(clf1.coef_).flatten()[0:10]\n",
    "ind_pos = np.argsort(clf1.coef_).flatten()[clf1.coef_.shape[1]-10:]\n",
    "np.sort(clf1.coef_)"
   ]
  },
  {
   "cell_type": "code",
   "execution_count": 15,
   "metadata": {},
   "outputs": [
    {
     "data": {
      "text/plain": [
       "array(['dowhatyoucan', 'empapaout', 'mâtur', 'évit', 'natur', 'tribun',\n",
       "       'match', 'méchancon', 'ignorent', 'doutent'], dtype='<U30')"
      ]
     },
     "execution_count": 15,
     "metadata": {},
     "output_type": "execute_result"
    }
   ],
   "source": [
    "np.array(vectorizer1.get_feature_names())[ind_neg]"
   ]
  },
  {
   "cell_type": "code",
   "execution_count": 16,
   "metadata": {},
   "outputs": [
    {
     "data": {
      "text/plain": [
       "array(['parfait', 'coraliecarm', 'sénior', 'longtemp',\n",
       "       'cpasbourdinleboss', 'medefdt', 'equivalent', 'fumister', '4m',\n",
       "       'be'], dtype='<U30')"
      ]
     },
     "execution_count": 16,
     "metadata": {},
     "output_type": "execute_result"
    }
   ],
   "source": [
    "np.array(vectorizer1.get_feature_names())[ind_pos]"
   ]
  },
  {
   "cell_type": "code",
   "execution_count": 8,
   "metadata": {},
   "outputs": [
    {
     "name": "stdout",
     "output_type": "stream",
     "text": [
      "Nombre des tweets classés positive :\n",
      "-------> 2\n"
     ]
    }
   ],
   "source": [
    "print(\"Nombre des tweets classés positive :\")\n",
    "print(\"------->\",len(np.argwhere(y_pred1==1)))"
   ]
  },
  {
   "cell_type": "code",
   "execution_count": 9,
   "metadata": {},
   "outputs": [
    {
     "name": "stdout",
     "output_type": "stream",
     "text": [
      "Nombre des tweets classés négative\n",
      "-------> 9998\n"
     ]
    }
   ],
   "source": [
    "print(\"Nombre des tweets classés négative\")\n",
    "print(\"------->\",len(np.argwhere(y_pred1==-1)))"
   ]
  },
  {
   "cell_type": "code",
   "execution_count": 75,
   "metadata": {},
   "outputs": [
    {
     "data": {
      "text/plain": [
       "array([],\n",
       "      dtype='<U252')"
      ]
     },
     "execution_count": 75,
     "metadata": {},
     "output_type": "execute_result"
    }
   ],
   "source": [
    "tweets[tweets == 'Fin de campagne fébrile et tendue pour Emmanuel Macron']"
   ]
  },
  {
   "cell_type": "code",
   "execution_count": 148,
   "metadata": {},
   "outputs": [
    {
     "name": "stdout",
     "output_type": "stream",
     "text": [
      "'mdr le papillon dans fantasy life j'ai cru il s'appelait fillon' -1 1\n",
      "'Présidentielle : Macron tacle à nouveau Hollande https://t.co/73c07uVyYz #Economie #FrancoisHollande https://t.co/AGSpG4G6d2' -1 1\n",
      "'Tout va bien. susp_pts  Ils ont coulé la France mais organisent des fêtes et des concerts. susp_pts  Surréaliste. susp_pts  https://t.co/3JFwzmDPqG' -1 1\n",
      "'Le pauvre chou  single_excl  Ils font rien que d'l'embêter  mult_int  https://t.co/swfGfqC5Kr' -1 -1\n",
      "'#LeMonde #Info François Fillon courtise l’électorat catholique dans la dernière ligne droite https://t.co/Cs9zuZMIi3' -1 1\n"
     ]
    }
   ],
   "source": [
    "ind = np.random.choice(range(0,len(tweets)), 5, replace=False)\n",
    "\n",
    "for i in ind:\n",
    "    print(tweets[i], y_pred1[i], y_pred2[i])"
   ]
  },
  {
   "cell_type": "code",
   "execution_count": 32,
   "metadata": {},
   "outputs": [
    {
     "name": "stdout",
     "output_type": "stream",
     "text": [
      "*********************\n",
      "[\"'@LCI @MLP_officiel bonjour pourquoi Marine en baisse meeting dans une ferme foule single_int pas d'image du meeting de Macron… https://t.co/ztWYTGStXO'\"]\n",
      "*********************\n",
      "[\"'Alexandre Jardin provoque un malaise au meeting de Macron - 7SUR7.be https://t.co/2IaP9XCXkm'\"]\n"
     ]
    }
   ],
   "source": [
    "print(\"Les tweets classés positive\")\n",
    "for tweet in tweets[np.argwhere(y_pred1==1)]:\n",
    "    print(\"*********************\")\n",
    "    print(tweet)\n",
    "    "
   ]
  },
  {
   "cell_type": "code",
   "execution_count": 33,
   "metadata": {},
   "outputs": [
    {
     "name": "stdout",
     "output_type": "stream",
     "text": [
      "Les tweets classés positivement\n",
      "*********************\n",
      "[\"'@JJBourdin_RMC Pourquoi ne pas passer des extraits des interviews de Fillon avant,pendant et après les primaires. Ç… https://t.co/iF05jgqH4j'\"]\n",
      "*********************\n",
      "['\\'Mdrrr a la fin il avait dit \" je craint degun \" https://t.co/Sj9Hw5leSj\\'']\n",
      "*********************\n",
      "[\"'Couverts par le #PS.\\n#Antifa #Délinquance #Extrêmegauche #Hollande #frontnational #MarineLePen #FN #news #infos\\nhttps://t.co/uFxXop6ZUf'\"]\n",
      "*********************\n",
      "[\"'Sarkozy inspire Macron  single_int  Depuis le temps que je dis que le progr éco de Macron est proche de celui de NS.  susp_pts  https://t.co/sStugB2tXR'\"]\n",
      "*********************\n",
      "[\"'Appel de 31 entrepreneurs, investisseurs et acteurs du numérique à voter pour François Fillon… https://t.co/EopHmYF1Jv'\"]\n",
      "*********************\n",
      "[\"'Emmanuel #Macron l'escroquerie en marche \\nhttps://t.co/YU0U3r7xYG via @YouTube'\"]\n",
      "*********************\n",
      "[\"'@SlmLyon @BobLeCentriste Être de gauche, c'est avoir du respect pour tous, et pas le mépris social affiché par macron'\"]\n",
      "*********************\n",
      "[\"'@Ecogine2 @RomainLesenne @JAMmontpellier @Chamade69 j'en ai pas mais j'ai autre chose https://t.co/36Gcb6zA50'\"]\n",
      "*********************\n",
      "[\"'Pr%C3%A9sidentielle+2017+%3A+au+Portugal%2C+Beno%C3%AEt+Hamon+parle+l%C3%A9galisation+du+cannabis via @cnewsmatin'\"]\n",
      "*********************\n",
      "[\"'France: montée de Mélenchon, même la gauche traditionnelle https://t.co/X6FKoG2sNP s'inquiète autant que la droite. https://t.co/VXtMI3cygy'\"]\n"
     ]
    }
   ],
   "source": [
    "print(\"Les tweets classés negative\")\n",
    "for tweet in tweets[np.argwhere(y_pred1==-1)[:20]]:\n",
    "    print(\"*********************\")\n",
    "    print(tweet)"
   ]
  },
  {
   "cell_type": "code",
   "execution_count": 57,
   "metadata": {},
   "outputs": [
    {
     "name": "stderr",
     "output_type": "stream",
     "text": [
      "/Users/lauranguyen/anaconda3/lib/python3.5/site-packages/sklearn/base.py:251: UserWarning: Trying to unpickle estimator CountVectorizer from version 0.19.1 when using version 0.20.0. This might lead to breaking code or invalid results. Use at your own risk.\n",
      "  UserWarning)\n"
     ]
    },
    {
     "data": {
      "text/plain": [
       "LinearSVC(C=0.01, class_weight=None, dual=True, fit_intercept=True,\n",
       "     intercept_scaling=1, loss='squared_hinge', max_iter=1000,\n",
       "     multi_class='ovr', penalty='l2', random_state=None, tol=0.0001,\n",
       "     verbose=0)"
      ]
     },
     "execution_count": 57,
     "metadata": {},
     "output_type": "execute_result"
    }
   ],
   "source": [
    "#Vectorizer Twitter git\n",
    "fname=\"twitter/v1\"\n",
    "vectorizer2=load_vectorizer(fname)\n",
    "X= vectorizer2.fit_transform(tweet_list.astype('U'))\n",
    "C_opt=0.01\n",
    "clf2 = LinearSVC(C=C_opt)\n",
    "clf2.fit(X,target_tweets)"
   ]
  },
  {
   "cell_type": "code",
   "execution_count": 58,
   "metadata": {},
   "outputs": [],
   "source": [
    "#score sur les donnees Tweets originaux\n",
    "X_tweets2= vectorizer2.fit_transform(tweets.astype('U'))\n",
    "y_pred2=clf2.predict(X_tweets2)"
   ]
  },
  {
   "cell_type": "code",
   "execution_count": 59,
   "metadata": {},
   "outputs": [
    {
     "data": {
      "text/plain": [
       "array([[-0.65149854, -0.54937986, -0.53465076, ...,  0.35692163,\n",
       "         0.41224441,  0.44489355]])"
      ]
     },
     "execution_count": 59,
     "metadata": {},
     "output_type": "execute_result"
    }
   ],
   "source": [
    "ind_neg = np.argsort(clf2.coef_).flatten()[0:10]\n",
    "ind_pos = np.argsort(clf2.coef_).flatten()[clf2.coef_.shape[1]-10:]\n",
    "np.sort(clf2.coef_)"
   ]
  },
  {
   "cell_type": "code",
   "execution_count": 60,
   "metadata": {},
   "outputs": [
    {
     "data": {
      "text/plain": [
       "array(['supplémentaires', 'mode', 'choix', 'luttent', 'loin', 'dépêche',\n",
       "       'officiers', 'FRANCE24', 'chirurgien', 'loi'],\n",
       "      dtype='<U32')"
      ]
     },
     "execution_count": 60,
     "metadata": {},
     "output_type": "execute_result"
    }
   ],
   "source": [
    "np.array(vectorizer2.get_feature_names())[ind_neg]"
   ]
  },
  {
   "cell_type": "code",
   "execution_count": 61,
   "metadata": {},
   "outputs": [
    {
     "data": {
      "text/plain": [
       "array(['Hormis', 'marteau', 'Fion', 'flinguer', 'ferais', 'familiale',\n",
       "       'adhésion', 'Naïveté', 'Arrêtons', 'ElongWilliam'],\n",
       "      dtype='<U32')"
      ]
     },
     "execution_count": 61,
     "metadata": {},
     "output_type": "execute_result"
    }
   ],
   "source": [
    "np.array(vectorizer2.get_feature_names())[ind_pos]"
   ]
  },
  {
   "cell_type": "code",
   "execution_count": 62,
   "metadata": {},
   "outputs": [
    {
     "name": "stdout",
     "output_type": "stream",
     "text": [
      "Nombre des tweets classés positive :\n",
      "-------> 7694\n"
     ]
    }
   ],
   "source": [
    "print(\"Nombre des tweets classés positive :\")\n",
    "print(\"------->\",len(np.argwhere(y_pred2==1)))"
   ]
  },
  {
   "cell_type": "code",
   "execution_count": 63,
   "metadata": {},
   "outputs": [
    {
     "name": "stdout",
     "output_type": "stream",
     "text": [
      "Nombre des tweets classés négative\n",
      "-------> 2306\n"
     ]
    }
   ],
   "source": [
    "print(\"Nombre des tweets classés négative\")\n",
    "print(\"------->\",len(np.argwhere(y_pred2==-1)))"
   ]
  },
  {
   "cell_type": "code",
   "execution_count": 64,
   "metadata": {},
   "outputs": [
    {
     "name": "stdout",
     "output_type": "stream",
     "text": [
      "Les tweets classés positive\n",
      "*********************\n",
      "[ \"'@JJBourdin_RMC Pourquoi ne pas passer des extraits des interviews de Fillon avant,pendant et après les primaires. Ç… https://t.co/iF05jgqH4j'\"]\n",
      "*********************\n",
      "[ '\\'Mdrrr a la fin il avait dit \" je craint degun \" https://t.co/Sj9Hw5leSj\\'']\n",
      "*********************\n",
      "[ \"'Emmanuel #Macron l'escroquerie en marche \\nhttps://t.co/YU0U3r7xYG via @YouTube'\"]\n",
      "*********************\n",
      "[ \"'@SlmLyon @BobLeCentriste Être de gauche, c'est avoir du respect pour tous, et pas le mépris social affiché par macron'\"]\n",
      "*********************\n",
      "[ \"'@Ecogine2 @RomainLesenne @JAMmontpellier @Chamade69 j'en ai pas mais j'ai autre chose https://t.co/36Gcb6zA50'\"]\n",
      "*********************\n",
      "[ \"'France: montée de Mélenchon, même la gauche traditionnelle https://t.co/X6FKoG2sNP s'inquiète autant que la droite. https://t.co/VXtMI3cygy'\"]\n",
      "*********************\n",
      "[ \"'@Ecogine2 @RomainLesenne @JAMmontpellier @Chamade69 et j'ai ca aussi https://t.co/c0b4ueINfc'\"]\n",
      "*********************\n",
      "[ \"'Au 2nd tour : #Fillon et #Mélenchon. L'électorat de droite fermera les yeux sur les affaires, celui de gauche ouvrira les siens sur #Macron.'\"]\n",
      "*********************\n",
      "[ \"'@GG_RMC @JLMelenchon @marieannesoubre Pourquoi cette vidéo ne passe-t-elle pas après la pub  single_int  Auto censure RMC finalement  mixed_m   single_int '\"]\n",
      "*********************\n",
      "[ \"'#EminemVsMelenchon #JLM2017\\n\\nDes qu'un mec perce en France Eminem se sent obligé de le clasher. susp_pts  \\nApres Jul, Booba… https://t.co/6boTWXzbKo'\"]\n",
      "*********************\n",
      "[ \"'@Ecogine2 @RomainLesenne @JAMmontpellier @Chamade69 et enfin j'ai ca : https://t.co/oWwwOVHLYV'\"]\n",
      "*********************\n",
      "[ \"'theProjecters Paper est sorti de presse single_excl  https://t.co/CoxJZbZyq4 Les unes d'aujourd'hui via @LanxadeT #abonnés #fillon'\"]\n",
      "*********************\n",
      "[ \"'Larguer les arabes , allah bordages \\nLepen 2017 \\n@ClichesDeJigme #MDR71'\"]\n",
      "*********************\n",
      "[ \"'@Conardhino59 @fhollande @GG_RMC @JLMelenchon Parske mélenchon les tiendra  single_int  Il enfume ses electeurs et t assez con pr te faire avoir xD'\"]\n",
      "*********************\n",
      "[ \"'@FaniaMakaya Un montage de Macron avec de l'eyeliner est juste après ce tweet dans ma TL  single_int '\"]\n",
      "*********************\n",
      "[ \"'Pas trop dur de soutenir le candidat qui s'écroule le plus vite dans les sondages @melaniehrt_  single_int  #EmmanuelHollande https://t.co/PPzTTAYf8L'\"]\n",
      "*********************\n",
      "[ \"'Oh purée c'est en banlieue mult_int J'avais vu la vidéo avant mais sans précision,j'avais cru que c'était dans les dom-tom… https://t.co/TqMBnpN7Le'\"]\n",
      "*********************\n",
      "[ \"'Jean Luc Mélenchon et les libertés : des propositions qui rejoignent nos recommandations https://t.co/IYboyPQKf0'\"]\n",
      "*********************\n",
      "[ \"'rien a  faire des casseroles  susp_pts  vous avez des preuves formelles single_int  vous avez assisté à un jugement  single_int  existe t il une… https://t.co/7qeJcQw1vp'\"]\n",
      "*********************\n",
      "[ \"'elle base tout son programme sur dla peur c ridicule https://t.co/NDnKAa4YIu'\"]\n"
     ]
    }
   ],
   "source": [
    "print(\"Les tweets classés positive\")\n",
    "for tweet in tweets[np.argwhere(y_pred2==1)[:20]]:\n",
    "    print(\"*********************\")\n",
    "    print(tweet)"
   ]
  },
  {
   "cell_type": "code",
   "execution_count": 36,
   "metadata": {},
   "outputs": [
    {
     "name": "stdout",
     "output_type": "stream",
     "text": [
      "Les tweets classés negative\n",
      "*********************\n",
      "[\"'Couverts par le #PS.\\n#Antifa #Délinquance #Extrêmegauche #Hollande #frontnational #MarineLePen #FN #news #infos\\nhttps://t.co/uFxXop6ZUf'\"]\n",
      "*********************\n",
      "[\"'Sarkozy inspire Macron  single_int  Depuis le temps que je dis que le progr éco de Macron est proche de celui de NS.  susp_pts  https://t.co/sStugB2tXR'\"]\n",
      "*********************\n",
      "[\"'Appel de 31 entrepreneurs, investisseurs et acteurs du numérique à voter pour François Fillon… https://t.co/EopHmYF1Jv'\"]\n",
      "*********************\n",
      "[\"'Pr%C3%A9sidentielle+2017+%3A+au+Portugal%2C+Beno%C3%AEt+Hamon+parle+l%C3%A9galisation+du+cannabis via @cnewsmatin'\"]\n",
      "*********************\n",
      "[\"' susp_pts @Marion_M_Le_Pen @FrontNational67 @Federation_FN68 @68avecMarine @ludo68100 @GregoryStich @L_Lareymondie… https://t.co/ToeLJb3oxY'\"]\n",
      "*********************\n",
      "[\"'Les seuls à se rendre compte du prob st Fillon et Le Pen.Mais l'un est un démocrate,l'autre non.'\"]\n",
      "*********************\n",
      "[\"'Quel dommage que ça ne soit que virtuel. susp_pts  https://t.co/md3z13slH0'\"]\n",
      "*********************\n",
      "[\"'@Ecogine2 @RomainLesenne @JAMmontpellier @Chamade69 Allez petit bonus ^^ https://t.co/aJTscpR0l0'\"]\n",
      "*********************\n",
      "[\"'Ah bah voilà qui devrait rassurer @JLMelenchon. susp_pts  https://t.co/PVjlmyvWfA'\"]\n",
      "*********************\n",
      "[\"'@FlorenceJamain @JulBzz @FrancoisFillon Une différence importante  Fillon à payer les cotisation et impôts… https://t.co/k6J1IBU1Sq'\"]\n"
     ]
    }
   ],
   "source": [
    "print(\"Les tweets classés negative\")\n",
    "for tweet in tweets[np.argwhere(y_pred2==-1)[:10]]:\n",
    "    print(\"*********************\")\n",
    "    print(tweet)"
   ]
  }
 ],
 "metadata": {
  "kernelspec": {
   "display_name": "Python 3",
   "language": "python",
   "name": "python3"
  },
  "language_info": {
   "codemirror_mode": {
    "name": "ipython",
    "version": 3
   },
   "file_extension": ".py",
   "mimetype": "text/x-python",
   "name": "python",
   "nbconvert_exporter": "python",
   "pygments_lexer": "ipython3",
   "version": "3.5.4"
  }
 },
 "nbformat": 4,
 "nbformat_minor": 2
}

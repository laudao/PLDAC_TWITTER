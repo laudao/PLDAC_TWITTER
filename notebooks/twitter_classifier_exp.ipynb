{
 "cells": [
  {
   "cell_type": "code",
   "execution_count": 209,
   "metadata": {},
   "outputs": [
    {
     "name": "stdout",
     "output_type": "stream",
     "text": [
      "The autoreload extension is already loaded. To reload it, use:\n",
      "  %reload_ext autoreload\n"
     ]
    }
   ],
   "source": [
    "%load_ext autoreload\n",
    "%autoreload 2\n",
    "import sys\n",
    "sys.path.insert(0, '../src')\n",
    "from utils import *\n",
    "import pickle\n",
    "import matplotlib.pyplot as plt\n",
    "from sklearn.svm import LinearSVC\n",
    "from sklearn.model_selection import train_test_split\n",
    "from sklearn.model_selection import cross_val_score\n",
    "from sklearn.metrics import f1_score"
   ]
  },
  {
   "cell_type": "markdown",
   "metadata": {},
   "source": [
    "Load file containing candidate -> corpus mapping :"
   ]
  },
  {
   "cell_type": "code",
   "execution_count": 210,
   "metadata": {},
   "outputs": [],
   "source": [
    "f = open(\"../communities/v1/candidate_to_tweets\", \"rb\")\n",
    "candidate_to_tweets = pickle.load(f)\n",
    "f.close()"
   ]
  },
  {
   "cell_type": "code",
   "execution_count": 211,
   "metadata": {},
   "outputs": [],
   "source": [
    "candidates_mapping = {\n",
    "    0 : \"Arthaud\",\n",
    "    1 : \"Asselineau\",\n",
    "    2 : \"Cheminade\",\n",
    "    3 : \"Dupont-Aignan\",\n",
    "    4 : \"Fillon\",\n",
    "    5 : \"Hamon\",\n",
    "    6 : \"Lassalle\",\n",
    "    7 : \"Le Pen\",\n",
    "    8 : \"Macron\",\n",
    "    9 : \"Mélenchon\",\n",
    "    10 : \"Poutou\"\n",
    "}"
   ]
  },
  {
   "cell_type": "code",
   "execution_count": 212,
   "metadata": {},
   "outputs": [
    {
     "name": "stdout",
     "output_type": "stream",
     "text": [
      "Macron (8) - nombre de tweets : 4475\n",
      "Mélenchon (9) - nombre de tweets : 5198\n",
      "Fillon (4) - nombre de tweets : 2979\n",
      "Hamon (5) - nombre de tweets : 2634\n",
      "Le Pen (7) - nombre de tweets : 3060\n"
     ]
    }
   ],
   "source": [
    "for cand in candidate_to_tweets.keys():\n",
    "    print(\"{} ({}) - nombre de tweets : {}\".format(candidates_mapping[cand], cand, \\\n",
    "                                              len(candidate_to_tweets[cand][0])))"
   ]
  },
  {
   "cell_type": "code",
   "execution_count": 223,
   "metadata": {},
   "outputs": [
    {
     "name": "stdout",
     "output_type": "stream",
     "text": [
      "% of positive tweets in Macron's community : 41.13966480446928\n",
      "% of positive tweets in Mélenchon's community : 53.46287033474413\n",
      "% of positive tweets in Fillon's community : 46.69352131587781\n",
      "% of positive tweets in Hamon's community : 53.49278663629461\n",
      "% of positive tweets in Le Pen's community : 31.535947712418302\n"
     ]
    }
   ],
   "source": [
    "for candidate, data in candidate_to_tweets.items():\n",
    "    n_positive = len(np.argwhere(data[1] == 1))\n",
    "    n_negative = len(np.argwhere(data[1] == -1))\n",
    "    total = n_positive + n_negative\n",
    "    print(\"% of positive tweets in {}'s community : {}\".format(candidates_mapping[candidate], 100 * n_positive/total))"
   ]
  },
  {
   "cell_type": "code",
   "execution_count": 224,
   "metadata": {},
   "outputs": [
    {
     "name": "stdout",
     "output_type": "stream",
     "text": [
      ">>> Communauté Macron\n",
      "\tQuand #macron conscient de la radicalité de #MohamedSaou se couche devant @ccif pour acheter vote communautaire. in… https://t.co/arfeWJnhzP \n",
      "\t-> 1\n",
      "\tL'heure est au rassemblement et à la mobilisation générale avec François Fillon. https://t.co/fPyHVrCb3D \n",
      "\t-> -1\n",
      "\tEmmanuel Macron «passe» 6 millions de coups de téléphone pour démarcher des électeurs https://t.co/8xZaRL9t4r via @leParisien_pol \n",
      "\t-> 1\n",
      "\tConstituante, 40 occurrences depuis le 30 janv. Toutes prononcées par #Melenchon #LePoidsDesMots… https://t.co/FZCqdz2leG \n",
      "\t-> -1\n",
      "\tVideo: Fillon s’en prend à Ruth Elkrief « Vous manquez pas d’air » https://t.co/G9OhoLr8m3 via @AssoUPF \n",
      "\t-> -1\n",
      "-------------------------------\n",
      ">>> Communauté Mélenchon\n",
      "\tCoucou @MartinPersil vos plats vegan et vos gâteaux sont délicieux ! Parfaits avant un beau meeting ?? #JLMToulouse https://t.co/JL0cfmNYR4 \n",
      "\t-> 1\n",
      "\tEmmanuel Macron dit n’avoir qu’en faire du soutien de Hollande https://t.co/3BU9ranXcE https://t.co/Kf3JloyUna \n",
      "\t-> -1\n",
      "\tEN DIRECT - MÉLENCHON : Meeting à Toulouse - #JLMToulouse\n",
      "https://t.co/UBARcGQR1v\n",
      "#JLMToulouse  #chemindesdames… https://t.co/sV2h74EeMj \n",
      "\t-> 1\n",
      "\tFinancement du FN : Marine Le Pen à son tour mise en cause https://t.co/tDjHfiumAB via @Le_Figaro #perpignanmlp \n",
      "\t-> -1\n",
      "\t@live_colo @Loris_Reversat @ChtiteSamia @ATsmiller @JLMelenchon Je me suis trompée effectivement, mais j'étais pas… https://t.co/AADlTUE3Fc \n",
      "\t-> 1\n",
      "-------------------------------\n",
      ">>> Communauté Fillon\n",
      "\t@MarcEmmanuelS @ThierryLelievre @TonyBothorel @Cdmin1 @bdesplaces @enmarchefr Bah, c'est possible vu que les soutie… https://t.co/xpVuEfmNnm \n",
      "\t-> -1\n",
      "\t@doudoubreiz @nathalie2017D @BlagJack @FrancetteJB @STR_Trp @JadeJoPS @jfkbismuth L'application du père Noël... All… https://t.co/rE7JMfHss7 \n",
      "\t-> -1\n",
      "\tStéphane Ravier, sénateur FN, salue la mémoire des soldats \"d'origine musulmane\" https://t.co/so9ITXU97B https://t.co/5f7VPMd8zh \n",
      "\t-> -1\n",
      "\t? ? ? ? Trop cons en plus ➕ d'être fanatiques religieux les soutiens (gorges) du Chanoine #Fillon https://t.co/1dH5aWBDP9 \n",
      "\t-> 1\n",
      "\tPrésident, François Fillon fixerait une feuille de route de 3 ans à ses ministres https://t.co/yi5Fkl40zN \n",
      "\t-> 1\n",
      "-------------------------------\n",
      ">>> Communauté Hamon\n",
      "\t.@MartineAubry est présente pour #NotreRepublique #Hamon2017 https://t.co/cp5aZdIPWN \n",
      "\t-> 1\n",
      "\t.@benoithamon @socialiste35 @HamonVannes @JeunesAvecHamon @Morbihan_Hamon @AvecHamon2017 @TousAvecHamon… https://t.co/gfOn5YxyEc \n",
      "\t-> 1\n",
      "\t48h pour choisir | Emmanuel Macron\n",
      "https://t.co/9AnuH3VVCZ via @YouTube \n",
      "\t-> -1\n",
      "\t@maria_andy2 @nrenard75 @alni92 Ah..? Désolé..OUI VENGES TOI sur FILLON ..??? \n",
      "\t-> -1\n",
      "\t@babarlelephant @jp210951 Je suis aussi de gauche, elle n'appartient pas à #JLM ! ;) Je vote #Hamon pour son programme par pour le PS ! \n",
      "\t-> 1\n",
      "-------------------------------\n",
      ">>> Communauté Le Pen\n",
      "\tLe numéro un de la CFDT alerte contre la vision «assez totalitaire» de #Mélenchon\n",
      "https://t.co/WF6Agc6EeI \n",
      "\t-> -1\n",
      "\t@Soeur_Marijuana @moswaa Putain Mélanchon - macron ... ça craint \n",
      "\t-> -1\n",
      "\tAgression de Gilbert Collard et de son épouse à l'entrée du Zenith pour le meeting de Marine Le Pen : bande de lâches ! #Antifas \n",
      "\t-> 1\n",
      "\t#Valls appelle à voter Macron : le masque du renouveau est définitivement tombé, Macron c'est le parfait visage du Système et du hollandisme \n",
      "\t-> -1\n",
      "\t@MauriceMartin01 Je pensais La même chose concernant Fillon à une semaine du 1er tour des primaires... \n",
      "\t-> -1\n",
      "-------------------------------\n"
     ]
    }
   ],
   "source": [
    "for candidate, data in candidate_to_tweets.items():\n",
    "    print(\">>> Communauté {}\".format(candidates_mapping[candidate]))\n",
    "    tweets = data[0]\n",
    "    sentiments = data[1]\n",
    "    ind = np.random.choice(range(0,len(tweets)), 5, replace=False)\n",
    "    sample_tweets = tweets[ind]\n",
    "    sample_sent = sentiments[ind]\n",
    "    for i in range(5):\n",
    "        print(\"\\t{} \\n\\t-> {}\".format(sample_tweets[i], int(sample_sent[i])))\n",
    "    print(\"-------------------------------\")"
   ]
  },
  {
   "cell_type": "code",
   "execution_count": 233,
   "metadata": {},
   "outputs": [],
   "source": [
    "corpus = []\n",
    "labels = []\n",
    "for cand, data in candidate_to_tweets.items():\n",
    "    tweets = data[0]\n",
    "    sentiments = data[1]\n",
    "    corpus = np.append(corpus, tweets)\n",
    "    labels = np.append(labels, sentiments)"
   ]
  },
  {
   "cell_type": "code",
   "execution_count": 234,
   "metadata": {},
   "outputs": [
    {
     "data": {
      "text/plain": [
       "18346"
      ]
     },
     "execution_count": 234,
     "metadata": {},
     "output_type": "execute_result"
    }
   ],
   "source": [
    "len(corpus)"
   ]
  },
  {
   "cell_type": "code",
   "execution_count": 235,
   "metadata": {},
   "outputs": [],
   "source": [
    "corpus, ind, unique_counts = np.unique(corpus, return_index=True, return_counts=True)"
   ]
  },
  {
   "cell_type": "code",
   "execution_count": 236,
   "metadata": {},
   "outputs": [
    {
     "data": {
      "text/plain": [
       "18246"
      ]
     },
     "execution_count": 236,
     "metadata": {},
     "output_type": "execute_result"
    }
   ],
   "source": [
    "len(corpus)"
   ]
  },
  {
   "cell_type": "code",
   "execution_count": 237,
   "metadata": {},
   "outputs": [],
   "source": [
    "labels = labels[ind]"
   ]
  },
  {
   "cell_type": "code",
   "execution_count": 238,
   "metadata": {},
   "outputs": [
    {
     "data": {
      "text/plain": [
       "0.8454536259735006"
      ]
     },
     "execution_count": 238,
     "metadata": {},
     "output_type": "execute_result"
    }
   ],
   "source": [
    "# ratio positif sur négatif\n",
    "np.count_nonzero(labels == 1) / np.count_nonzero(labels == -1)"
   ]
  },
  {
   "cell_type": "code",
   "execution_count": 239,
   "metadata": {},
   "outputs": [
    {
     "name": "stdout",
     "output_type": "stream",
     "text": [
      "Removing numbers\n",
      "Removing stopwords\n",
      "Stemming\n",
      "Removing uppercases\n",
      "Removing accents\n"
     ]
    }
   ],
   "source": [
    "[vectorizer, X] = build_vectorizer(corpus,\\\n",
    "                                     stopwords=french_stopwords(),\\\n",
    "                                     b_stemming=True,\\\n",
    "                                     b_rmaccent=True,\\\n",
    "                                     b_lowercase=True,\n",
    "                                    b_rmnumbers=True)"
   ]
  },
  {
   "cell_type": "code",
   "execution_count": 240,
   "metadata": {},
   "outputs": [],
   "source": [
    "words_freq = get_words_freq(vectorizer,X)"
   ]
  },
  {
   "cell_type": "code",
   "execution_count": 241,
   "metadata": {},
   "outputs": [
    {
     "data": {
      "text/html": [
       "<div>\n",
       "<style scoped>\n",
       "    .dataframe tbody tr th:only-of-type {\n",
       "        vertical-align: middle;\n",
       "    }\n",
       "\n",
       "    .dataframe tbody tr th {\n",
       "        vertical-align: top;\n",
       "    }\n",
       "\n",
       "    .dataframe thead th {\n",
       "        text-align: right;\n",
       "    }\n",
       "</style>\n",
       "<table border=\"1\" class=\"dataframe\">\n",
       "  <thead>\n",
       "    <tr style=\"text-align: right;\">\n",
       "      <th></th>\n",
       "      <th>0</th>\n",
       "      <th>1</th>\n",
       "    </tr>\n",
       "  </thead>\n",
       "  <tbody>\n",
       "    <tr>\n",
       "      <th>0</th>\n",
       "      <td>macron</td>\n",
       "      <td>5835</td>\n",
       "    </tr>\n",
       "    <tr>\n",
       "      <th>1</th>\n",
       "      <td>melenchon</td>\n",
       "      <td>4370</td>\n",
       "    </tr>\n",
       "    <tr>\n",
       "      <th>2</th>\n",
       "      <td>fillon</td>\n",
       "      <td>3755</td>\n",
       "    </tr>\n",
       "    <tr>\n",
       "      <th>3</th>\n",
       "      <td>hamon</td>\n",
       "      <td>1875</td>\n",
       "    </tr>\n",
       "    <tr>\n",
       "      <th>4</th>\n",
       "      <td>vot</td>\n",
       "      <td>1665</td>\n",
       "    </tr>\n",
       "    <tr>\n",
       "      <th>5</th>\n",
       "      <td>franc</td>\n",
       "      <td>1249</td>\n",
       "    </tr>\n",
       "    <tr>\n",
       "      <th>6</th>\n",
       "      <td>vi</td>\n",
       "      <td>1214</td>\n",
       "    </tr>\n",
       "    <tr>\n",
       "      <th>7</th>\n",
       "      <td>plus</td>\n",
       "      <td>991</td>\n",
       "    </tr>\n",
       "    <tr>\n",
       "      <th>8</th>\n",
       "      <td>jlm2017</td>\n",
       "      <td>974</td>\n",
       "    </tr>\n",
       "    <tr>\n",
       "      <th>9</th>\n",
       "      <td>fait</td>\n",
       "      <td>812</td>\n",
       "    </tr>\n",
       "  </tbody>\n",
       "</table>\n",
       "</div>"
      ],
      "text/plain": [
       "           0     1\n",
       "0     macron  5835\n",
       "1  melenchon  4370\n",
       "2     fillon  3755\n",
       "3      hamon  1875\n",
       "4        vot  1665\n",
       "5      franc  1249\n",
       "6         vi  1214\n",
       "7       plus   991\n",
       "8    jlm2017   974\n",
       "9       fait   812"
      ]
     },
     "execution_count": 241,
     "metadata": {},
     "output_type": "execute_result"
    }
   ],
   "source": [
    "pd.DataFrame(words_freq).head(10)"
   ]
  },
  {
   "cell_type": "code",
   "execution_count": 242,
   "metadata": {},
   "outputs": [],
   "source": [
    "# pour vérifier à l'oeil\n",
    "tweets_test = np.array([\"Emmanuel #Macron l'escroquerie en marche\", \n",
    "                \"@FrancoisFillon Achetez-vous un parachute M. Fillon\",\n",
    "                \"'La vie d'un entrepreneur est souvent plus difficile que celle d'un salarié'-Macron\",\n",
    "                \"mdr le papillon dans fantasy life j'ai cru il s'appelait fillon\",\n",
    "                \"La révolution citoyenne est train de se produire ! #Melenchon2017\",\n",
    "                \"#JeVoteMacron 10 raisons de voter Macron ! #EnMarche #Macron2017 #Presidentielle2017\",\n",
    "                \"#JeVotePour #Hamon2017 #BenoitHamon2017 le candidat de la jeunesse\",\n",
    "                \"La #jeunesse : vous aurez un avenir avec @FrancoisFillon . #Fillon2017 #JeVoteFillon\",\n",
    "                \"Arrêtons le massacre des artisans par les taxes, tous avec Marine @MLP_officiel #Marine2017\",\n",
    "                \"@BFMTV macron ferme la ! tu tacles le Fn mais tu es 1salopard corrompu Les français s'en rendront compte vermine\",\n",
    "                \"REPUGNANT ! MELENCHON EMBRASSE CHAVEZ ! Nous allons cracher du sang si MELENCHON est élu !\",\n",
    "                \"Quand Marine rêve son Monde #Marine2017 ! il y a des rires glaçants, des coups sanglants et un peuple réduit à néant\",\n",
    "                \"@FrancoisFillon La seule question qu’on doit vous poser c’est : QUAND EST CE QUE VOUS NE MENTEZ PAS ??!!\",\n",
    "                \"#Hamon2017 Désigner un frondeur pour rassembler la gauche ? Une erreur de casting #macron2017 #Presidentielle2017\"])\n",
    "\n",
    "X_test2 = vectorize_docs(vectorizer, tweets_test)"
   ]
  },
  {
   "cell_type": "code",
   "execution_count": 243,
   "metadata": {},
   "outputs": [],
   "source": [
    "X_train, X_test, y_train, y_test = train_test_split(X, labels, test_size=0.3,random_state=0,stratify=labels)"
   ]
  },
  {
   "cell_type": "code",
   "execution_count": 244,
   "metadata": {},
   "outputs": [
    {
     "name": "stderr",
     "output_type": "stream",
     "text": [
      "/Users/lauranguyen/anaconda3/lib/python3.5/site-packages/sklearn/svm/base.py:922: ConvergenceWarning: Liblinear failed to converge, increase the number of iterations.\n",
      "  \"the number of iterations.\", ConvergenceWarning)\n",
      "/Users/lauranguyen/anaconda3/lib/python3.5/site-packages/sklearn/svm/base.py:922: ConvergenceWarning: Liblinear failed to converge, increase the number of iterations.\n",
      "  \"the number of iterations.\", ConvergenceWarning)\n",
      "/Users/lauranguyen/anaconda3/lib/python3.5/site-packages/sklearn/svm/base.py:922: ConvergenceWarning: Liblinear failed to converge, increase the number of iterations.\n",
      "  \"the number of iterations.\", ConvergenceWarning)\n",
      "/Users/lauranguyen/anaconda3/lib/python3.5/site-packages/sklearn/svm/base.py:922: ConvergenceWarning: Liblinear failed to converge, increase the number of iterations.\n",
      "  \"the number of iterations.\", ConvergenceWarning)\n",
      "/Users/lauranguyen/anaconda3/lib/python3.5/site-packages/sklearn/svm/base.py:922: ConvergenceWarning: Liblinear failed to converge, increase the number of iterations.\n",
      "  \"the number of iterations.\", ConvergenceWarning)\n",
      "/Users/lauranguyen/anaconda3/lib/python3.5/site-packages/sklearn/svm/base.py:922: ConvergenceWarning: Liblinear failed to converge, increase the number of iterations.\n",
      "  \"the number of iterations.\", ConvergenceWarning)\n",
      "/Users/lauranguyen/anaconda3/lib/python3.5/site-packages/sklearn/svm/base.py:922: ConvergenceWarning: Liblinear failed to converge, increase the number of iterations.\n",
      "  \"the number of iterations.\", ConvergenceWarning)\n",
      "/Users/lauranguyen/anaconda3/lib/python3.5/site-packages/sklearn/svm/base.py:922: ConvergenceWarning: Liblinear failed to converge, increase the number of iterations.\n",
      "  \"the number of iterations.\", ConvergenceWarning)\n",
      "/Users/lauranguyen/anaconda3/lib/python3.5/site-packages/sklearn/svm/base.py:922: ConvergenceWarning: Liblinear failed to converge, increase the number of iterations.\n",
      "  \"the number of iterations.\", ConvergenceWarning)\n",
      "/Users/lauranguyen/anaconda3/lib/python3.5/site-packages/sklearn/svm/base.py:922: ConvergenceWarning: Liblinear failed to converge, increase the number of iterations.\n",
      "  \"the number of iterations.\", ConvergenceWarning)\n",
      "/Users/lauranguyen/anaconda3/lib/python3.5/site-packages/sklearn/svm/base.py:922: ConvergenceWarning: Liblinear failed to converge, increase the number of iterations.\n",
      "  \"the number of iterations.\", ConvergenceWarning)\n",
      "/Users/lauranguyen/anaconda3/lib/python3.5/site-packages/sklearn/svm/base.py:922: ConvergenceWarning: Liblinear failed to converge, increase the number of iterations.\n",
      "  \"the number of iterations.\", ConvergenceWarning)\n",
      "/Users/lauranguyen/anaconda3/lib/python3.5/site-packages/sklearn/svm/base.py:922: ConvergenceWarning: Liblinear failed to converge, increase the number of iterations.\n",
      "  \"the number of iterations.\", ConvergenceWarning)\n",
      "/Users/lauranguyen/anaconda3/lib/python3.5/site-packages/sklearn/svm/base.py:922: ConvergenceWarning: Liblinear failed to converge, increase the number of iterations.\n",
      "  \"the number of iterations.\", ConvergenceWarning)\n",
      "/Users/lauranguyen/anaconda3/lib/python3.5/site-packages/sklearn/svm/base.py:922: ConvergenceWarning: Liblinear failed to converge, increase the number of iterations.\n",
      "  \"the number of iterations.\", ConvergenceWarning)\n",
      "/Users/lauranguyen/anaconda3/lib/python3.5/site-packages/sklearn/svm/base.py:922: ConvergenceWarning: Liblinear failed to converge, increase the number of iterations.\n",
      "  \"the number of iterations.\", ConvergenceWarning)\n",
      "/Users/lauranguyen/anaconda3/lib/python3.5/site-packages/sklearn/svm/base.py:922: ConvergenceWarning: Liblinear failed to converge, increase the number of iterations.\n",
      "  \"the number of iterations.\", ConvergenceWarning)\n",
      "/Users/lauranguyen/anaconda3/lib/python3.5/site-packages/sklearn/svm/base.py:922: ConvergenceWarning: Liblinear failed to converge, increase the number of iterations.\n",
      "  \"the number of iterations.\", ConvergenceWarning)\n",
      "/Users/lauranguyen/anaconda3/lib/python3.5/site-packages/sklearn/svm/base.py:922: ConvergenceWarning: Liblinear failed to converge, increase the number of iterations.\n",
      "  \"the number of iterations.\", ConvergenceWarning)\n",
      "/Users/lauranguyen/anaconda3/lib/python3.5/site-packages/sklearn/svm/base.py:922: ConvergenceWarning: Liblinear failed to converge, increase the number of iterations.\n",
      "  \"the number of iterations.\", ConvergenceWarning)\n",
      "/Users/lauranguyen/anaconda3/lib/python3.5/site-packages/sklearn/svm/base.py:922: ConvergenceWarning: Liblinear failed to converge, increase the number of iterations.\n",
      "  \"the number of iterations.\", ConvergenceWarning)\n",
      "/Users/lauranguyen/anaconda3/lib/python3.5/site-packages/sklearn/svm/base.py:922: ConvergenceWarning: Liblinear failed to converge, increase the number of iterations.\n",
      "  \"the number of iterations.\", ConvergenceWarning)\n",
      "/Users/lauranguyen/anaconda3/lib/python3.5/site-packages/sklearn/svm/base.py:922: ConvergenceWarning: Liblinear failed to converge, increase the number of iterations.\n",
      "  \"the number of iterations.\", ConvergenceWarning)\n",
      "/Users/lauranguyen/anaconda3/lib/python3.5/site-packages/sklearn/svm/base.py:922: ConvergenceWarning: Liblinear failed to converge, increase the number of iterations.\n",
      "  \"the number of iterations.\", ConvergenceWarning)\n",
      "/Users/lauranguyen/anaconda3/lib/python3.5/site-packages/sklearn/svm/base.py:922: ConvergenceWarning: Liblinear failed to converge, increase the number of iterations.\n",
      "  \"the number of iterations.\", ConvergenceWarning)\n",
      "/Users/lauranguyen/anaconda3/lib/python3.5/site-packages/sklearn/svm/base.py:922: ConvergenceWarning: Liblinear failed to converge, increase the number of iterations.\n",
      "  \"the number of iterations.\", ConvergenceWarning)\n",
      "/Users/lauranguyen/anaconda3/lib/python3.5/site-packages/sklearn/svm/base.py:922: ConvergenceWarning: Liblinear failed to converge, increase the number of iterations.\n",
      "  \"the number of iterations.\", ConvergenceWarning)\n",
      "/Users/lauranguyen/anaconda3/lib/python3.5/site-packages/sklearn/svm/base.py:922: ConvergenceWarning: Liblinear failed to converge, increase the number of iterations.\n",
      "  \"the number of iterations.\", ConvergenceWarning)\n",
      "/Users/lauranguyen/anaconda3/lib/python3.5/site-packages/sklearn/svm/base.py:922: ConvergenceWarning: Liblinear failed to converge, increase the number of iterations.\n",
      "  \"the number of iterations.\", ConvergenceWarning)\n",
      "/Users/lauranguyen/anaconda3/lib/python3.5/site-packages/sklearn/svm/base.py:922: ConvergenceWarning: Liblinear failed to converge, increase the number of iterations.\n",
      "  \"the number of iterations.\", ConvergenceWarning)\n",
      "/Users/lauranguyen/anaconda3/lib/python3.5/site-packages/sklearn/svm/base.py:922: ConvergenceWarning: Liblinear failed to converge, increase the number of iterations.\n",
      "  \"the number of iterations.\", ConvergenceWarning)\n",
      "/Users/lauranguyen/anaconda3/lib/python3.5/site-packages/sklearn/svm/base.py:922: ConvergenceWarning: Liblinear failed to converge, increase the number of iterations.\n",
      "  \"the number of iterations.\", ConvergenceWarning)\n",
      "/Users/lauranguyen/anaconda3/lib/python3.5/site-packages/sklearn/svm/base.py:922: ConvergenceWarning: Liblinear failed to converge, increase the number of iterations.\n",
      "  \"the number of iterations.\", ConvergenceWarning)\n",
      "/Users/lauranguyen/anaconda3/lib/python3.5/site-packages/sklearn/svm/base.py:922: ConvergenceWarning: Liblinear failed to converge, increase the number of iterations.\n",
      "  \"the number of iterations.\", ConvergenceWarning)\n",
      "/Users/lauranguyen/anaconda3/lib/python3.5/site-packages/sklearn/svm/base.py:922: ConvergenceWarning: Liblinear failed to converge, increase the number of iterations.\n",
      "  \"the number of iterations.\", ConvergenceWarning)\n",
      "/Users/lauranguyen/anaconda3/lib/python3.5/site-packages/sklearn/svm/base.py:922: ConvergenceWarning: Liblinear failed to converge, increase the number of iterations.\n",
      "  \"the number of iterations.\", ConvergenceWarning)\n",
      "/Users/lauranguyen/anaconda3/lib/python3.5/site-packages/sklearn/svm/base.py:922: ConvergenceWarning: Liblinear failed to converge, increase the number of iterations.\n",
      "  \"the number of iterations.\", ConvergenceWarning)\n",
      "/Users/lauranguyen/anaconda3/lib/python3.5/site-packages/sklearn/svm/base.py:922: ConvergenceWarning: Liblinear failed to converge, increase the number of iterations.\n",
      "  \"the number of iterations.\", ConvergenceWarning)\n"
     ]
    },
    {
     "name": "stderr",
     "output_type": "stream",
     "text": [
      "/Users/lauranguyen/anaconda3/lib/python3.5/site-packages/sklearn/svm/base.py:922: ConvergenceWarning: Liblinear failed to converge, increase the number of iterations.\n",
      "  \"the number of iterations.\", ConvergenceWarning)\n",
      "/Users/lauranguyen/anaconda3/lib/python3.5/site-packages/sklearn/svm/base.py:922: ConvergenceWarning: Liblinear failed to converge, increase the number of iterations.\n",
      "  \"the number of iterations.\", ConvergenceWarning)\n",
      "/Users/lauranguyen/anaconda3/lib/python3.5/site-packages/sklearn/svm/base.py:922: ConvergenceWarning: Liblinear failed to converge, increase the number of iterations.\n",
      "  \"the number of iterations.\", ConvergenceWarning)\n",
      "/Users/lauranguyen/anaconda3/lib/python3.5/site-packages/sklearn/svm/base.py:922: ConvergenceWarning: Liblinear failed to converge, increase the number of iterations.\n",
      "  \"the number of iterations.\", ConvergenceWarning)\n",
      "/Users/lauranguyen/anaconda3/lib/python3.5/site-packages/sklearn/svm/base.py:922: ConvergenceWarning: Liblinear failed to converge, increase the number of iterations.\n",
      "  \"the number of iterations.\", ConvergenceWarning)\n",
      "/Users/lauranguyen/anaconda3/lib/python3.5/site-packages/sklearn/svm/base.py:922: ConvergenceWarning: Liblinear failed to converge, increase the number of iterations.\n",
      "  \"the number of iterations.\", ConvergenceWarning)\n",
      "/Users/lauranguyen/anaconda3/lib/python3.5/site-packages/sklearn/svm/base.py:922: ConvergenceWarning: Liblinear failed to converge, increase the number of iterations.\n",
      "  \"the number of iterations.\", ConvergenceWarning)\n"
     ]
    }
   ],
   "source": [
    "n_C = 100\n",
    "interval = np.logspace(-5, 5, n_C)\n",
    "\n",
    "mean_scores = []\n",
    "for C in interval:\n",
    "    clf = LinearSVC(C=C)\n",
    "    scores = cross_val_score(clf, X_train, y_train, cv=4,scoring='f1')\n",
    "    mean_scores.append(np.mean(scores)) "
   ]
  },
  {
   "cell_type": "code",
   "execution_count": 245,
   "metadata": {},
   "outputs": [
    {
     "data": {
      "image/png": "[encoded data removed]",
      "text/plain": [
       "<Figure size 432x288 with 1 Axes>"
      ]
     },
     "metadata": {},
     "output_type": "display_data"
    }
   ],
   "source": [
    "ax = plt.gca()\n",
    "\n",
    "ax.plot(interval, mean_scores)\n",
    "ax.set_xscale('log')\n",
    "plt.xlabel('C')\n",
    "plt.ylabel('Score F1 moyen')\n",
    "plt.axis('tight')\n",
    "plt.show()"
   ]
  },
  {
   "cell_type": "code",
   "execution_count": 246,
   "metadata": {},
   "outputs": [
    {
     "data": {
      "text/plain": [
       "0.65587044534412964"
      ]
     },
     "execution_count": 246,
     "metadata": {},
     "output_type": "execute_result"
    }
   ],
   "source": [
    "C_opt = interval[np.argmax(mean_scores)]\n",
    "clf = LinearSVC(C=C_opt)\n",
    "clf.fit(X_train,y_train)\n",
    "y_pred=clf.predict(X_test)\n",
    "f1_score(y_test,y_pred,pos_label=1)"
   ]
  },
  {
   "cell_type": "code",
   "execution_count": 247,
   "metadata": {},
   "outputs": [
    {
     "name": "stdout",
     "output_type": "stream",
     "text": [
      "['dupontaignan', 'clairock', 'feedly', 'fillonpresident', 'scolair', 'jevotefillondeslepremiertour', 'erichacquemand', 'jacqu', 'stopmelenchon', 'benoît']\n",
      "['jlmtoulous', 'franceinsoumis', 'bisounour', 'corrompu', 'marineàpar', 'manson_fx', 'ptit', 'emmanuelholland', 'hamon2017', 'stopmacron']\n"
     ]
    }
   ],
   "source": [
    "ind_neg = np.argsort(clf.coef_).flatten()[0:10]\n",
    "ind_pos = np.argsort(clf.coef_).flatten()[clf.coef_.shape[1]-10:]\n",
    "print(list(np.array(vectorizer.get_feature_names())[ind_neg]))\n",
    "print(list(np.array(vectorizer.get_feature_names())[ind_pos]))"
   ]
  },
  {
   "cell_type": "code",
   "execution_count": 248,
   "metadata": {},
   "outputs": [
    {
     "data": {
      "text/plain": [
       "array([-1., -1., -1., -1., -1., -1.,  1., -1.,  1., -1., -1.,  1., -1.,  1.])"
      ]
     },
     "execution_count": 248,
     "metadata": {},
     "output_type": "execute_result"
    }
   ],
   "source": [
    "clf.predict(X_test2)"
   ]
  }
 ],
 "metadata": {
  "kernelspec": {
   "display_name": "Python 3",
   "language": "python",
   "name": "python3"
  },
  "language_info": {
   "codemirror_mode": {
    "name": "ipython",
    "version": 3
   },
   "file_extension": ".py",
   "mimetype": "text/x-python",
   "name": "python",
   "nbconvert_exporter": "python",
   "pygments_lexer": "ipython3",
   "version": "3.5.4"
  }
 },
 "nbformat": 4,
 "nbformat_minor": 2
}

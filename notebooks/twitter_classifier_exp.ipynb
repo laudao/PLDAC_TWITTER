{
 "cells": [
  {
   "cell_type": "code",
   "execution_count": 1,
   "metadata": {},
   "outputs": [],
   "source": [
    "%load_ext autoreload\n",
    "%autoreload 2\n",
    "import sys\n",
    "sys.path.insert(0, '../src')\n",
    "from utils import *\n",
    "import pickle\n",
    "import matplotlib.pyplot as plt\n",
    "from sklearn.svm import LinearSVC\n",
    "from sklearn.model_selection import train_test_split\n",
    "from sklearn.model_selection import cross_val_score\n",
    "from sklearn.metrics import f1_score"
   ]
  },
  {
   "cell_type": "markdown",
   "metadata": {},
   "source": [
    "Load file containing candidate -> corpus mapping :"
   ]
  },
  {
   "cell_type": "code",
   "execution_count": 2,
   "metadata": {},
   "outputs": [],
   "source": [
    "f = open(\"../communities/v1/candidate_to_tweets\", \"rb\")\n",
    "candidate_to_tweets = pickle.load(f)\n",
    "f.close()"
   ]
  },
  {
   "cell_type": "code",
   "execution_count": 3,
   "metadata": {},
   "outputs": [],
   "source": [
    "candidates_mapping = {\n",
    "    0 : \"Arthaud\",\n",
    "    1 : \"Asselineau\",\n",
    "    2 : \"Cheminade\",\n",
    "    3 : \"Dupont-Aignan\",\n",
    "    4 : \"Fillon\",\n",
    "    5 : \"Hamon\",\n",
    "    6 : \"Lassalle\",\n",
    "    7 : \"Le Pen\",\n",
    "    8 : \"Macron\",\n",
    "    9 : \"Mélenchon\",\n",
    "    10 : \"Poutou\"\n",
    "}"
   ]
  },
  {
   "cell_type": "code",
   "execution_count": 207,
   "metadata": {},
   "outputs": [
    {
     "data": {
      "text/plain": [
       "(2979,)"
      ]
     },
     "execution_count": 207,
     "metadata": {},
     "output_type": "execute_result"
    }
   ],
   "source": [
    "candidate_to_tweets[4][0].shape"
   ]
  },
  {
   "cell_type": "code",
   "execution_count": 4,
   "metadata": {},
   "outputs": [
    {
     "name": "stdout",
     "output_type": "stream",
     "text": [
      "Macron (8) - nombre de tweets : 4475\n",
      "Mélenchon (9) - nombre de tweets : 5198\n",
      "Fillon (4) - nombre de tweets : 2979\n",
      "Hamon (5) - nombre de tweets : 2634\n",
      "Le Pen (7) - nombre de tweets : 3060\n"
     ]
    }
   ],
   "source": [
    "for cand in candidate_to_tweets.keys():\n",
    "    print(\"{} ({}) - nombre de tweets : {}\".format(candidates_mapping[cand], cand, \\\n",
    "                                              len(candidate_to_tweets[cand][0])))"
   ]
  },
  {
   "cell_type": "code",
   "execution_count": 8,
   "metadata": {},
   "outputs": [
    {
     "name": "stdout",
     "output_type": "stream",
     "text": [
      ">>> Communauté Macron\n",
      "\t@xjfontanet @Philippe_FQSP Les médias sont plus préoccupés à \"dessouder\" F.#Fillon, qu'à porter le débat dont ce pays a besoin. \n",
      "\t-> -1\n",
      "\t#CdansLAir sens commun religion ou pas l important c le programme de Fillon seul capable de gouverner la France \n",
      "\t-> -1\n",
      "\tCensure de l’enquête sur le compte offshore de Macron https://t.co/PaZaC4S9Fc \n",
      "\t-> 1\n",
      "\t@JLMelenchon \n",
      "Les conseilleurs ne sont pas payeurs!\n",
      "#StopArnaque https://t.co/bMi42wAfvU \n",
      "\t-> -1\n",
      "\t.@vpecresse était dans la Vienne pour défendre le projet de @FrancoisFillon et convaincre les indécis #Fillon2017 https://t.co/QlNdVwElNT \n",
      "\t-> -1\n",
      "-------------------------------\n",
      ">>> Communauté Mélenchon\n",
      "\tPrécision @JLMelenchon dit \"Cuba n'est ni une démocratie au sens où Nous l'entendons ni une dictature\" Avec des arg… https://t.co/vjNvzqqT1F \n",
      "\t-> 1\n",
      "\tPour @PatrickLeHyaric, @JLMelenchon est le candidat qui fait revivre le triptyque Liberté Égalité Fraternité… https://t.co/Nmy5ZpPtax \n",
      "\t-> 1\n",
      "\tEt je vais voter @JLMelenchon avec conviction sans peur pour mettre fin au règne de la finance https://t.co/pWymXDGAPI \n",
      "\t-> 1\n",
      "\tQuand les #ONG notent les programmes des candidats \"pour 1 France solidaire\" celui de #laFranceInsoumise l'emporte \n",
      "https://t.co/1F14ARx4BK \n",
      "\t-> 1\n",
      "\tEt des tripes il en a @EmmanuelMacron ! Il répond à tous même à ses contradicteurs, dialogue...tjrs av respect.… https://t.co/Fsq8CEIKNw \n",
      "\t-> -1\n",
      "-------------------------------\n",
      ">>> Communauté Fillon\n",
      "\t@JLMelenchon Et le patron aura donc le droit de mettre le salarié au placard. \n",
      "\t-> -1\n",
      "\tJ'attends de voir Ce qu'on va dire de #Melenchon Dans #Onpc \n",
      "\t-> -1\n",
      "\tSi élu, #Fillon ne pourra pas gouverner. Il a perdu toute crédibilité et toute autorité morale https://t.co/3xPwy347HV \n",
      "\t-> 1\n",
      "\t@AlertesNews FN Et LR  souvent les mêmes ! \n",
      "\t-> 1\n",
      "\t??élu de droite, proche de la Manif pour tous, veut se moquer de Macron, avec une photo de meeting de #FillonGate ?? https://t.co/L305cPvVI3 \n",
      "\t-> 1\n",
      "-------------------------------\n",
      ">>> Communauté Hamon\n",
      "\t? JE VIENS de \" préparer \" mon Bulletin de VOTE POUR FAIRE.FILLON....!!???? @maria_andy2 @BirgitLlinares… https://t.co/C5LLPxOxn4 \n",
      "\t-> -1\n",
      "\tDes forums, des concerts, et @benoithamon à #NotreRepublique #Hamon2017 à partir de 17h https://t.co/9bCziu6QCp \n",
      "\t-> 1\n",
      "\t@polytyx @majortom38 @BrunoMasure \"les propositions du programme\" #lol \"le renouvellement\" #lol Fillon est bien meilleur à ce jeu là. \n",
      "\t-> -1\n",
      "\tElle est belle la foule de Republique, debout, sérieuse, le regard tourné vers l'avenir. #NotreRepublique #Hamon2017 #presidentielle2017 \n",
      "\t-> 1\n",
      "\t@Vinceslaseb @yvepain Mort de rire! \"Le programme #Macron est incohérent et ne remet pas en cause le système actuel… https://t.co/4YB381ramp \n",
      "\t-> -1\n",
      "-------------------------------\n",
      ">>> Communauté Le Pen\n",
      "\tDand 8 jours c'est les #vacances pour la #famille #Macron #PasVuPasPris https://t.co/3OjkdVt0RG \n",
      "\t-> -1\n",
      "\tLégislatives : les petits arrangements du ps qui ménagent en marche ! - Le Parisien https://t.co/LTFAWJZBfL \n",
      "\t-> -1\n",
      "\t?« Je suis le candidat de la paix » #JLMMarseille ??\n",
      "Y'a qu'une personne diabolique qui peut parler de CRACHER DU S… https://t.co/q1vTBkQ1Om \n",
      "\t-> -1\n",
      "\t@riclol1 @nicolasbayfn @FN_officiel vous avez interet à un report de voix sur le FN au 2 tour sinon ce sera Macron et la fin de la France ! \n",
      "\t-> 1\n",
      "\t\"une société multiculturelle est une société multiconflictuelle !\"\n",
      "\n",
      "#MarseilleMLP #Marine2017 https://t.co/cUwlqXi1H6 \n",
      "\t-> 1\n",
      "-------------------------------\n"
     ]
    }
   ],
   "source": [
    "for candidate, data in candidate_to_tweets.items():\n",
    "    print(\">>> Communauté {}\".format(candidates_mapping[candidate]))\n",
    "    tweets = data[0]\n",
    "    sentiments = data[1]\n",
    "    ind = np.random.choice(range(0,len(tweets)), 5, replace=False)\n",
    "    sample_tweets = tweets[ind]\n",
    "    sample_sent = sentiments[ind]\n",
    "    for i in range(5):\n",
    "        print(\"\\t{} \\n\\t-> {}\".format(sample_tweets[i], int(sample_sent[i])))\n",
    "    print(\"-------------------------------\")"
   ]
  },
  {
   "cell_type": "code",
   "execution_count": 190,
   "metadata": {},
   "outputs": [],
   "source": [
    "corpus = []\n",
    "labels = []\n",
    "for cand, data in candidate_to_tweets.items():\n",
    "    tweets = data[0]\n",
    "    sentiments = data[1]\n",
    "    corpus = np.append(corpus, tweets)\n",
    "    labels = np.append(labels, sentiments)"
   ]
  },
  {
   "cell_type": "code",
   "execution_count": 191,
   "metadata": {},
   "outputs": [
    {
     "data": {
      "text/plain": [
       "18346"
      ]
     },
     "execution_count": 191,
     "metadata": {},
     "output_type": "execute_result"
    }
   ],
   "source": [
    "len(corpus)"
   ]
  },
  {
   "cell_type": "code",
   "execution_count": 192,
   "metadata": {},
   "outputs": [],
   "source": [
    "corpus, ind, unique_counts = np.unique(corpus, return_index=True, return_counts=True)"
   ]
  },
  {
   "cell_type": "code",
   "execution_count": 193,
   "metadata": {},
   "outputs": [
    {
     "data": {
      "text/plain": [
       "18246"
      ]
     },
     "execution_count": 193,
     "metadata": {},
     "output_type": "execute_result"
    }
   ],
   "source": [
    "len(corpus)"
   ]
  },
  {
   "cell_type": "code",
   "execution_count": 194,
   "metadata": {},
   "outputs": [],
   "source": [
    "labels = labels[ind]"
   ]
  },
  {
   "cell_type": "code",
   "execution_count": 195,
   "metadata": {},
   "outputs": [
    {
     "data": {
      "text/plain": [
       "0.8454536259735006"
      ]
     },
     "execution_count": 195,
     "metadata": {},
     "output_type": "execute_result"
    }
   ],
   "source": [
    "# ratio positif sur négatif\n",
    "np.count_nonzero(labels == 1) / np.count_nonzero(labels == -1)"
   ]
  },
  {
   "cell_type": "code",
   "execution_count": 196,
   "metadata": {},
   "outputs": [
    {
     "name": "stdout",
     "output_type": "stream",
     "text": [
      "Removing numbers\n",
      "Removing stopwords\n",
      "Stemming\n",
      "Removing uppercases\n",
      "Removing accents\n"
     ]
    }
   ],
   "source": [
    "[vectorizer, X] = build_vectorizer(corpus,\\\n",
    "                                     stopwords=french_stopwords(),\\\n",
    "                                     b_stemming=True,\\\n",
    "                                     b_rmaccent=True,\\\n",
    "                                     b_lowercase=True,\n",
    "                                    b_rmnumbers=True)"
   ]
  },
  {
   "cell_type": "code",
   "execution_count": 197,
   "metadata": {},
   "outputs": [],
   "source": [
    "words_freq = get_words_freq(vectorizer,X)"
   ]
  },
  {
   "cell_type": "code",
   "execution_count": 198,
   "metadata": {},
   "outputs": [
    {
     "data": {
      "text/html": [
       "<div>\n",
       "<style scoped>\n",
       "    .dataframe tbody tr th:only-of-type {\n",
       "        vertical-align: middle;\n",
       "    }\n",
       "\n",
       "    .dataframe tbody tr th {\n",
       "        vertical-align: top;\n",
       "    }\n",
       "\n",
       "    .dataframe thead th {\n",
       "        text-align: right;\n",
       "    }\n",
       "</style>\n",
       "<table border=\"1\" class=\"dataframe\">\n",
       "  <thead>\n",
       "    <tr style=\"text-align: right;\">\n",
       "      <th></th>\n",
       "      <th>0</th>\n",
       "      <th>1</th>\n",
       "    </tr>\n",
       "  </thead>\n",
       "  <tbody>\n",
       "    <tr>\n",
       "      <th>0</th>\n",
       "      <td>macron</td>\n",
       "      <td>5835</td>\n",
       "    </tr>\n",
       "    <tr>\n",
       "      <th>1</th>\n",
       "      <td>melenchon</td>\n",
       "      <td>4370</td>\n",
       "    </tr>\n",
       "    <tr>\n",
       "      <th>2</th>\n",
       "      <td>fillon</td>\n",
       "      <td>3755</td>\n",
       "    </tr>\n",
       "    <tr>\n",
       "      <th>3</th>\n",
       "      <td>hamon</td>\n",
       "      <td>1875</td>\n",
       "    </tr>\n",
       "    <tr>\n",
       "      <th>4</th>\n",
       "      <td>vot</td>\n",
       "      <td>1665</td>\n",
       "    </tr>\n",
       "    <tr>\n",
       "      <th>5</th>\n",
       "      <td>franc</td>\n",
       "      <td>1249</td>\n",
       "    </tr>\n",
       "    <tr>\n",
       "      <th>6</th>\n",
       "      <td>vi</td>\n",
       "      <td>1214</td>\n",
       "    </tr>\n",
       "    <tr>\n",
       "      <th>7</th>\n",
       "      <td>plus</td>\n",
       "      <td>991</td>\n",
       "    </tr>\n",
       "    <tr>\n",
       "      <th>8</th>\n",
       "      <td>jlm2017</td>\n",
       "      <td>974</td>\n",
       "    </tr>\n",
       "    <tr>\n",
       "      <th>9</th>\n",
       "      <td>fait</td>\n",
       "      <td>812</td>\n",
       "    </tr>\n",
       "  </tbody>\n",
       "</table>\n",
       "</div>"
      ],
      "text/plain": [
       "           0     1\n",
       "0     macron  5835\n",
       "1  melenchon  4370\n",
       "2     fillon  3755\n",
       "3      hamon  1875\n",
       "4        vot  1665\n",
       "5      franc  1249\n",
       "6         vi  1214\n",
       "7       plus   991\n",
       "8    jlm2017   974\n",
       "9       fait   812"
      ]
     },
     "execution_count": 198,
     "metadata": {},
     "output_type": "execute_result"
    }
   ],
   "source": [
    "pd.DataFrame(words_freq).head(10)"
   ]
  },
  {
   "cell_type": "code",
   "execution_count": 199,
   "metadata": {},
   "outputs": [],
   "source": [
    "# pour vérifier à l'oeil\n",
    "tweets_test = np.array([\"Emmanuel #Macron l'escroquerie en marche\", \n",
    "               \"#EminemVsMelenchon #JLM2017 Des qu'un mec perce en France Eminem se sent obligé de le clasher...\",\n",
    "              \"Au 2nd tour : #Fillon et #Mélenchon. L'électorat de droite fermera les yeux sur les affaires, celui de gauche ouvrira les siens sur #Macron.\",\n",
    "              \"Couverts par le #PS.\",\n",
    "            \"Ah bah voilà qui devrait rassurer @JLMelenchon... https://t.co/PVjlmyvWfA\",\n",
    "            \"Ne vous trompez pas de bulletin de vote #JLM2017 pour la paix les autres c'est la guerre https://t.co/zz67XLndCd\"])\n",
    "\n",
    "X_test2 = vectorize_docs(vectorizer, tweets_test)"
   ]
  },
  {
   "cell_type": "markdown",
   "metadata": {},
   "source": [
    "## Première version"
   ]
  },
  {
   "cell_type": "code",
   "execution_count": 200,
   "metadata": {},
   "outputs": [],
   "source": [
    "X_train, X_test, y_train, y_test = train_test_split(X, labels, test_size=0.3,random_state=0,stratify=labels)"
   ]
  },
  {
   "cell_type": "code",
   "execution_count": 202,
   "metadata": {},
   "outputs": [
    {
     "name": "stderr",
     "output_type": "stream",
     "text": [
      "/Users/lauranguyen/anaconda3/lib/python3.5/site-packages/sklearn/svm/base.py:922: ConvergenceWarning: Liblinear failed to converge, increase the number of iterations.\n",
      "  \"the number of iterations.\", ConvergenceWarning)\n",
      "/Users/lauranguyen/anaconda3/lib/python3.5/site-packages/sklearn/svm/base.py:922: ConvergenceWarning: Liblinear failed to converge, increase the number of iterations.\n",
      "  \"the number of iterations.\", ConvergenceWarning)\n",
      "/Users/lauranguyen/anaconda3/lib/python3.5/site-packages/sklearn/svm/base.py:922: ConvergenceWarning: Liblinear failed to converge, increase the number of iterations.\n",
      "  \"the number of iterations.\", ConvergenceWarning)\n",
      "/Users/lauranguyen/anaconda3/lib/python3.5/site-packages/sklearn/svm/base.py:922: ConvergenceWarning: Liblinear failed to converge, increase the number of iterations.\n",
      "  \"the number of iterations.\", ConvergenceWarning)\n",
      "/Users/lauranguyen/anaconda3/lib/python3.5/site-packages/sklearn/svm/base.py:922: ConvergenceWarning: Liblinear failed to converge, increase the number of iterations.\n",
      "  \"the number of iterations.\", ConvergenceWarning)\n",
      "/Users/lauranguyen/anaconda3/lib/python3.5/site-packages/sklearn/svm/base.py:922: ConvergenceWarning: Liblinear failed to converge, increase the number of iterations.\n",
      "  \"the number of iterations.\", ConvergenceWarning)\n",
      "/Users/lauranguyen/anaconda3/lib/python3.5/site-packages/sklearn/svm/base.py:922: ConvergenceWarning: Liblinear failed to converge, increase the number of iterations.\n",
      "  \"the number of iterations.\", ConvergenceWarning)\n",
      "/Users/lauranguyen/anaconda3/lib/python3.5/site-packages/sklearn/svm/base.py:922: ConvergenceWarning: Liblinear failed to converge, increase the number of iterations.\n",
      "  \"the number of iterations.\", ConvergenceWarning)\n",
      "/Users/lauranguyen/anaconda3/lib/python3.5/site-packages/sklearn/svm/base.py:922: ConvergenceWarning: Liblinear failed to converge, increase the number of iterations.\n",
      "  \"the number of iterations.\", ConvergenceWarning)\n",
      "/Users/lauranguyen/anaconda3/lib/python3.5/site-packages/sklearn/svm/base.py:922: ConvergenceWarning: Liblinear failed to converge, increase the number of iterations.\n",
      "  \"the number of iterations.\", ConvergenceWarning)\n",
      "/Users/lauranguyen/anaconda3/lib/python3.5/site-packages/sklearn/svm/base.py:922: ConvergenceWarning: Liblinear failed to converge, increase the number of iterations.\n",
      "  \"the number of iterations.\", ConvergenceWarning)\n",
      "/Users/lauranguyen/anaconda3/lib/python3.5/site-packages/sklearn/svm/base.py:922: ConvergenceWarning: Liblinear failed to converge, increase the number of iterations.\n",
      "  \"the number of iterations.\", ConvergenceWarning)\n",
      "/Users/lauranguyen/anaconda3/lib/python3.5/site-packages/sklearn/svm/base.py:922: ConvergenceWarning: Liblinear failed to converge, increase the number of iterations.\n",
      "  \"the number of iterations.\", ConvergenceWarning)\n",
      "/Users/lauranguyen/anaconda3/lib/python3.5/site-packages/sklearn/svm/base.py:922: ConvergenceWarning: Liblinear failed to converge, increase the number of iterations.\n",
      "  \"the number of iterations.\", ConvergenceWarning)\n",
      "/Users/lauranguyen/anaconda3/lib/python3.5/site-packages/sklearn/svm/base.py:922: ConvergenceWarning: Liblinear failed to converge, increase the number of iterations.\n",
      "  \"the number of iterations.\", ConvergenceWarning)\n",
      "/Users/lauranguyen/anaconda3/lib/python3.5/site-packages/sklearn/svm/base.py:922: ConvergenceWarning: Liblinear failed to converge, increase the number of iterations.\n",
      "  \"the number of iterations.\", ConvergenceWarning)\n",
      "/Users/lauranguyen/anaconda3/lib/python3.5/site-packages/sklearn/svm/base.py:922: ConvergenceWarning: Liblinear failed to converge, increase the number of iterations.\n",
      "  \"the number of iterations.\", ConvergenceWarning)\n",
      "/Users/lauranguyen/anaconda3/lib/python3.5/site-packages/sklearn/svm/base.py:922: ConvergenceWarning: Liblinear failed to converge, increase the number of iterations.\n",
      "  \"the number of iterations.\", ConvergenceWarning)\n",
      "/Users/lauranguyen/anaconda3/lib/python3.5/site-packages/sklearn/svm/base.py:922: ConvergenceWarning: Liblinear failed to converge, increase the number of iterations.\n",
      "  \"the number of iterations.\", ConvergenceWarning)\n",
      "/Users/lauranguyen/anaconda3/lib/python3.5/site-packages/sklearn/svm/base.py:922: ConvergenceWarning: Liblinear failed to converge, increase the number of iterations.\n",
      "  \"the number of iterations.\", ConvergenceWarning)\n",
      "/Users/lauranguyen/anaconda3/lib/python3.5/site-packages/sklearn/svm/base.py:922: ConvergenceWarning: Liblinear failed to converge, increase the number of iterations.\n",
      "  \"the number of iterations.\", ConvergenceWarning)\n",
      "/Users/lauranguyen/anaconda3/lib/python3.5/site-packages/sklearn/svm/base.py:922: ConvergenceWarning: Liblinear failed to converge, increase the number of iterations.\n",
      "  \"the number of iterations.\", ConvergenceWarning)\n",
      "/Users/lauranguyen/anaconda3/lib/python3.5/site-packages/sklearn/svm/base.py:922: ConvergenceWarning: Liblinear failed to converge, increase the number of iterations.\n",
      "  \"the number of iterations.\", ConvergenceWarning)\n",
      "/Users/lauranguyen/anaconda3/lib/python3.5/site-packages/sklearn/svm/base.py:922: ConvergenceWarning: Liblinear failed to converge, increase the number of iterations.\n",
      "  \"the number of iterations.\", ConvergenceWarning)\n",
      "/Users/lauranguyen/anaconda3/lib/python3.5/site-packages/sklearn/svm/base.py:922: ConvergenceWarning: Liblinear failed to converge, increase the number of iterations.\n",
      "  \"the number of iterations.\", ConvergenceWarning)\n",
      "/Users/lauranguyen/anaconda3/lib/python3.5/site-packages/sklearn/svm/base.py:922: ConvergenceWarning: Liblinear failed to converge, increase the number of iterations.\n",
      "  \"the number of iterations.\", ConvergenceWarning)\n",
      "/Users/lauranguyen/anaconda3/lib/python3.5/site-packages/sklearn/svm/base.py:922: ConvergenceWarning: Liblinear failed to converge, increase the number of iterations.\n",
      "  \"the number of iterations.\", ConvergenceWarning)\n",
      "/Users/lauranguyen/anaconda3/lib/python3.5/site-packages/sklearn/svm/base.py:922: ConvergenceWarning: Liblinear failed to converge, increase the number of iterations.\n",
      "  \"the number of iterations.\", ConvergenceWarning)\n",
      "/Users/lauranguyen/anaconda3/lib/python3.5/site-packages/sklearn/svm/base.py:922: ConvergenceWarning: Liblinear failed to converge, increase the number of iterations.\n",
      "  \"the number of iterations.\", ConvergenceWarning)\n",
      "/Users/lauranguyen/anaconda3/lib/python3.5/site-packages/sklearn/svm/base.py:922: ConvergenceWarning: Liblinear failed to converge, increase the number of iterations.\n",
      "  \"the number of iterations.\", ConvergenceWarning)\n",
      "/Users/lauranguyen/anaconda3/lib/python3.5/site-packages/sklearn/svm/base.py:922: ConvergenceWarning: Liblinear failed to converge, increase the number of iterations.\n",
      "  \"the number of iterations.\", ConvergenceWarning)\n",
      "/Users/lauranguyen/anaconda3/lib/python3.5/site-packages/sklearn/svm/base.py:922: ConvergenceWarning: Liblinear failed to converge, increase the number of iterations.\n",
      "  \"the number of iterations.\", ConvergenceWarning)\n",
      "/Users/lauranguyen/anaconda3/lib/python3.5/site-packages/sklearn/svm/base.py:922: ConvergenceWarning: Liblinear failed to converge, increase the number of iterations.\n",
      "  \"the number of iterations.\", ConvergenceWarning)\n",
      "/Users/lauranguyen/anaconda3/lib/python3.5/site-packages/sklearn/svm/base.py:922: ConvergenceWarning: Liblinear failed to converge, increase the number of iterations.\n",
      "  \"the number of iterations.\", ConvergenceWarning)\n",
      "/Users/lauranguyen/anaconda3/lib/python3.5/site-packages/sklearn/svm/base.py:922: ConvergenceWarning: Liblinear failed to converge, increase the number of iterations.\n",
      "  \"the number of iterations.\", ConvergenceWarning)\n",
      "/Users/lauranguyen/anaconda3/lib/python3.5/site-packages/sklearn/svm/base.py:922: ConvergenceWarning: Liblinear failed to converge, increase the number of iterations.\n",
      "  \"the number of iterations.\", ConvergenceWarning)\n",
      "/Users/lauranguyen/anaconda3/lib/python3.5/site-packages/sklearn/svm/base.py:922: ConvergenceWarning: Liblinear failed to converge, increase the number of iterations.\n",
      "  \"the number of iterations.\", ConvergenceWarning)\n",
      "/Users/lauranguyen/anaconda3/lib/python3.5/site-packages/sklearn/svm/base.py:922: ConvergenceWarning: Liblinear failed to converge, increase the number of iterations.\n",
      "  \"the number of iterations.\", ConvergenceWarning)\n"
     ]
    },
    {
     "name": "stderr",
     "output_type": "stream",
     "text": [
      "/Users/lauranguyen/anaconda3/lib/python3.5/site-packages/sklearn/svm/base.py:922: ConvergenceWarning: Liblinear failed to converge, increase the number of iterations.\n",
      "  \"the number of iterations.\", ConvergenceWarning)\n",
      "/Users/lauranguyen/anaconda3/lib/python3.5/site-packages/sklearn/svm/base.py:922: ConvergenceWarning: Liblinear failed to converge, increase the number of iterations.\n",
      "  \"the number of iterations.\", ConvergenceWarning)\n",
      "/Users/lauranguyen/anaconda3/lib/python3.5/site-packages/sklearn/svm/base.py:922: ConvergenceWarning: Liblinear failed to converge, increase the number of iterations.\n",
      "  \"the number of iterations.\", ConvergenceWarning)\n",
      "/Users/lauranguyen/anaconda3/lib/python3.5/site-packages/sklearn/svm/base.py:922: ConvergenceWarning: Liblinear failed to converge, increase the number of iterations.\n",
      "  \"the number of iterations.\", ConvergenceWarning)\n",
      "/Users/lauranguyen/anaconda3/lib/python3.5/site-packages/sklearn/svm/base.py:922: ConvergenceWarning: Liblinear failed to converge, increase the number of iterations.\n",
      "  \"the number of iterations.\", ConvergenceWarning)\n",
      "/Users/lauranguyen/anaconda3/lib/python3.5/site-packages/sklearn/svm/base.py:922: ConvergenceWarning: Liblinear failed to converge, increase the number of iterations.\n",
      "  \"the number of iterations.\", ConvergenceWarning)\n",
      "/Users/lauranguyen/anaconda3/lib/python3.5/site-packages/sklearn/svm/base.py:922: ConvergenceWarning: Liblinear failed to converge, increase the number of iterations.\n",
      "  \"the number of iterations.\", ConvergenceWarning)\n"
     ]
    }
   ],
   "source": [
    "n_C = 100\n",
    "interval = np.logspace(-5, 5, n_C)\n",
    "\n",
    "mean_scores = []\n",
    "for C in interval:\n",
    "    clf = LinearSVC(C=C)\n",
    "    scores = cross_val_score(clf, X_train, y_train, cv=4,scoring='f1')\n",
    "    mean_scores.append(np.mean(scores)) "
   ]
  },
  {
   "cell_type": "code",
   "execution_count": 203,
   "metadata": {},
   "outputs": [
    {
     "data": {
      "image/png": "[encoded data removed]",
      "text/plain": [
       "<Figure size 432x288 with 1 Axes>"
      ]
     },
     "metadata": {},
     "output_type": "display_data"
    }
   ],
   "source": [
    "ax = plt.gca()\n",
    "\n",
    "ax.plot(interval, mean_scores)\n",
    "ax.set_xscale('log')\n",
    "plt.xlabel('C')\n",
    "plt.ylabel('Score F1 moyen')\n",
    "plt.axis('tight')\n",
    "plt.show()"
   ]
  },
  {
   "cell_type": "code",
   "execution_count": 60,
   "metadata": {},
   "outputs": [
    {
     "data": {
      "text/plain": [
       "0.65587044534412964"
      ]
     },
     "execution_count": 60,
     "metadata": {},
     "output_type": "execute_result"
    }
   ],
   "source": [
    "C_opt = interval[np.argmax(mean_scores)]\n",
    "clf = LinearSVC(C=C_opt)\n",
    "clf.fit(X_train,y_train)\n",
    "y_pred=clf.predict(X_test)\n",
    "f1_score(y_test,y_pred,pos_label=1)"
   ]
  },
  {
   "cell_type": "code",
   "execution_count": 67,
   "metadata": {},
   "outputs": [],
   "source": [
    "ind_neg = np.argsort(clf.coef_).flatten()[0:10]\n",
    "ind_pos = np.argsort(clf.coef_).flatten()[clf.coef_.shape[1]-10:]"
   ]
  },
  {
   "cell_type": "code",
   "execution_count": 70,
   "metadata": {},
   "outputs": [
    {
     "data": {
      "text/plain": [
       "array([[-0.88505988, -0.68836106, -0.64711426, ...,  0.83069181,\n",
       "         0.83871227,  0.99335108]])"
      ]
     },
     "execution_count": 70,
     "metadata": {},
     "output_type": "execute_result"
    }
   ],
   "source": [
    "np.sort(clf.coef_)"
   ]
  },
  {
   "cell_type": "code",
   "execution_count": 68,
   "metadata": {},
   "outputs": [
    {
     "data": {
      "text/plain": [
       "array(['dupontaignan', 'clairock', 'feedly', 'fillonpresident', 'scolair',\n",
       "       'jevotefillondeslepremiertour', 'erichacquemand', 'jacqu',\n",
       "       'stopmelenchon', 'benoît'],\n",
       "      dtype='<U39')"
      ]
     },
     "execution_count": 68,
     "metadata": {},
     "output_type": "execute_result"
    }
   ],
   "source": [
    "np.array(vectorizer.get_feature_names())[ind_neg]"
   ]
  },
  {
   "cell_type": "code",
   "execution_count": 69,
   "metadata": {},
   "outputs": [
    {
     "data": {
      "text/plain": [
       "array(['jlmtoulous', 'franceinsoumis', 'bisounour', 'corrompu',\n",
       "       'marineàpar', 'manson_fx', 'ptit', 'emmanuelholland', 'hamon2017',\n",
       "       'stopmacron'],\n",
       "      dtype='<U39')"
      ]
     },
     "execution_count": 69,
     "metadata": {},
     "output_type": "execute_result"
    }
   ],
   "source": [
    "np.array(vectorizer.get_feature_names())[ind_pos]"
   ]
  },
  {
   "cell_type": "code",
   "execution_count": 71,
   "metadata": {},
   "outputs": [
    {
     "data": {
      "text/plain": [
       "array([-1.,  1., -1., -1., -1.,  1.])"
      ]
     },
     "execution_count": 71,
     "metadata": {},
     "output_type": "execute_result"
    }
   ],
   "source": [
    "clf.predict(X_test2)"
   ]
  }
 ],
 "metadata": {
  "kernelspec": {
   "display_name": "Python 3",
   "language": "python",
   "name": "python3"
  },
  "language_info": {
   "codemirror_mode": {
    "name": "ipython",
    "version": 3
   },
   "file_extension": ".py",
   "mimetype": "text/x-python",
   "name": "python",
   "nbconvert_exporter": "python",
   "pygments_lexer": "ipython3",
   "version": "3.5.4"
  }
 },
 "nbformat": 4,
 "nbformat_minor": 2
}

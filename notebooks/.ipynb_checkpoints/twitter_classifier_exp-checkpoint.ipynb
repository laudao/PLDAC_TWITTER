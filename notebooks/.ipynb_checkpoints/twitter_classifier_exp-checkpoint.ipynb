{
 "cells": [
  {
   "cell_type": "code",
   "execution_count": 1,
   "metadata": {},
   "outputs": [],
   "source": [
    "%load_ext autoreload\n",
    "%autoreload 2\n",
    "import sys\n",
    "sys.path.insert(0, '../src')\n",
    "from utils import *\n",
    "import pickle\n",
    "import matplotlib.pyplot as plt\n",
    "from sklearn.svm import LinearSVC\n",
    "from sklearn.model_selection import train_test_split\n",
    "from sklearn.model_selection import cross_val_score\n",
    "from sklearn.metrics import f1_score"
   ]
  },
  {
   "cell_type": "markdown",
   "metadata": {},
   "source": [
    "Load file containing candidate -> corpus mapping :"
   ]
  },
  {
   "cell_type": "code",
   "execution_count": 19,
   "metadata": {},
   "outputs": [],
   "source": [
    "f = open(\"../communities/v1/candidate_to_tweets\", \"rb\")\n",
    "candidate_to_tweets = pickle.load(f)\n",
    "f.close()"
   ]
  },
  {
   "cell_type": "code",
   "execution_count": 3,
   "metadata": {},
   "outputs": [],
   "source": [
    "candidates_mapping = {\n",
    "    0 : \"Arthaud\",\n",
    "    1 : \"Asselineau\",\n",
    "    2 : \"Cheminade\",\n",
    "    3 : \"Dupont-Aignan\",\n",
    "    4 : \"Fillon\",\n",
    "    5 : \"Hamon\",\n",
    "    6 : \"Lassalle\",\n",
    "    7 : \"Le Pen\",\n",
    "    8 : \"Macron\",\n",
    "    9 : \"Mélenchon\",\n",
    "    10 : \"Poutou\"\n",
    "}"
   ]
  },
  {
   "cell_type": "code",
   "execution_count": 38,
   "metadata": {},
   "outputs": [
    {
     "name": "stdout",
     "output_type": "stream",
     "text": [
      "Macron (8) - nombre de tweets : 4475\n",
      "Mélenchon (9) - nombre de tweets : 5198\n",
      "Fillon (4) - nombre de tweets : 2979\n",
      "Hamon (5) - nombre de tweets : 2634\n",
      "Le Pen (7) - nombre de tweets : 3060\n"
     ]
    }
   ],
   "source": [
    "for cand in candidate_to_tweets.keys():\n",
    "    print(\"{} ({}) - nombre de tweets : {}\".format(candidates_mapping[cand], cand, \\\n",
    "                                              len(candidate_to_tweets[cand][0])))"
   ]
  },
  {
   "cell_type": "code",
   "execution_count": 39,
   "metadata": {},
   "outputs": [
    {
     "name": "stdout",
     "output_type": "stream",
     "text": [
      ">>> Communauté Macron\n",
      "\tSCANDALE:#Macron reconnaît que les messages d Mohammed Saou ont une part de gravité, mais voit en lui \"un type bien\" https://t.co/BlI8tPw3AR \n",
      "\t-> 1\n",
      "\tHollande a bien nommé #Taubira !!!! on voit le résultat ?????\n",
      "#jevoteFillon #FillonPresident https://t.co/Cn0pI139be \n",
      "\t-> -1\n",
      "\tMacron va gagner ces élections! https://t.co/kF5eD8nuMX \n",
      "\t-> 1\n",
      "\t@raphyane @AssoUPF #Sarkozy et #Fillon ont su sauver notre économie dans l'une des pires crises financières.\n",
      "Hollan… https://t.co/HudCO6XHew \n",
      "\t-> -1\n",
      "\tSelon Le Canard enchaîné, Macron aurait accordé 900 millions d’euros de baisse d’impôts aux cadres du CAC 40 https://t.co/RVJ9yYPqgd via @ \n",
      "\t-> 1\n",
      "-------------------------------\n",
      ">>> Communauté Mélenchon\n",
      "\t@Manifou @Letankytank @the_boss2016_ @TwittAir01 @JLMelenchon @jccambadelis N'importe quoi regarde le meeting de Li… https://t.co/uoVZtrwog1 \n",
      "\t-> 1\n",
      "\tMARISA MATIAS SOUTIENT JLM2017 https://t.co/slAGo0aQbF via @YouTube \n",
      "\t-> 1\n",
      "\t#Presidentielle2017 Ce que #MarineLePen nous (vous) prépare. Notre analyse du programme #FN https://t.co/ot0baeSjBX… https://t.co/RtGViXqS46 \n",
      "\t-> -1\n",
      "\t@Xavier02100 @JLMelenchon @SamKarmann @EvaDarlan @geralddahan fait un discours sur le statut des hommes politiques,… https://t.co/EheEvW06nn \n",
      "\t-> 1\n",
      "\tLes relations troubles d'Hamon, Hidalgo, et LVMH.\n",
      "https://t.co/KOvhnp1j3f \n",
      "\t-> -1\n",
      "-------------------------------\n",
      ">>> Communauté Fillon\n",
      "\tRappelez vous Dimanche qu'en degageant Fillon on degage ciotti https://t.co/weLBf0vdNT \n",
      "\t-> 1\n",
      "\tDes membres de Sens commun pourraient être présents dans un gouvernement Fillon https://t.co/aQlY3zkbTl \n",
      "\t-> 1\n",
      "\tGrande continuité chez #Fillon aux abois ... https://t.co/U5F2It1eG7 \n",
      "\t-> 1\n",
      "\t@EmmanuelMacron Lisez son programme avant de voter pour lui... !\n",
      "https://t.co/YwsMrT9zdG \n",
      "\t-> -1\n",
      "\t@GrandesVoix Hallucinant ! LE pro FILLON qui s'exprime \n",
      "\t-> 1\n",
      "-------------------------------\n",
      ">>> Communauté Hamon\n",
      "\tCcl:soit Maduro et Macron ont la même pol soit l'entourage de Macron considere que l'argent n'a pas d'odeur! Dans les deux cas ça craint! \n",
      "\t-> -1\n",
      "\t#BHRennes :\n",
      "Benoit Hamon pertinent, drôle et précis. Les programmes des autres sont critiqués mais l'humain est respecté. Super meeting ! ?? \n",
      "\t-> 1\n",
      "\t@axelyxx @pudding271 @Vivi_bch @SoChik75 @raphadiez @SenSanders @JLMelenchon oui sauf que là,Roosevelt parle des re… https://t.co/4HV8xgaSOv \n",
      "\t-> -1\n",
      "\t@benoithamon: \"...vs ne pouvez pas savoir à quel point à chq fois ça me dit que nous avons #raison\" (2/2) #Hamon2017 https://t.co/HS4qkNBQpk \n",
      "\t-> 1\n",
      "\tCe vendredi soir, Benoît Hamon sera en meeting au Liberté à Rennes. Et ça risque d'envoyer des menhirs ! ?… https://t.co/44lMPkCgXW \n",
      "\t-> 1\n",
      "-------------------------------\n",
      ">>> Communauté Le Pen\n",
      "\t@FN_SaoneEtLoire le journal l indépendant de Louhans revient sur ma candidature pour les législatives… https://t.co/dBGbwNch7z \n",
      "\t-> 1\n",
      "\tElysée 2017 : Je vois Le Pen (37,6%) et Macron (31,3%) au 2e tour, et vous ?  https://t.co/CSwolHGLjA MARINE POUR LA FRANCE \n",
      "\t-> 1\n",
      "\t@rianne_mar @JJBourdin_RMC @RMCinfo @MLP_officiel @JLMelenchon @lepenjm Vous savez quoi ? Les gaulois sont chez eux… https://t.co/T9pKiMjgN2 \n",
      "\t-> 1\n",
      "\tLIVE PRÉSIDENTIEL - Jean-Luc Mélenchon sur TF1 : \"Je ne viens pas faire un coup d'État\" https://t.co/ObrdfkyplD https://t.co/9VWE1qD9Nj \n",
      "\t-> -1\n",
      "\t@brunornc64 @ta_malou @Planetes360 C'est MACRON...ou sa MARIONNETTE, pas bonne la  Photo???????????????? \n",
      "\t-> -1\n",
      "-------------------------------\n"
     ]
    }
   ],
   "source": [
    "for candidate, data in candidate_to_tweets.items():\n",
    "    print(\">>> Communauté {}\".format(candidates_mapping[candidate]))\n",
    "    tweets = data[0]\n",
    "    sentiments = data[1]\n",
    "    ind = np.random.choice(range(0,len(tweets)), 5, replace=False)\n",
    "    sample_tweets = tweets[ind]\n",
    "    sample_sent = sentiments[ind]\n",
    "    for i in range(5):\n",
    "        print(\"\\t{} \\n\\t-> {}\".format(sample_tweets[i], int(sample_sent[i])))\n",
    "    print(\"-------------------------------\")"
   ]
  },
  {
   "cell_type": "code",
   "execution_count": 37,
   "metadata": {},
   "outputs": [],
   "source": [
    "corpus = []\n",
    "labels = []\n",
    "for cand, data in candidate_to_tweets.items():\n",
    "    tweets = data[0]\n",
    "    sentiments = data[1]\n",
    "    corpus = np.append(corpus, tweets)\n",
    "    labels = np.append(labels, sentiments)"
   ]
  },
  {
   "cell_type": "code",
   "execution_count": 40,
   "metadata": {},
   "outputs": [
    {
     "data": {
      "text/plain": [
       "18346"
      ]
     },
     "execution_count": 40,
     "metadata": {},
     "output_type": "execute_result"
    }
   ],
   "source": [
    "len(corpus)"
   ]
  },
  {
   "cell_type": "code",
   "execution_count": 42,
   "metadata": {},
   "outputs": [],
   "source": [
    "corpus, ind, unique_counts = np.unique(corpus, return_index=True, return_counts=True)"
   ]
  },
  {
   "cell_type": "code",
   "execution_count": 44,
   "metadata": {},
   "outputs": [
    {
     "data": {
      "text/plain": [
       "18246"
      ]
     },
     "execution_count": 44,
     "metadata": {},
     "output_type": "execute_result"
    }
   ],
   "source": [
    "len(corpus)"
   ]
  },
  {
   "cell_type": "code",
   "execution_count": 43,
   "metadata": {},
   "outputs": [],
   "source": [
    "labels = labels[ind]"
   ]
  },
  {
   "cell_type": "code",
   "execution_count": 55,
   "metadata": {},
   "outputs": [
    {
     "data": {
      "text/plain": [
       "0.8454536259735006"
      ]
     },
     "execution_count": 55,
     "metadata": {},
     "output_type": "execute_result"
    }
   ],
   "source": [
    "# ratio positif sur négatif\n",
    "np.count_nonzero(labels == 1) / np.count_nonzero(labels == -1)"
   ]
  },
  {
   "cell_type": "code",
   "execution_count": 45,
   "metadata": {},
   "outputs": [
    {
     "name": "stdout",
     "output_type": "stream",
     "text": [
      "Removing numbers\n",
      "Removing stopwords\n",
      "Stemming\n",
      "Removing uppercases\n",
      "Removing accents\n"
     ]
    }
   ],
   "source": [
    "[vectorizer, X] = build_vectorizer(corpus,\\\n",
    "                                     stopwords=french_stopwords(),\\\n",
    "                                     b_stemming=True,\\\n",
    "                                     b_rmaccent=True,\\\n",
    "                                     b_lowercase=True,\n",
    "                                    b_rmnumbers=True)"
   ]
  },
  {
   "cell_type": "code",
   "execution_count": 46,
   "metadata": {},
   "outputs": [],
   "source": [
    "words_freq = get_words_freq(vectorizer,X)"
   ]
  },
  {
   "cell_type": "code",
   "execution_count": 47,
   "metadata": {},
   "outputs": [
    {
     "data": {
      "text/html": [
       "<div>\n",
       "<style scoped>\n",
       "    .dataframe tbody tr th:only-of-type {\n",
       "        vertical-align: middle;\n",
       "    }\n",
       "\n",
       "    .dataframe tbody tr th {\n",
       "        vertical-align: top;\n",
       "    }\n",
       "\n",
       "    .dataframe thead th {\n",
       "        text-align: right;\n",
       "    }\n",
       "</style>\n",
       "<table border=\"1\" class=\"dataframe\">\n",
       "  <thead>\n",
       "    <tr style=\"text-align: right;\">\n",
       "      <th></th>\n",
       "      <th>0</th>\n",
       "      <th>1</th>\n",
       "    </tr>\n",
       "  </thead>\n",
       "  <tbody>\n",
       "    <tr>\n",
       "      <th>0</th>\n",
       "      <td>macron</td>\n",
       "      <td>5835</td>\n",
       "    </tr>\n",
       "    <tr>\n",
       "      <th>1</th>\n",
       "      <td>melenchon</td>\n",
       "      <td>4370</td>\n",
       "    </tr>\n",
       "    <tr>\n",
       "      <th>2</th>\n",
       "      <td>fillon</td>\n",
       "      <td>3755</td>\n",
       "    </tr>\n",
       "    <tr>\n",
       "      <th>3</th>\n",
       "      <td>hamon</td>\n",
       "      <td>1875</td>\n",
       "    </tr>\n",
       "    <tr>\n",
       "      <th>4</th>\n",
       "      <td>vot</td>\n",
       "      <td>1665</td>\n",
       "    </tr>\n",
       "    <tr>\n",
       "      <th>5</th>\n",
       "      <td>franc</td>\n",
       "      <td>1249</td>\n",
       "    </tr>\n",
       "    <tr>\n",
       "      <th>6</th>\n",
       "      <td>vi</td>\n",
       "      <td>1214</td>\n",
       "    </tr>\n",
       "    <tr>\n",
       "      <th>7</th>\n",
       "      <td>plus</td>\n",
       "      <td>991</td>\n",
       "    </tr>\n",
       "    <tr>\n",
       "      <th>8</th>\n",
       "      <td>jlm2017</td>\n",
       "      <td>974</td>\n",
       "    </tr>\n",
       "    <tr>\n",
       "      <th>9</th>\n",
       "      <td>fait</td>\n",
       "      <td>812</td>\n",
       "    </tr>\n",
       "  </tbody>\n",
       "</table>\n",
       "</div>"
      ],
      "text/plain": [
       "           0     1\n",
       "0     macron  5835\n",
       "1  melenchon  4370\n",
       "2     fillon  3755\n",
       "3      hamon  1875\n",
       "4        vot  1665\n",
       "5      franc  1249\n",
       "6         vi  1214\n",
       "7       plus   991\n",
       "8    jlm2017   974\n",
       "9       fait   812"
      ]
     },
     "execution_count": 47,
     "metadata": {},
     "output_type": "execute_result"
    }
   ],
   "source": [
    "pd.DataFrame(words_freq).head(10)"
   ]
  },
  {
   "cell_type": "code",
   "execution_count": 48,
   "metadata": {},
   "outputs": [],
   "source": [
    "# pour vérifier à l'oeil\n",
    "tweets_test = np.array([\"Emmanuel #Macron l'escroquerie en marche\", \n",
    "               \"#EminemVsMelenchon #JLM2017 Des qu'un mec perce en France Eminem se sent obligé de le clasher...\",\n",
    "              \"Au 2nd tour : #Fillon et #Mélenchon. L'électorat de droite fermera les yeux sur les affaires, celui de gauche ouvrira les siens sur #Macron.\",\n",
    "              \"Couverts par le #PS.\",\n",
    "            \"Ah bah voilà qui devrait rassurer @JLMelenchon... https://t.co/PVjlmyvWfA\",\n",
    "            \"Ne vous trompez pas de bulletin de vote #JLM2017 pour la paix les autres c'est la guerre https://t.co/zz67XLndCd\"])\n",
    "\n",
    "X_test2 = vectorize_docs(vectorizer, tweets_test)"
   ]
  },
  {
   "cell_type": "markdown",
   "metadata": {},
   "source": [
    "## Première version"
   ]
  },
  {
   "cell_type": "code",
   "execution_count": 56,
   "metadata": {},
   "outputs": [],
   "source": [
    "X_train, X_test, y_train, y_test = train_test_split(X, labels, test_size=0.3,random_state=0,stratify=labels)"
   ]
  },
  {
   "cell_type": "code",
   "execution_count": 58,
   "metadata": {},
   "outputs": [
    {
     "name": "stderr",
     "output_type": "stream",
     "text": [
      "/Users/lauranguyen/anaconda3/lib/python3.5/site-packages/sklearn/svm/base.py:922: ConvergenceWarning: Liblinear failed to converge, increase the number of iterations.\n",
      "  \"the number of iterations.\", ConvergenceWarning)\n",
      "/Users/lauranguyen/anaconda3/lib/python3.5/site-packages/sklearn/svm/base.py:922: ConvergenceWarning: Liblinear failed to converge, increase the number of iterations.\n",
      "  \"the number of iterations.\", ConvergenceWarning)\n",
      "/Users/lauranguyen/anaconda3/lib/python3.5/site-packages/sklearn/svm/base.py:922: ConvergenceWarning: Liblinear failed to converge, increase the number of iterations.\n",
      "  \"the number of iterations.\", ConvergenceWarning)\n",
      "/Users/lauranguyen/anaconda3/lib/python3.5/site-packages/sklearn/svm/base.py:922: ConvergenceWarning: Liblinear failed to converge, increase the number of iterations.\n",
      "  \"the number of iterations.\", ConvergenceWarning)\n",
      "/Users/lauranguyen/anaconda3/lib/python3.5/site-packages/sklearn/svm/base.py:922: ConvergenceWarning: Liblinear failed to converge, increase the number of iterations.\n",
      "  \"the number of iterations.\", ConvergenceWarning)\n",
      "/Users/lauranguyen/anaconda3/lib/python3.5/site-packages/sklearn/svm/base.py:922: ConvergenceWarning: Liblinear failed to converge, increase the number of iterations.\n",
      "  \"the number of iterations.\", ConvergenceWarning)\n",
      "/Users/lauranguyen/anaconda3/lib/python3.5/site-packages/sklearn/svm/base.py:922: ConvergenceWarning: Liblinear failed to converge, increase the number of iterations.\n",
      "  \"the number of iterations.\", ConvergenceWarning)\n",
      "/Users/lauranguyen/anaconda3/lib/python3.5/site-packages/sklearn/svm/base.py:922: ConvergenceWarning: Liblinear failed to converge, increase the number of iterations.\n",
      "  \"the number of iterations.\", ConvergenceWarning)\n",
      "/Users/lauranguyen/anaconda3/lib/python3.5/site-packages/sklearn/svm/base.py:922: ConvergenceWarning: Liblinear failed to converge, increase the number of iterations.\n",
      "  \"the number of iterations.\", ConvergenceWarning)\n",
      "/Users/lauranguyen/anaconda3/lib/python3.5/site-packages/sklearn/svm/base.py:922: ConvergenceWarning: Liblinear failed to converge, increase the number of iterations.\n",
      "  \"the number of iterations.\", ConvergenceWarning)\n",
      "/Users/lauranguyen/anaconda3/lib/python3.5/site-packages/sklearn/svm/base.py:922: ConvergenceWarning: Liblinear failed to converge, increase the number of iterations.\n",
      "  \"the number of iterations.\", ConvergenceWarning)\n",
      "/Users/lauranguyen/anaconda3/lib/python3.5/site-packages/sklearn/svm/base.py:922: ConvergenceWarning: Liblinear failed to converge, increase the number of iterations.\n",
      "  \"the number of iterations.\", ConvergenceWarning)\n",
      "/Users/lauranguyen/anaconda3/lib/python3.5/site-packages/sklearn/svm/base.py:922: ConvergenceWarning: Liblinear failed to converge, increase the number of iterations.\n",
      "  \"the number of iterations.\", ConvergenceWarning)\n",
      "/Users/lauranguyen/anaconda3/lib/python3.5/site-packages/sklearn/svm/base.py:922: ConvergenceWarning: Liblinear failed to converge, increase the number of iterations.\n",
      "  \"the number of iterations.\", ConvergenceWarning)\n",
      "/Users/lauranguyen/anaconda3/lib/python3.5/site-packages/sklearn/svm/base.py:922: ConvergenceWarning: Liblinear failed to converge, increase the number of iterations.\n",
      "  \"the number of iterations.\", ConvergenceWarning)\n",
      "/Users/lauranguyen/anaconda3/lib/python3.5/site-packages/sklearn/svm/base.py:922: ConvergenceWarning: Liblinear failed to converge, increase the number of iterations.\n",
      "  \"the number of iterations.\", ConvergenceWarning)\n",
      "/Users/lauranguyen/anaconda3/lib/python3.5/site-packages/sklearn/svm/base.py:922: ConvergenceWarning: Liblinear failed to converge, increase the number of iterations.\n",
      "  \"the number of iterations.\", ConvergenceWarning)\n",
      "/Users/lauranguyen/anaconda3/lib/python3.5/site-packages/sklearn/svm/base.py:922: ConvergenceWarning: Liblinear failed to converge, increase the number of iterations.\n",
      "  \"the number of iterations.\", ConvergenceWarning)\n",
      "/Users/lauranguyen/anaconda3/lib/python3.5/site-packages/sklearn/svm/base.py:922: ConvergenceWarning: Liblinear failed to converge, increase the number of iterations.\n",
      "  \"the number of iterations.\", ConvergenceWarning)\n",
      "/Users/lauranguyen/anaconda3/lib/python3.5/site-packages/sklearn/svm/base.py:922: ConvergenceWarning: Liblinear failed to converge, increase the number of iterations.\n",
      "  \"the number of iterations.\", ConvergenceWarning)\n",
      "/Users/lauranguyen/anaconda3/lib/python3.5/site-packages/sklearn/svm/base.py:922: ConvergenceWarning: Liblinear failed to converge, increase the number of iterations.\n",
      "  \"the number of iterations.\", ConvergenceWarning)\n",
      "/Users/lauranguyen/anaconda3/lib/python3.5/site-packages/sklearn/svm/base.py:922: ConvergenceWarning: Liblinear failed to converge, increase the number of iterations.\n",
      "  \"the number of iterations.\", ConvergenceWarning)\n",
      "/Users/lauranguyen/anaconda3/lib/python3.5/site-packages/sklearn/svm/base.py:922: ConvergenceWarning: Liblinear failed to converge, increase the number of iterations.\n",
      "  \"the number of iterations.\", ConvergenceWarning)\n",
      "/Users/lauranguyen/anaconda3/lib/python3.5/site-packages/sklearn/svm/base.py:922: ConvergenceWarning: Liblinear failed to converge, increase the number of iterations.\n",
      "  \"the number of iterations.\", ConvergenceWarning)\n",
      "/Users/lauranguyen/anaconda3/lib/python3.5/site-packages/sklearn/svm/base.py:922: ConvergenceWarning: Liblinear failed to converge, increase the number of iterations.\n",
      "  \"the number of iterations.\", ConvergenceWarning)\n",
      "/Users/lauranguyen/anaconda3/lib/python3.5/site-packages/sklearn/svm/base.py:922: ConvergenceWarning: Liblinear failed to converge, increase the number of iterations.\n",
      "  \"the number of iterations.\", ConvergenceWarning)\n",
      "/Users/lauranguyen/anaconda3/lib/python3.5/site-packages/sklearn/svm/base.py:922: ConvergenceWarning: Liblinear failed to converge, increase the number of iterations.\n",
      "  \"the number of iterations.\", ConvergenceWarning)\n",
      "/Users/lauranguyen/anaconda3/lib/python3.5/site-packages/sklearn/svm/base.py:922: ConvergenceWarning: Liblinear failed to converge, increase the number of iterations.\n",
      "  \"the number of iterations.\", ConvergenceWarning)\n",
      "/Users/lauranguyen/anaconda3/lib/python3.5/site-packages/sklearn/svm/base.py:922: ConvergenceWarning: Liblinear failed to converge, increase the number of iterations.\n",
      "  \"the number of iterations.\", ConvergenceWarning)\n",
      "/Users/lauranguyen/anaconda3/lib/python3.5/site-packages/sklearn/svm/base.py:922: ConvergenceWarning: Liblinear failed to converge, increase the number of iterations.\n",
      "  \"the number of iterations.\", ConvergenceWarning)\n",
      "/Users/lauranguyen/anaconda3/lib/python3.5/site-packages/sklearn/svm/base.py:922: ConvergenceWarning: Liblinear failed to converge, increase the number of iterations.\n",
      "  \"the number of iterations.\", ConvergenceWarning)\n",
      "/Users/lauranguyen/anaconda3/lib/python3.5/site-packages/sklearn/svm/base.py:922: ConvergenceWarning: Liblinear failed to converge, increase the number of iterations.\n",
      "  \"the number of iterations.\", ConvergenceWarning)\n",
      "/Users/lauranguyen/anaconda3/lib/python3.5/site-packages/sklearn/svm/base.py:922: ConvergenceWarning: Liblinear failed to converge, increase the number of iterations.\n",
      "  \"the number of iterations.\", ConvergenceWarning)\n",
      "/Users/lauranguyen/anaconda3/lib/python3.5/site-packages/sklearn/svm/base.py:922: ConvergenceWarning: Liblinear failed to converge, increase the number of iterations.\n",
      "  \"the number of iterations.\", ConvergenceWarning)\n",
      "/Users/lauranguyen/anaconda3/lib/python3.5/site-packages/sklearn/svm/base.py:922: ConvergenceWarning: Liblinear failed to converge, increase the number of iterations.\n",
      "  \"the number of iterations.\", ConvergenceWarning)\n",
      "/Users/lauranguyen/anaconda3/lib/python3.5/site-packages/sklearn/svm/base.py:922: ConvergenceWarning: Liblinear failed to converge, increase the number of iterations.\n",
      "  \"the number of iterations.\", ConvergenceWarning)\n",
      "/Users/lauranguyen/anaconda3/lib/python3.5/site-packages/sklearn/svm/base.py:922: ConvergenceWarning: Liblinear failed to converge, increase the number of iterations.\n",
      "  \"the number of iterations.\", ConvergenceWarning)\n",
      "/Users/lauranguyen/anaconda3/lib/python3.5/site-packages/sklearn/svm/base.py:922: ConvergenceWarning: Liblinear failed to converge, increase the number of iterations.\n",
      "  \"the number of iterations.\", ConvergenceWarning)\n"
     ]
    },
    {
     "name": "stderr",
     "output_type": "stream",
     "text": [
      "/Users/lauranguyen/anaconda3/lib/python3.5/site-packages/sklearn/svm/base.py:922: ConvergenceWarning: Liblinear failed to converge, increase the number of iterations.\n",
      "  \"the number of iterations.\", ConvergenceWarning)\n",
      "/Users/lauranguyen/anaconda3/lib/python3.5/site-packages/sklearn/svm/base.py:922: ConvergenceWarning: Liblinear failed to converge, increase the number of iterations.\n",
      "  \"the number of iterations.\", ConvergenceWarning)\n",
      "/Users/lauranguyen/anaconda3/lib/python3.5/site-packages/sklearn/svm/base.py:922: ConvergenceWarning: Liblinear failed to converge, increase the number of iterations.\n",
      "  \"the number of iterations.\", ConvergenceWarning)\n",
      "/Users/lauranguyen/anaconda3/lib/python3.5/site-packages/sklearn/svm/base.py:922: ConvergenceWarning: Liblinear failed to converge, increase the number of iterations.\n",
      "  \"the number of iterations.\", ConvergenceWarning)\n",
      "/Users/lauranguyen/anaconda3/lib/python3.5/site-packages/sklearn/svm/base.py:922: ConvergenceWarning: Liblinear failed to converge, increase the number of iterations.\n",
      "  \"the number of iterations.\", ConvergenceWarning)\n",
      "/Users/lauranguyen/anaconda3/lib/python3.5/site-packages/sklearn/svm/base.py:922: ConvergenceWarning: Liblinear failed to converge, increase the number of iterations.\n",
      "  \"the number of iterations.\", ConvergenceWarning)\n",
      "/Users/lauranguyen/anaconda3/lib/python3.5/site-packages/sklearn/svm/base.py:922: ConvergenceWarning: Liblinear failed to converge, increase the number of iterations.\n",
      "  \"the number of iterations.\", ConvergenceWarning)\n",
      "/Users/lauranguyen/anaconda3/lib/python3.5/site-packages/sklearn/svm/base.py:922: ConvergenceWarning: Liblinear failed to converge, increase the number of iterations.\n",
      "  \"the number of iterations.\", ConvergenceWarning)\n"
     ]
    }
   ],
   "source": [
    "n_C = 100\n",
    "interval = np.logspace(-5, 5, n_C)\n",
    "\n",
    "mean_scores = []\n",
    "for C in interval:\n",
    "    clf = LinearSVC(C=C)\n",
    "    scores = cross_val_score(clf, X_train, y_train, cv=4,scoring='f1')\n",
    "    mean_scores.append(np.mean(scores)) "
   ]
  },
  {
   "cell_type": "code",
   "execution_count": 59,
   "metadata": {},
   "outputs": [
    {
     "data": {
      "image/png": "[encoded data removed]",
      "text/plain": [
       "<Figure size 432x288 with 1 Axes>"
      ]
     },
     "metadata": {},
     "output_type": "display_data"
    }
   ],
   "source": [
    "plt.plot(interval, mean_scores)\n",
    "plt.show()"
   ]
  },
  {
   "cell_type": "code",
   "execution_count": 60,
   "metadata": {},
   "outputs": [
    {
     "data": {
      "text/plain": [
       "0.65587044534412964"
      ]
     },
     "execution_count": 60,
     "metadata": {},
     "output_type": "execute_result"
    }
   ],
   "source": [
    "C_opt = interval[np.argmax(mean_scores)]\n",
    "clf = LinearSVC(C=C_opt)\n",
    "clf.fit(X_train,y_train)\n",
    "y_pred=clf.predict(X_test)\n",
    "f1_score(y_test,y_pred,pos_label=1)"
   ]
  },
  {
   "cell_type": "code",
   "execution_count": 67,
   "metadata": {},
   "outputs": [],
   "source": [
    "ind_neg = np.argsort(clf.coef_).flatten()[0:10]\n",
    "ind_pos = np.argsort(clf.coef_).flatten()[clf.coef_.shape[1]-10:]"
   ]
  },
  {
   "cell_type": "code",
   "execution_count": 70,
   "metadata": {},
   "outputs": [
    {
     "data": {
      "text/plain": [
       "array([[-0.88505988, -0.68836106, -0.64711426, ...,  0.83069181,\n",
       "         0.83871227,  0.99335108]])"
      ]
     },
     "execution_count": 70,
     "metadata": {},
     "output_type": "execute_result"
    }
   ],
   "source": [
    "np.sort(clf.coef_)"
   ]
  },
  {
   "cell_type": "code",
   "execution_count": 68,
   "metadata": {},
   "outputs": [
    {
     "data": {
      "text/plain": [
       "array(['dupontaignan', 'clairock', 'feedly', 'fillonpresident', 'scolair',\n",
       "       'jevotefillondeslepremiertour', 'erichacquemand', 'jacqu',\n",
       "       'stopmelenchon', 'benoît'],\n",
       "      dtype='<U39')"
      ]
     },
     "execution_count": 68,
     "metadata": {},
     "output_type": "execute_result"
    }
   ],
   "source": [
    "np.array(vectorizer.get_feature_names())[ind_neg]"
   ]
  },
  {
   "cell_type": "code",
   "execution_count": 69,
   "metadata": {},
   "outputs": [
    {
     "data": {
      "text/plain": [
       "array(['jlmtoulous', 'franceinsoumis', 'bisounour', 'corrompu',\n",
       "       'marineàpar', 'manson_fx', 'ptit', 'emmanuelholland', 'hamon2017',\n",
       "       'stopmacron'],\n",
       "      dtype='<U39')"
      ]
     },
     "execution_count": 69,
     "metadata": {},
     "output_type": "execute_result"
    }
   ],
   "source": [
    "np.array(vectorizer.get_feature_names())[ind_pos]"
   ]
  },
  {
   "cell_type": "code",
   "execution_count": 71,
   "metadata": {},
   "outputs": [
    {
     "data": {
      "text/plain": [
       "array([-1.,  1., -1., -1., -1.,  1.])"
      ]
     },
     "execution_count": 71,
     "metadata": {},
     "output_type": "execute_result"
    }
   ],
   "source": [
    "clf.predict(X_test2)"
   ]
  }
 ],
 "metadata": {
  "kernelspec": {
   "display_name": "Python 3",
   "language": "python",
   "name": "python3"
  },
  "language_info": {
   "codemirror_mode": {
    "name": "ipython",
    "version": 3
   },
   "file_extension": ".py",
   "mimetype": "text/x-python",
   "name": "python",
   "nbconvert_exporter": "python",
   "pygments_lexer": "ipython3",
   "version": "3.5.4"
  }
 },
 "nbformat": 4,
 "nbformat_minor": 2
}

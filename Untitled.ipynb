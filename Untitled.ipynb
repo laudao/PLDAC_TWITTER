{
 "cells": [
  {
   "cell_type": "code",
   "execution_count": 3,
   "metadata": {},
   "outputs": [
    {
     "name": "stdout",
     "output_type": "stream",
     "text": [
      "The autoreload extension is already loaded. To reload it, use:\n",
      "  %reload_ext autoreload\n"
     ]
    }
   ],
   "source": [
    "%load_ext autoreload\n",
    "%autoreload 2\n",
    "from parsing import *\n",
    "from random import shuffle"
   ]
  },
  {
   "cell_type": "code",
   "execution_count": 10,
   "metadata": {},
   "outputs": [],
   "source": [
    "df_decathlon = parse_decathlon()"
   ]
  },
  {
   "cell_type": "code",
   "execution_count": 13,
   "metadata": {},
   "outputs": [],
   "source": [
    "df_movies = parse_movies()"
   ]
  },
  {
   "cell_type": "code",
   "execution_count": 11,
   "metadata": {},
   "outputs": [],
   "source": [
    "df_decathlon = pd.read_csv('csv/decathlon_reviews.csv')"
   ]
  },
  {
   "cell_type": "code",
   "execution_count": 14,
   "metadata": {},
   "outputs": [
    {
     "data": {
      "text/html": [
       "<div>\n",
       "<style scoped>\n",
       "    .dataframe tbody tr th:only-of-type {\n",
       "        vertical-align: middle;\n",
       "    }\n",
       "\n",
       "    .dataframe tbody tr th {\n",
       "        vertical-align: top;\n",
       "    }\n",
       "\n",
       "    .dataframe thead th {\n",
       "        text-align: right;\n",
       "    }\n",
       "</style>\n",
       "<table border=\"1\" class=\"dataframe\">\n",
       "  <thead>\n",
       "    <tr style=\"text-align: right;\">\n",
       "      <th></th>\n",
       "      <th>label</th>\n",
       "      <th>review</th>\n",
       "      <th>score</th>\n",
       "    </tr>\n",
       "  </thead>\n",
       "  <tbody>\n",
       "    <tr>\n",
       "      <th>0</th>\n",
       "      <td>1</td>\n",
       "      <td>Je l'ai acheter aujourd'hui et il ma permi de ...</td>\n",
       "      <td>5</td>\n",
       "    </tr>\n",
       "    <tr>\n",
       "      <th>1</th>\n",
       "      <td>1</td>\n",
       "      <td>Très léger toujours dans ma boite de pêche dep...</td>\n",
       "      <td>5</td>\n",
       "    </tr>\n",
       "    <tr>\n",
       "      <th>2</th>\n",
       "      <td>1</td>\n",
       "      <td>avant il m'a servit pendant 13 ans mais mainte...</td>\n",
       "      <td>5</td>\n",
       "    </tr>\n",
       "    <tr>\n",
       "      <th>3</th>\n",
       "      <td>1</td>\n",
       "      <td>manque plus qu'une version grand plogeur très ...</td>\n",
       "      <td>4</td>\n",
       "    </tr>\n",
       "    <tr>\n",
       "      <th>4</th>\n",
       "      <td>1</td>\n",
       "      <td>je conseil ce leurre pour sa nage et son effic...</td>\n",
       "      <td>5</td>\n",
       "    </tr>\n",
       "  </tbody>\n",
       "</table>\n",
       "</div>"
      ],
      "text/plain": [
       "   label                                             review  score\n",
       "0      1  Je l'ai acheter aujourd'hui et il ma permi de ...      5\n",
       "1      1  Très léger toujours dans ma boite de pêche dep...      5\n",
       "2      1  avant il m'a servit pendant 13 ans mais mainte...      5\n",
       "3      1  manque plus qu'une version grand plogeur très ...      4\n",
       "4      1  je conseil ce leurre pour sa nage et son effic...      5"
      ]
     },
     "execution_count": 14,
     "metadata": {},
     "output_type": "execute_result"
    }
   ],
   "source": [
    "df_decathlon.head(5)"
   ]
  },
  {
   "cell_type": "code",
   "execution_count": 15,
   "metadata": {},
   "outputs": [
    {
     "data": {
      "text/html": [
       "<div>\n",
       "<style scoped>\n",
       "    .dataframe tbody tr th:only-of-type {\n",
       "        vertical-align: middle;\n",
       "    }\n",
       "\n",
       "    .dataframe tbody tr th {\n",
       "        vertical-align: top;\n",
       "    }\n",
       "\n",
       "    .dataframe thead th {\n",
       "        text-align: right;\n",
       "    }\n",
       "</style>\n",
       "<table border=\"1\" class=\"dataframe\">\n",
       "  <thead>\n",
       "    <tr style=\"text-align: right;\">\n",
       "      <th></th>\n",
       "      <th>label</th>\n",
       "      <th>review</th>\n",
       "    </tr>\n",
       "  </thead>\n",
       "  <tbody>\n",
       "    <tr>\n",
       "      <th>0</th>\n",
       "      <td>-1</td>\n",
       "      <td>nul</td>\n",
       "    </tr>\n",
       "    <tr>\n",
       "      <th>1</th>\n",
       "      <td>-1</td>\n",
       "      <td>Que dire?....vraimment de ne vois même pas l'i...</td>\n",
       "    </tr>\n",
       "    <tr>\n",
       "      <th>2</th>\n",
       "      <td>1</td>\n",
       "      <td>Un peu perdu dans cet ensemble de personnages ...</td>\n",
       "    </tr>\n",
       "    <tr>\n",
       "      <th>3</th>\n",
       "      <td>-1</td>\n",
       "      <td>Monsieur le réalisateur :\"Le fait que personne...</td>\n",
       "    </tr>\n",
       "    <tr>\n",
       "      <th>4</th>\n",
       "      <td>-1</td>\n",
       "      <td>Purai.... J'ai perdu 30min de ma vie a regarde...</td>\n",
       "    </tr>\n",
       "  </tbody>\n",
       "</table>\n",
       "</div>"
      ],
      "text/plain": [
       "   label                                             review\n",
       "0     -1                                                nul\n",
       "1     -1  Que dire?....vraimment de ne vois même pas l'i...\n",
       "2      1  Un peu perdu dans cet ensemble de personnages ...\n",
       "3     -1  Monsieur le réalisateur :\"Le fait que personne...\n",
       "4     -1  Purai.... J'ai perdu 30min de ma vie a regarde..."
      ]
     },
     "execution_count": 15,
     "metadata": {},
     "output_type": "execute_result"
    }
   ],
   "source": [
    "df_movies.head(5)"
   ]
  },
  {
   "cell_type": "code",
   "execution_count": 13,
   "metadata": {},
   "outputs": [
    {
     "data": {
      "text/plain": [
       "[\"Nan mais ça devient n'importe quoi! Je parle pour les critiques presses! C'est quand même une honte de voir ces critiques, elles ne depasse pas une étoile! Bon c'est clair il vaut pas trop 4 étoiles mais là, les critiques presse sont comment dire! Je ne sais pas comment dire, mais ce film vaut le détour! Je l'ai trouvé très bon, et on retrouve notre bon vieux Michael Youn qui ne ma pas déçu! Au début j'avais peur, vu les critiques presse et spectateurs je m'attendais à quelque chose d'autre ; mais non! Ca vaut vraiment le détour. Rien d'autre à rajouter pour ma part mise à part qu'il faut le voir.\",\n",
       " 'cool']"
      ]
     },
     "execution_count": 13,
     "metadata": {},
     "output_type": "execute_result"
    }
   ],
   "source": [
    "contents"
   ]
  },
  {
   "cell_type": "code",
   "execution_count": 16,
   "metadata": {},
   "outputs": [
    {
     "data": {
      "text/plain": [
       "\"Nan mais ça devient n'importe quoi! Je parle pour les critiques presses! C'est quand même une honte de voir ces critiques, elles ne depasse pas une étoile! Bon c'est clair il vaut pas trop 4 étoiles mais là, les critiques presse sont comment dire! Je ne sais pas comment dire, mais ce film vaut le détour! Je l'ai trouvé très bon, et on retrouve notre bon vieux Michael Youn qui ne ma pas déçu! Au début j'avais peur, vu les critiques presse et spectateurs je m'attendais à quelque chose d'autre ; mais non! Ca vaut vraiment le détour. Rien d'autre à rajouter pour ma part mise à part qu'il faut le voir. cool\""
      ]
     },
     "execution_count": 16,
     "metadata": {},
     "output_type": "execute_result"
    }
   ],
   "source": [
    "' '.join(contents)"
   ]
  }
 ],
 "metadata": {
  "kernelspec": {
   "display_name": "Python 3",
   "language": "python",
   "name": "python3"
  }
 },
 "nbformat": 4,
 "nbformat_minor": 2
}

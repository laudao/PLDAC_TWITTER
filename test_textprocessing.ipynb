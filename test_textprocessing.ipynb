{
 "cells": [
  {
   "cell_type": "code",
   "execution_count": 33,
   "metadata": {},
   "outputs": [
    {
     "name": "stdout",
     "output_type": "stream",
     "text": [
      "The autoreload extension is already loaded. To reload it, use:\n",
      "  %reload_ext autoreload\n"
     ]
    }
   ],
   "source": [
    "%load_ext autoreload\n",
    "%autoreload 2\n",
    "from utils import *"
   ]
  },
  {
   "cell_type": "code",
   "execution_count": 34,
   "metadata": {},
   "outputs": [],
   "source": [
    "twitter_db = connect_to_db()"
   ]
  },
  {
   "cell_type": "code",
   "execution_count": 35,
   "metadata": {},
   "outputs": [
    {
     "data": {
      "text/plain": [
       "True"
      ]
     },
     "execution_count": 35,
     "metadata": {},
     "output_type": "execute_result"
    }
   ],
   "source": [
    "N = 1000\n",
    "tweet_list = []\n",
    "\n",
    "cursor = twitter_db.cursor()\n",
    "\n",
    "query = (\"SELECT text FROM tweets WHERE lang='fr' LIMIT \" + str(N))\n",
    "\n",
    "cursor.execute(query)\n",
    "\n",
    "for text in cursor:\n",
    "    tweet_list.append(text[0])\n",
    "\n",
    "cursor.close()"
   ]
  },
  {
   "cell_type": "code",
   "execution_count": 29,
   "metadata": {},
   "outputs": [
    {
     "name": "stdout",
     "output_type": "stream",
     "text": [
      "RT @SoChik75: Alors les Insoumis ? On fait quoi le 21 avril? On invite ses voisins et on convainc les derniers indécis !… \n"
     ]
    }
   ],
   "source": [
    "print(tweet_list[1])"
   ]
  },
  {
   "cell_type": "code",
   "execution_count": 36,
   "metadata": {},
   "outputs": [],
   "source": [
    "fr_stopwords = nltk.corpus.stopwords.words('french')\n",
    "fr_stopwords.extend(['de', 'ou', 'sur', 'or', 'ni', 'car', 'quand', 'a', 'mais', 'donc', 'si', 'quel', 'entre',\\\n",
    "                       'tout', 'ce', 'cet', 'ça', 'tous', \"c'est\", 'faire', 'dans', 'fait'])"
   ]
  },
  {
   "cell_type": "code",
   "execution_count": 58,
   "metadata": {},
   "outputs": [
    {
     "name": "stdout",
     "output_type": "stream",
     "text": [
      "Stemming\n",
      "Keeping punctuation\n",
      "Removing accents\n",
      "Keeping the top 50 occurring tokens\n"
     ]
    }
   ],
   "source": [
    "[vectorizer, words_freq] = build_vectorizer(tweet_list, stopwords=fr_stopwords, b_stemming=True,\\\n",
    "                                            b_punctuation=True, b_accent=False, max_f=50)"
   ]
  },
  {
   "cell_type": "code",
   "execution_count": 59,
   "metadata": {},
   "outputs": [
    {
     "name": "stdout",
     "output_type": "stream",
     "text": [
      "50\n",
      "['2017', 'alstom', 'annul', 'argent', 'autorit', 'autr', 'avoir', 'certain', 'chretien', 'comm', 'dat', 'droit', 'econom', 'educ', 'electric', 'emmanuel', 'emmanuelholland', 'etre', 'excellent', 'fillon', 'franc', 'general', 'hamon', 'insult', 'interess', 'italien', 'jam', 'jlm2017', 'macron', 'malien', 'melenchon', 'moral', 'not', 'opinion', 'per', 'plus', 'precoc', 'pretend', 'programm', 'propos', 'question', 'repondu', 'rien', 'san', 'savoir', 'territoir', 'test', 'trois', 'vois', 'vot']\n"
     ]
    }
   ],
   "source": [
    "features = vectorizer.get_feature_names()\n",
    "print(len(features))\n",
    "print(features)"
   ]
  },
  {
   "cell_type": "code",
   "execution_count": 60,
   "metadata": {},
   "outputs": [
    {
     "data": {
      "text/plain": [
       "[('jam', 53),\n",
       " ('macron', 34),\n",
       " ('fillon', 28),\n",
       " ('autr', 28),\n",
       " ('propos', 26),\n",
       " ('argent', 25),\n",
       " ('dat', 24),\n",
       " ('vois', 24),\n",
       " ('moral', 24),\n",
       " ('trois', 24),\n",
       " ('insult', 24),\n",
       " ('autorit', 24),\n",
       " ('annul', 24),\n",
       " ('melenchon', 21),\n",
       " ('franc', 20),\n",
       " ('plus', 19),\n",
       " ('san', 17),\n",
       " ('repondu', 17),\n",
       " ('vot', 16),\n",
       " ('excellent', 14),\n",
       " ('not', 14),\n",
       " ('avoir', 13),\n",
       " ('alstom', 12),\n",
       " ('emmanuel', 12),\n",
       " ('2017', 11),\n",
       " ('droit', 10),\n",
       " ('etre', 10),\n",
       " ('jlm2017', 10),\n",
       " ('econom', 9),\n",
       " ('electric', 9),\n",
       " ('general', 9),\n",
       " ('rien', 9),\n",
       " ('opinion', 8),\n",
       " ('certain', 8),\n",
       " ('programm', 8),\n",
       " ('pretend', 7),\n",
       " ('comm', 7),\n",
       " ('educ', 7),\n",
       " ('hamon', 7),\n",
       " ('test', 7),\n",
       " ('question', 7),\n",
       " ('emmanuelholland', 7),\n",
       " ('savoir', 7),\n",
       " ('italien', 6),\n",
       " ('territoir', 6),\n",
       " ('interess', 6),\n",
       " ('malien', 6),\n",
       " ('per', 6),\n",
       " ('precoc', 6),\n",
       " ('chretien', 6)]"
      ]
     },
     "execution_count": 60,
     "metadata": {},
     "output_type": "execute_result"
    }
   ],
   "source": [
    "words_freq"
   ]
  },
  {
   "cell_type": "code",
   "execution_count": 61,
   "metadata": {},
   "outputs": [],
   "source": [
    "v = CountVectorizer(vocabulary=features)"
   ]
  },
  {
   "cell_type": "code",
   "execution_count": 62,
   "metadata": {},
   "outputs": [],
   "source": [
    "X = v.fit_transform(tweet_list)"
   ]
  },
  {
   "cell_type": "code",
   "execution_count": 63,
   "metadata": {},
   "outputs": [
    {
     "data": {
      "text/plain": [
       "(1, 50)"
      ]
     },
     "execution_count": 63,
     "metadata": {},
     "output_type": "execute_result"
    }
   ],
   "source": [
    "X[0].shape"
   ]
  },
  {
   "cell_type": "code",
   "execution_count": 57,
   "metadata": {},
   "outputs": [
    {
     "data": {
      "text/plain": [
       "(array([392]),)"
      ]
     },
     "execution_count": 57,
     "metadata": {},
     "output_type": "execute_result"
    }
   ],
   "source": [
    "np.where(np.array(features) == 'macron')"
   ]
  },
  {
   "cell_type": "code",
   "execution_count": 52,
   "metadata": {},
   "outputs": [
    {
     "data": {
      "text/plain": [
       "(array([392, 567]),)"
      ]
     },
     "execution_count": 52,
     "metadata": {},
     "output_type": "execute_result"
    }
   ],
   "source": [
    "np.where(X.toarray()[0] == 1)"
   ]
  }
 ],
 "metadata": {
  "kernelspec": {
   "display_name": "Python 3",
   "language": "python",
   "name": "python3"
  },
  "language_info": {
   "codemirror_mode": {
    "name": "ipython",
    "version": 3
   },
   "file_extension": ".py",
   "mimetype": "text/x-python",
   "name": "python",
   "nbconvert_exporter": "python",
   "pygments_lexer": "ipython3",
   "version": "3.5.4"
  }
 },
 "nbformat": 4,
 "nbformat_minor": 2
}

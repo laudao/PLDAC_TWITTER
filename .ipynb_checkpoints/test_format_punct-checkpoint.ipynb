{
 "cells": [
  {
   "cell_type": "code",
   "execution_count": 1,
   "metadata": {},
   "outputs": [],
   "source": [
    "%load_ext autoreload\n",
    "%autoreload 2\n",
    "from utils import *"
   ]
  },
  {
   "cell_type": "code",
   "execution_count": 23,
   "metadata": {},
   "outputs": [],
   "source": [
    "twitter_db = connect_to_db()"
   ]
  },
  {
   "cell_type": "code",
   "execution_count": null,
   "metadata": {},
   "outputs": [
    {
     "name": "stdout",
     "output_type": "stream",
     "text": [
      "UPDATE tweets_new SET text_punct = \"text\" WHERE tweet_id = tweet_id\n"
     ]
    }
   ],
   "source": [
    "twitter_db = connect_to_db()\n",
    "cursor = twitter_db.cursor(buffered=True,dictionary=True)\n",
    "query = \"SELECT text, tweet_id FROM tweets_new WHERE lang='fr' LIMIT 10\"\n",
    "cursor.execute(query)\n",
    "\n",
    "for (text, tweet_id) in cursor:\n",
    "    formatted_text = format_punctuation(text)\n",
    "    sql = 'UPDATE tweets_new SET text_punct = \"' + formatted_text + '\" WHERE tweet_id = ' + str(tweet_id) \n",
    "    cursor.execute(sql)\n",
    "    \n",
    "twitter_db.commit()\n",
    "\n",
    "print(\"{} record(s) affected\".format(cursor.rowcount))\n",
    "cursor.close()"
   ]
  },
  {
   "cell_type": "code",
   "execution_count": null,
   "metadata": {},
   "outputs": [],
   "source": [
    "twitter_db = connect_to_db()\n",
    "cursor = twitter_db.cursor()\n",
    "query = \"SELECT text, tweet_id FROM tweets_new WHERE lang='fr' LIMIT 10\"\n",
    "cursor.execute(query)\n",
    "\n",
    "for (text, tweet_id) in cursor:\n",
    "    formatted_text = format_punctuation(text)\n",
    "    sql = 'UPDATE tweets_new SET text_punct = \\\"%s\\\" WHERE tweet_id = %s'\n",
    "    val = (formatted_text, tweet_id)\n",
    "    print(sql)\n",
    "    cursor.execute(sql, val)\n",
    "    twitter_db.commit()\n",
    "\n",
    "print(\"{} record(s) affected\".format(cursor.rowcount))\n",
    "cursor.close()"
   ]
  },
  {
   "cell_type": "code",
   "execution_count": 15,
   "metadata": {},
   "outputs": [
    {
     "name": "stdout",
     "output_type": "stream",
     "text": [
      "RT @Youssefbarcaa: Quand j'arrive à la CAF à 9h01 #Macron https://t.co/6hDQo5Gk9m 852672755623497728\n",
      "RT @SoChik75: Alors les Insoumis ? On fait quoi le 21 avril? On invite ses voisins et on convainc les derniers indécis !…  852672755938074624\n",
      "@JJBourdin_RMC Pourquoi ne pas passer des extraits des interviews de Fillon avant,pendant et après les primaires. Ç… https://t.co/iF05jgqH4j 852672758714707969\n",
      "Mdrrr a la fin il avait dit \" je craint degun \" https://t.co/Sj9Hw5leSj 852672763571646466\n",
      "RT @Enima__: Y'a un mec il m'doit 20€ jlui envoie plein de photos de Fillon il m'lache des \"???\" Il veut pas comprendre rend l'argent fdp 852672766927155206\n",
      "Couverts par le #PS.\n",
      "#Antifa #Délinquance #Extrêmegauche #Hollande #frontnational #MarineLePen #FN #news #infos\n",
      "https://t.co/uFxXop6ZUf 852672770018291712\n",
      "Sarkozy inspire Macron ? Depuis le temps que je dis que le progr éco de Macron est proche de celui de NS. .. https://t.co/sStugB2tXR 852672771683438593\n",
      "RT @JeudyBruno: Asselineau mouche Macron : \"Vous êtes toujours d'accord avec tout le monde\" Marine Le Pen eclate de rire. Macron rit jaune… 852672772350382080\n",
      "RT @ULYSSE888: #Macron: \"Il n'y a pas de culture française.\"\n",
      "#Mélenchon: \"Nous ne descendons pas des Gaulois.\"\n",
      "#Hamon: \"Je suis fier qu'on… 852672775667957760\n",
      "RT @SondageWorId: Rt et Follow pour le sondage ! ? \n",
      "Qui préfère tu ? #sondage #fillon #fillon2017 #DupontAignan #droite #Presidentielle2017 852672777760817152\n"
     ]
    },
    {
     "data": {
      "text/plain": [
       "True"
      ]
     },
     "execution_count": 15,
     "metadata": {},
     "output_type": "execute_result"
    }
   ],
   "source": [
    "N = 10\n",
    "\n",
    "cursor = twitter_db.cursor()\n",
    "\n",
    "query = (\"SELECT text, tweet_id FROM tweets WHERE lang='fr' LIMIT \" + str(N))\n",
    "\n",
    "cursor.execute(query)\n",
    "\n",
    "for text, tweet_id in cursor:\n",
    "    print(text, tweet_id)\n",
    "\n",
    "cursor.close()"
   ]
  },
  {
   "cell_type": "code",
   "execution_count": 14,
   "metadata": {},
   "outputs": [
    {
     "name": "stdout",
     "output_type": "stream",
     "text": [
      "RT @Youssefbarcaa: Quand j'arrive à la CAF à 9h01 #Macron https://t.co/6hDQo5Gk9m ---> RT @Youssefbarcaa: Quand j'arrive à la CAF à 9h01 #Macron https://t.co/6hDQo5Gk9m\n",
      "****************\n",
      "RT @SoChik75: Alors les Insoumis ? On fait quoi le 21 avril? On invite ses voisins et on convainc les derniers indécis !…  ---> RT @SoChik75: Alors les Insoumis  single_int_mark  On fait quoi le 21 avril single_int_mark  On invite ses voisins et on convainc les derniers indécis  single_excl_mark  susp_pts  \n",
      "****************\n",
      "@JJBourdin_RMC Pourquoi ne pas passer des extraits des interviews de Fillon avant,pendant et après les primaires. Ç… https://t.co/iF05jgqH4j ---> @JJBourdin_RMC Pourquoi ne pas passer des extraits des interviews de Fillon avant,pendant et après les primaires. Ç susp_pts  https://t.co/iF05jgqH4j\n",
      "****************\n",
      "Mdrrr a la fin il avait dit \" je craint degun \" https://t.co/Sj9Hw5leSj ---> Mdrrr a la fin il avait dit \" je craint degun \" https://t.co/Sj9Hw5leSj\n",
      "****************\n",
      "RT @Enima__: Y'a un mec il m'doit 20€ jlui envoie plein de photos de Fillon il m'lache des \"???\" Il veut pas comprendre rend l'argent fdp ---> RT @Enima__: Y'a un mec il m'doit 20€ jlui envoie plein de photos de Fillon il m'lache des \" mult_int_mark \" Il veut pas comprendre rend l'argent fdp\n",
      "****************\n",
      "Couverts par le #PS.\n",
      "#Antifa #Délinquance #Extrêmegauche #Hollande #frontnational #MarineLePen #FN #news #infos\n",
      "https://t.co/uFxXop6ZUf ---> Couverts par le #PS.\n",
      "#Antifa #Délinquance #Extrêmegauche #Hollande #frontnational #MarineLePen #FN #news #infos\n",
      "https://t.co/uFxXop6ZUf\n",
      "****************\n",
      "Sarkozy inspire Macron ? Depuis le temps que je dis que le progr éco de Macron est proche de celui de NS. .. https://t.co/sStugB2tXR ---> Sarkozy inspire Macron  single_int_mark  Depuis le temps que je dis que le progr éco de Macron est proche de celui de NS.  susp_pts  https://t.co/sStugB2tXR\n",
      "****************\n",
      "RT @JeudyBruno: Asselineau mouche Macron : \"Vous êtes toujours d'accord avec tout le monde\" Marine Le Pen eclate de rire. Macron rit jaune… ---> RT @JeudyBruno: Asselineau mouche Macron : \"Vous êtes toujours d'accord avec tout le monde\" Marine Le Pen eclate de rire. Macron rit jaune susp_pts \n",
      "****************\n",
      "RT @ULYSSE888: #Macron: \"Il n'y a pas de culture française.\"\n",
      "#Mélenchon: \"Nous ne descendons pas des Gaulois.\"\n",
      "#Hamon: \"Je suis fier qu'on… ---> RT @ULYSSE888: #Macron: \"Il n'y a pas de culture française.\"\n",
      "#Mélenchon: \"Nous ne descendons pas des Gaulois.\"\n",
      "#Hamon: \"Je suis fier qu'on susp_pts \n",
      "****************\n",
      "RT @SondageWorId: Rt et Follow pour le sondage ! ? \n",
      "Qui préfère tu ? #sondage #fillon #fillon2017 #DupontAignan #droite #Presidentielle2017 ---> RT @SondageWorId: Rt et Follow pour le sondage  single_excl_mark   single_int_mark  \n",
      "Qui préfère tu  single_int_mark  #sondage #fillon #fillon2017 #DupontAignan #droite #Presidentielle2017\n",
      "****************\n"
     ]
    },
    {
     "data": {
      "text/plain": [
       "True"
      ]
     },
     "execution_count": 14,
     "metadata": {},
     "output_type": "execute_result"
    }
   ],
   "source": [
    "N = 10\n",
    "\n",
    "cursor = twitter_db.cursor()\n",
    "\n",
    "query = (\"SELECT text FROM tweets WHERE lang='fr' LIMIT \" + str(N))\n",
    "\n",
    "cursor.execute(query)\n",
    "\n",
    "for text in cursor:\n",
    "    print(\"{} ---> {}\".format(text[0], format_punctuation(text[0])))\n",
    "    print(\"****************\")\n",
    "\n",
    "cursor.close()"
   ]
  }
 ],
 "metadata": {
  "kernelspec": {
   "display_name": "Python 3",
   "language": "python",
   "name": "python3"
  },
  "language_info": {
   "codemirror_mode": {
    "name": "ipython",
    "version": 3
   },
   "file_extension": ".py",
   "mimetype": "text/x-python",
   "name": "python",
   "nbconvert_exporter": "python",
   "pygments_lexer": "ipython3",
   "version": "3.5.4"
  }
 },
 "nbformat": 4,
 "nbformat_minor": 2
}

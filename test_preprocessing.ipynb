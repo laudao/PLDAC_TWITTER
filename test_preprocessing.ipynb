{
 "cells": [
  {
   "cell_type": "code",
   "execution_count": 75,
   "metadata": {},
   "outputs": [
    {
     "name": "stdout",
     "output_type": "stream",
     "text": [
      "The autoreload extension is already loaded. To reload it, use:\n",
      "  %reload_ext autoreload\n"
     ]
    }
   ],
   "source": [
    "%load_ext autoreload\n",
    "%autoreload 2\n",
    "from utils import *"
   ]
  },
  {
   "cell_type": "code",
   "execution_count": 110,
   "metadata": {},
   "outputs": [],
   "source": [
    "tweet_list = get_tweets(N=1000,b_punctuation=False)"
   ]
  },
  {
   "cell_type": "code",
   "execution_count": 113,
   "metadata": {},
   "outputs": [],
   "source": [
    "fr_stopwords = nltk.corpus.stopwords.words('french')\n",
    "fr_stopwords.extend(['de', 'ou', 'sur', 'or', 'ni', 'car', 'quand', 'a', 'mais', 'donc', 'si', 'quel', 'entre',\\\n",
    "                       'tout', 'ce', 'cet', 'ça', 'tous', \"c'est\", 'faire', 'dans', 'fait'])"
   ]
  },
  {
   "cell_type": "code",
   "execution_count": 119,
   "metadata": {},
   "outputs": [
    {
     "name": "stdout",
     "output_type": "stream",
     "text": [
      "Removing numbers\n",
      "Removing stopwords\n",
      "Stemming\n",
      "Removing uppercases\n",
      "Removing accents\n"
     ]
    }
   ],
   "source": [
    "[vectorizer, X_0] = build_vectorizer(tweet_list,\\\n",
    "                                     stopwords=fr_stopwords,\\\n",
    "                                     b_stemming=True,\\\n",
    "                                     b_rmaccent=True,\\\n",
    "                                     b_lowercase=True,\n",
    "                                    b_rmnumbers=True)"
   ]
  },
  {
   "cell_type": "code",
   "execution_count": 120,
   "metadata": {},
   "outputs": [
    {
     "name": "stdout",
     "output_type": "stream",
     "text": [
      "3042\n"
     ]
    }
   ],
   "source": [
    "features = vectorizer.get_feature_names()\n",
    "print(len(features))"
   ]
  },
  {
   "cell_type": "code",
   "execution_count": 116,
   "metadata": {},
   "outputs": [],
   "source": [
    "words_freq = get_words_freq(vectorizer,X_0)"
   ]
  },
  {
   "cell_type": "code",
   "execution_count": 105,
   "metadata": {},
   "outputs": [
    {
     "data": {
      "text/plain": [
       "[('fillon', 197),\n",
       " ('vot', 84),\n",
       " ('vi', 73),\n",
       " ('hamon', 70),\n",
       " ('plus', 58),\n",
       " ('franc', 54),\n",
       " ('françois', 48),\n",
       " ('marin', 46),\n",
       " ('jlm2017', 40),\n",
       " ('cyril_pouchin', 39),\n",
       " ('maarawilazar', 36),\n",
       " ('altiparmak12', 35),\n",
       " ('être', 34),\n",
       " ('non', 32),\n",
       " ('francoisfillon', 31),\n",
       " ('citedessacr', 30),\n",
       " ('mêm', 30),\n",
       " ('veut', 29),\n",
       " ('comm', 29),\n",
       " ('jprichi13', 29),\n",
       " ('pen', 29),\n",
       " ('bien', 27),\n",
       " ('contr', 26),\n",
       " ('tour', 25),\n",
       " ('dir', 25),\n",
       " ('programm', 24),\n",
       " ('droit', 23),\n",
       " ('vrai', 23),\n",
       " ('gauch', 21),\n",
       " ('rien', 21),\n",
       " ('auss', 20),\n",
       " ('bfmtv', 19),\n",
       " ('tres', 19),\n",
       " ('fin', 19),\n",
       " ('présidentiel', 19),\n",
       " ('appel', 18),\n",
       " ('jjbourdin_rmc', 18),\n",
       " ('pass', 18),\n",
       " ('polit', 18),\n",
       " ('chez', 18),\n",
       " ('alor', 17),\n",
       " ('youtub', 17),\n",
       " ('mélenchon', 17),\n",
       " ('holland', 17),\n",
       " ('part', 17),\n",
       " ('apres', 17),\n",
       " ('encor', 17),\n",
       " ('autr', 16),\n",
       " ('eloise_319', 16),\n",
       " ('2017', 16),\n",
       " ('mlp_officiel', 16),\n",
       " ('pourquoi', 16),\n",
       " ('candidat', 16),\n",
       " ('faut', 15),\n",
       " ('argent', 15),\n",
       " ('bon', 15),\n",
       " ('sondag', 15),\n",
       " ('jean', 15),\n",
       " ('était', 15),\n",
       " ('meeting', 15),\n",
       " ('enmarch', 15),\n",
       " ('san', 15),\n",
       " ('dit', 15),\n",
       " ('bourdin', 14),\n",
       " ('marine2017', 14),\n",
       " ('amp', 14),\n",
       " ('sort', 14),\n",
       " ('social', 14),\n",
       " ('seul', 14),\n",
       " ('grand', 14),\n",
       " ('pro', 14),\n",
       " ('dis', 13),\n",
       " ('journal', 13),\n",
       " ('peur', 13),\n",
       " ('just', 13),\n",
       " ('dev', 13),\n",
       " ('don', 13),\n",
       " ('comment', 13),\n",
       " ('avoir', 13),\n",
       " ('compt', 13),\n",
       " ('économ', 13),\n",
       " ('presidentielle2017', 13),\n",
       " ('premi', 12),\n",
       " ('march', 12),\n",
       " ('ceux', 12),\n",
       " ('fillongat', 12),\n",
       " ('refus', 12),\n",
       " ('oui', 12),\n",
       " ('parl', 12),\n",
       " ('pay', 12),\n",
       " ('peut', 12),\n",
       " ('rendr', 11),\n",
       " ('temp', 11),\n",
       " ('jour', 11),\n",
       " ('français', 11),\n",
       " ('jeun', 11),\n",
       " ('président', 10),\n",
       " ('mond', 10),\n",
       " ('toujour', 10),\n",
       " ('lib', 10),\n",
       " ('con', 10),\n",
       " ('mettr', 10),\n",
       " ('coup', 10),\n",
       " ('parc', 10),\n",
       " ('campagn', 10),\n",
       " ('pens', 10),\n",
       " ('voilà', 10),\n",
       " ('person', 10),\n",
       " ('affair', 10),\n",
       " ('trouv', 10),\n",
       " ('attaqu', 10),\n",
       " ('peu', 10),\n",
       " ('cabinetnoir', 10),\n",
       " ('celui', 10),\n",
       " ('ment', 9),\n",
       " ('soutien', 9),\n",
       " ('quoi', 9),\n",
       " ('allez', 9),\n",
       " ('an', 9),\n",
       " ('mal', 9),\n",
       " ('point', 9),\n",
       " ('cel', 9),\n",
       " ('avant', 9),\n",
       " ('1er', 9),\n",
       " ('été', 9),\n",
       " ('valeur', 9),\n",
       " ('tweet', 9),\n",
       " ('pai', 9),\n",
       " ('déjà', 9),\n",
       " ('scen', 9),\n",
       " ('rest', 9),\n",
       " ('gagn', 9),\n",
       " ('moment', 8),\n",
       " ('mort', 8),\n",
       " ('depuis', 8),\n",
       " ('emmanuelholland', 8),\n",
       " ('asselineau', 8),\n",
       " ('croir', 8),\n",
       " ('aucun', 8),\n",
       " ('arrêt', 8),\n",
       " ('fn', 8),\n",
       " ('manipul', 8),\n",
       " ('question', 8),\n",
       " ('mieux', 8),\n",
       " ('system', 8),\n",
       " ('bel', 8),\n",
       " ('vidéo', 8),\n",
       " ('mois', 8),\n",
       " ('trop', 8),\n",
       " ('pet', 8),\n",
       " ('gen', 8),\n",
       " ('têt', 8),\n",
       " ('ver', 8),\n",
       " ('hamon2017', 8),\n",
       " ('fholland', 8),\n",
       " ('luc', 8),\n",
       " ('infiltr', 8),\n",
       " ('peupl', 8),\n",
       " ('moin', 8),\n",
       " ('avril', 8),\n",
       " ('rend', 7),\n",
       " ('fillonfillon2017', 7),\n",
       " ('bou', 7),\n",
       " ('jam', 7),\n",
       " ('tel', 7),\n",
       " ('articl', 7),\n",
       " ('plac', 7),\n",
       " ('guerr', 7),\n",
       " ('corrompu', 7),\n",
       " ('lurandat', 7),\n",
       " ('vois', 7),\n",
       " ('fpdoo', 7),\n",
       " ('vont', 7),\n",
       " ('pauvr', 7),\n",
       " ('fer', 7),\n",
       " ('fillon2017', 7),\n",
       " ('emmanuel', 7),\n",
       " ('stincker1609', 7),\n",
       " ('aller', 7),\n",
       " ('rappel', 7),\n",
       " ('doit', 7),\n",
       " ('jlmlill', 7),\n",
       " ('import', 7),\n",
       " ('médi', 7),\n",
       " ('parol', 7),\n",
       " ('aim', 7),\n",
       " ('raison', 6),\n",
       " ('toulous', 6),\n",
       " ('poutin', 6),\n",
       " ('rassembl', 6),\n",
       " ('2nd', 6),\n",
       " ('minut', 6),\n",
       " ('boblecentr', 6),\n",
       " ('ça', 6),\n",
       " ('camarad', 6),\n",
       " ('pos', 6),\n",
       " ('propos', 6),\n",
       " ('truc', 6),\n",
       " ('continu', 6),\n",
       " ('prend', 6),\n",
       " ('port', 6),\n",
       " ('cru', 6),\n",
       " ('comprend', 6),\n",
       " ('famill', 6),\n",
       " ('90', 6),\n",
       " ('fr', 6),\n",
       " ('libert', 6),\n",
       " ('insult', 6),\n",
       " ('ici', 6),\n",
       " ('chang', 6),\n",
       " ('mec', 6),\n",
       " ('macron2017', 6),\n",
       " ('vit', 6),\n",
       " ('facho', 6),\n",
       " ('sous', 6),\n",
       " ('vid', 6),\n",
       " ('fion', 6),\n",
       " ('chrétien', 6),\n",
       " ('franceinfo', 6),\n",
       " ('dictateur', 6),\n",
       " ('ridicul', 6),\n",
       " ('press', 6),\n",
       " ('le_figaro', 6),\n",
       " ('devr', 6),\n",
       " ('lemondefr', 6),\n",
       " ('plutôt', 6),\n",
       " ('voir', 6),\n",
       " ('tax', 6),\n",
       " ('là', 6),\n",
       " ('lordon', 6),\n",
       " ('derri', 6),\n",
       " ('idé', 6),\n",
       " ('mainten', 6),\n",
       " ('paris', 6),\n",
       " ('avenirencommun', 6),\n",
       " ('demand', 6),\n",
       " ('rêv', 6),\n",
       " ('adress', 6),\n",
       " ('pir', 5),\n",
       " ('crois', 5),\n",
       " ('accord', 5),\n",
       " ('pourr', 5),\n",
       " ('élu', 5),\n",
       " ('mont', 5),\n",
       " ('vall', 5),\n",
       " ('expliqu', 5),\n",
       " ('plein', 5),\n",
       " ('asselineau2017', 5),\n",
       " ('numer', 5),\n",
       " ('rmcinfo', 5),\n",
       " ('fac', 5),\n",
       " ('enfant', 5),\n",
       " ('résultat', 5),\n",
       " ('pouvoir', 5),\n",
       " ('publiqu', 5),\n",
       " ('arrier', 5),\n",
       " ('vent', 5),\n",
       " ('insoumis', 5),\n",
       " ('homm', 5),\n",
       " ('deux', 5),\n",
       " ('beaucoup', 5),\n",
       " ('mdr', 5),\n",
       " ('petit', 5),\n",
       " ('fois', 5),\n",
       " ('histoir', 5),\n",
       " ('public', 5),\n",
       " ('ecogine2', 5),\n",
       " ('lci', 5),\n",
       " ('bah', 5),\n",
       " ('respect', 5),\n",
       " ('présent', 5),\n",
       " ('mllehappiness_', 5),\n",
       " ('spasm', 5),\n",
       " ('stupid', 5),\n",
       " ('problem', 5),\n",
       " ('chav', 5),\n",
       " ('ferm', 5),\n",
       " ('met', 5),\n",
       " ('voul', 5),\n",
       " ('preuv', 5),\n",
       " ('mech', 5),\n",
       " ('insoum', 5),\n",
       " ('répondr', 5),\n",
       " ('pub', 5),\n",
       " ('risqu', 5),\n",
       " ('sarkozy', 5),\n",
       " ('ouestfr', 5),\n",
       " ('banqu', 5),\n",
       " ('acteur', 5),\n",
       " ('souten', 5),\n",
       " ('membr', 5),\n",
       " ('financ', 5),\n",
       " ('bangui40', 5),\n",
       " ('soutient', 5),\n",
       " ('argument', 5),\n",
       " ('banlieu', 5),\n",
       " ('rendslargent', 5),\n",
       " ('imag', 5),\n",
       " ('excellent', 5),\n",
       " ('frédéric', 5)]"
      ]
     },
     "execution_count": 105,
     "metadata": {},
     "output_type": "execute_result"
    }
   ],
   "source": [
    "words_freq"
   ]
  },
  {
   "cell_type": "code",
   "execution_count": 34,
   "metadata": {},
   "outputs": [
    {
     "data": {
      "text/plain": [
       "'@JJBourdin_RMC Pourquoi ne pas passer des extraits des interviews de Fillon avant,pendant et après les primaires. Ç… https://t.co/iF05jgqH4j'"
      ]
     },
     "execution_count": 34,
     "metadata": {},
     "output_type": "execute_result"
    }
   ],
   "source": [
    "tweet_list[0]"
   ]
  },
  {
   "cell_type": "code",
   "execution_count": 35,
   "metadata": {},
   "outputs": [],
   "source": [
    "X = vectorize_docs(vectorizer, tweet_list)"
   ]
  },
  {
   "cell_type": "code",
   "execution_count": 36,
   "metadata": {},
   "outputs": [
    {
     "data": {
      "text/plain": [
       "('acteurs', 4)"
      ]
     },
     "execution_count": 36,
     "metadata": {},
     "output_type": "execute_result"
    }
   ],
   "source": [
    "words_freq[350]"
   ]
  },
  {
   "cell_type": "code",
   "execution_count": 38,
   "metadata": {},
   "outputs": [
    {
     "data": {
      "text/plain": [
       "(1000, 3632)"
      ]
     },
     "execution_count": 38,
     "metadata": {},
     "output_type": "execute_result"
    }
   ],
   "source": [
    "X.shape"
   ]
  },
  {
   "cell_type": "code",
   "execution_count": null,
   "metadata": {},
   "outputs": [],
   "source": []
  }
 ],
 "metadata": {
  "kernelspec": {
   "display_name": "Python 3",
   "language": "python",
   "name": "python3"
  },
  "language_info": {
   "codemirror_mode": {
    "name": "ipython",
    "version": 3
   },
   "file_extension": ".py",
   "mimetype": "text/x-python",
   "name": "python",
   "nbconvert_exporter": "python",
   "pygments_lexer": "ipython3",
   "version": "3.5.4"
  }
 },
 "nbformat": 4,
 "nbformat_minor": 2
}

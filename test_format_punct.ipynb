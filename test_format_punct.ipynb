{
 "cells": [
  {
   "cell_type": "code",
   "execution_count": 33,
   "metadata": {},
   "outputs": [
    {
     "name": "stdout",
     "output_type": "stream",
     "text": [
      "The autoreload extension is already loaded. To reload it, use:\n",
      "  %reload_ext autoreload\n"
     ]
    }
   ],
   "source": [
    "%load_ext autoreload\n",
    "%autoreload 2\n",
    "from utils import *"
   ]
  },
  {
   "cell_type": "code",
   "execution_count": 35,
   "metadata": {},
   "outputs": [
    {
     "data": {
      "text/plain": [
       "True"
      ]
     },
     "execution_count": 35,
     "metadata": {},
     "output_type": "execute_result"
    }
   ],
   "source": [
    "twitter_db = connect_to_db()\n",
    "cursor = twitter_db.cursor()\n",
    "cursor2 = twitter_db.cursor()\n",
    "sql = \"UPDATE tweets_new SET text_punct = \\\"RT @Youssefbarcaa: Quand j'arrive à la CAF à 9h01 #Macron https://t.co/6hDQo5Gk9m\\\" WHERE tweet_id = 852672755623497728\"\n",
    "cursor2.execute(sql)\n",
    "twitter_db.commit()\n",
    "cursor2.close()\n",
    "cursor.close()"
   ]
  },
  {
   "cell_type": "code",
   "execution_count": 32,
   "metadata": {},
   "outputs": [
    {
     "name": "stdout",
     "output_type": "stream",
     "text": [
      "10 record(s) affected\n"
     ]
    },
    {
     "data": {
      "text/plain": [
       "True"
      ]
     },
     "execution_count": 32,
     "metadata": {},
     "output_type": "execute_result"
    }
   ],
   "source": [
    "twitter_db = connect_to_db()\n",
    "cursor = twitter_db.cursor()\n",
    "query = \"SELECT text, tweet_id FROM tweets_new WHERE lang='fr' LIMIT 10\"\n",
    "cursor.execute(query)\n",
    "\n",
    "for (text, tweet_id) in cursor.fetchall():\n",
    "    cursor2 = twitter_db.cursor()\n",
    "    formatted_text = format_punctuation(text)\n",
    "    sql = \"\"\"UPDATE tweets_new SET text_punct = \\\"%s\\\" WHERE tweet_id = %s\"\"\"\n",
    "    val = (formatted_text, tweet_id)\n",
    "    cursor2.execute(sql, val)\n",
    "    cursor2.close()\n",
    "    twitter_db.commit()\n",
    "\n",
    "print(\"{} record(s) affected\".format(cursor.rowcount))\n",
    "cursor.close()"
   ]
  },
  {
   "cell_type": "code",
   "execution_count": 10,
   "metadata": {},
   "outputs": [
    {
     "ename": "InternalError",
     "evalue": "Unread result found",
     "output_type": "error",
     "traceback": [
      "\u001b[0;31m---------------------------------------------------------------------------\u001b[0m",
      "\u001b[0;31mInternalError\u001b[0m                             Traceback (most recent call last)",
      "\u001b[0;32m<ipython-input-10-7c6e9db3e844>\u001b[0m in \u001b[0;36m<module>\u001b[0;34m()\u001b[0m\n\u001b[1;32m      8\u001b[0m     \u001b[0msql\u001b[0m \u001b[0;34m=\u001b[0m \u001b[0;34m\"\"\"UPDATE tweets_new SET text_punct = \\\"%s\\\" WHERE tweet_id = %s'\"\"\"\u001b[0m\u001b[0;34m\u001b[0m\u001b[0m\n\u001b[1;32m      9\u001b[0m     \u001b[0mval\u001b[0m \u001b[0;34m=\u001b[0m \u001b[0;34m(\u001b[0m\u001b[0mformatted_text\u001b[0m\u001b[0;34m,\u001b[0m \u001b[0mtweet_id\u001b[0m\u001b[0;34m)\u001b[0m\u001b[0;34m\u001b[0m\u001b[0m\n\u001b[0;32m---> 10\u001b[0;31m     \u001b[0mcursor\u001b[0m\u001b[0;34m.\u001b[0m\u001b[0mexecute\u001b[0m\u001b[0;34m(\u001b[0m\u001b[0msql\u001b[0m\u001b[0;34m,\u001b[0m \u001b[0mval\u001b[0m\u001b[0;34m)\u001b[0m\u001b[0;34m\u001b[0m\u001b[0m\n\u001b[0m\u001b[1;32m     11\u001b[0m     \u001b[0mtwitter_db\u001b[0m\u001b[0;34m.\u001b[0m\u001b[0mcommit\u001b[0m\u001b[0;34m(\u001b[0m\u001b[0;34m)\u001b[0m\u001b[0;34m\u001b[0m\u001b[0m\n\u001b[1;32m     12\u001b[0m \u001b[0;34m\u001b[0m\u001b[0m\n",
      "\u001b[0;32m~/anaconda3/lib/python3.5/site-packages/mysql/connector/cursor_cext.py\u001b[0m in \u001b[0;36mexecute\u001b[0;34m(self, operation, params, multi)\u001b[0m\n\u001b[1;32m    230\u001b[0m         \u001b[0;32mif\u001b[0m \u001b[0;32mnot\u001b[0m \u001b[0mself\u001b[0m\u001b[0;34m.\u001b[0m\u001b[0m_cnx\u001b[0m\u001b[0;34m:\u001b[0m\u001b[0;34m\u001b[0m\u001b[0m\n\u001b[1;32m    231\u001b[0m             \u001b[0;32mraise\u001b[0m \u001b[0merrors\u001b[0m\u001b[0;34m.\u001b[0m\u001b[0mProgrammingError\u001b[0m\u001b[0;34m(\u001b[0m\u001b[0;34m\"Cursor is not connected\"\u001b[0m\u001b[0;34m)\u001b[0m\u001b[0;34m\u001b[0m\u001b[0m\n\u001b[0;32m--> 232\u001b[0;31m         \u001b[0mself\u001b[0m\u001b[0;34m.\u001b[0m\u001b[0m_cnx\u001b[0m\u001b[0;34m.\u001b[0m\u001b[0mhandle_unread_result\u001b[0m\u001b[0;34m(\u001b[0m\u001b[0;34m)\u001b[0m\u001b[0;34m\u001b[0m\u001b[0m\n\u001b[0m\u001b[1;32m    233\u001b[0m \u001b[0;34m\u001b[0m\u001b[0m\n\u001b[1;32m    234\u001b[0m         \u001b[0mstmt\u001b[0m \u001b[0;34m=\u001b[0m \u001b[0;34m''\u001b[0m\u001b[0;34m\u001b[0m\u001b[0m\n",
      "\u001b[0;32m~/anaconda3/lib/python3.5/site-packages/mysql/connector/connection_cext.py\u001b[0m in \u001b[0;36mhandle_unread_result\u001b[0;34m(self)\u001b[0m\n\u001b[1;32m    612\u001b[0m             \u001b[0mself\u001b[0m\u001b[0;34m.\u001b[0m\u001b[0mconsume_results\u001b[0m\u001b[0;34m(\u001b[0m\u001b[0;34m)\u001b[0m\u001b[0;34m\u001b[0m\u001b[0m\n\u001b[1;32m    613\u001b[0m         \u001b[0;32melif\u001b[0m \u001b[0mself\u001b[0m\u001b[0;34m.\u001b[0m\u001b[0munread_result\u001b[0m\u001b[0;34m:\u001b[0m\u001b[0;34m\u001b[0m\u001b[0m\n\u001b[0;32m--> 614\u001b[0;31m             \u001b[0;32mraise\u001b[0m \u001b[0merrors\u001b[0m\u001b[0;34m.\u001b[0m\u001b[0mInternalError\u001b[0m\u001b[0;34m(\u001b[0m\u001b[0;34m\"Unread result found\"\u001b[0m\u001b[0;34m)\u001b[0m\u001b[0;34m\u001b[0m\u001b[0m\n\u001b[0m",
      "\u001b[0;31mInternalError\u001b[0m: Unread result found"
     ]
    }
   ],
   "source": [
    "twitter_db = connect_to_db()\n",
    "cursor = twitter_db.cursor()\n",
    "query = \"SELECT text, tweet_id FROM tweets_new WHERE lang='fr' LIMIT 10\"\n",
    "cursor.execute(query)\n",
    "\n",
    "for (text, tweet_id) in cursor:\n",
    "    formatted_text = format_punctuation(text)\n",
    "    sql = \"\"\"UPDATE tweets_new SET text_punct = \\\"%s\\\" WHERE tweet_id = %s'\"\"\"\n",
    "    val = (formatted_text, tweet_id)\n",
    "    cursor.execute(sql, val)\n",
    "    twitter_db.commit()\n",
    "\n",
    "print(\"{} record(s) affected\".format(cursor.rowcount))\n",
    "cursor.close()"
   ]
  },
  {
   "cell_type": "code",
   "execution_count": 15,
   "metadata": {},
   "outputs": [
    {
     "name": "stdout",
     "output_type": "stream",
     "text": [
      "RT @Youssefbarcaa: Quand j'arrive à la CAF à 9h01 #Macron https://t.co/6hDQo5Gk9m 852672755623497728\n",
      "RT @SoChik75: Alors les Insoumis ? On fait quoi le 21 avril? On invite ses voisins et on convainc les derniers indécis !…  852672755938074624\n",
      "@JJBourdin_RMC Pourquoi ne pas passer des extraits des interviews de Fillon avant,pendant et après les primaires. Ç… https://t.co/iF05jgqH4j 852672758714707969\n",
      "Mdrrr a la fin il avait dit \" je craint degun \" https://t.co/Sj9Hw5leSj 852672763571646466\n",
      "RT @Enima__: Y'a un mec il m'doit 20€ jlui envoie plein de photos de Fillon il m'lache des \"???\" Il veut pas comprendre rend l'argent fdp 852672766927155206\n",
      "Couverts par le #PS.\n",
      "#Antifa #Délinquance #Extrêmegauche #Hollande #frontnational #MarineLePen #FN #news #infos\n",
      "https://t.co/uFxXop6ZUf 852672770018291712\n",
      "Sarkozy inspire Macron ? Depuis le temps que je dis que le progr éco de Macron est proche de celui de NS. .. https://t.co/sStugB2tXR 852672771683438593\n",
      "RT @JeudyBruno: Asselineau mouche Macron : \"Vous êtes toujours d'accord avec tout le monde\" Marine Le Pen eclate de rire. Macron rit jaune… 852672772350382080\n",
      "RT @ULYSSE888: #Macron: \"Il n'y a pas de culture française.\"\n",
      "#Mélenchon: \"Nous ne descendons pas des Gaulois.\"\n",
      "#Hamon: \"Je suis fier qu'on… 852672775667957760\n",
      "RT @SondageWorId: Rt et Follow pour le sondage ! ? \n",
      "Qui préfère tu ? #sondage #fillon #fillon2017 #DupontAignan #droite #Presidentielle2017 852672777760817152\n"
     ]
    },
    {
     "data": {
      "text/plain": [
       "True"
      ]
     },
     "execution_count": 15,
     "metadata": {},
     "output_type": "execute_result"
    }
   ],
   "source": [
    "N = 10\n",
    "\n",
    "cursor = twitter_db.cursor()\n",
    "\n",
    "query = (\"SELECT text, tweet_id FROM tweets WHERE lang='fr' LIMIT \" + str(N))\n",
    "\n",
    "cursor.execute(query)\n",
    "\n",
    "for text, tweet_id in cursor:\n",
    "    print(text, tweet_id)\n",
    "\n",
    "cursor.close()"
   ]
  },
  {
   "cell_type": "code",
   "execution_count": 14,
   "metadata": {},
   "outputs": [
    {
     "name": "stdout",
     "output_type": "stream",
     "text": [
      "RT @Youssefbarcaa: Quand j'arrive à la CAF à 9h01 #Macron https://t.co/6hDQo5Gk9m ---> RT @Youssefbarcaa: Quand j'arrive à la CAF à 9h01 #Macron https://t.co/6hDQo5Gk9m\n",
      "****************\n",
      "RT @SoChik75: Alors les Insoumis ? On fait quoi le 21 avril? On invite ses voisins et on convainc les derniers indécis !…  ---> RT @SoChik75: Alors les Insoumis  single_int_mark  On fait quoi le 21 avril single_int_mark  On invite ses voisins et on convainc les derniers indécis  single_excl_mark  susp_pts  \n",
      "****************\n",
      "@JJBourdin_RMC Pourquoi ne pas passer des extraits des interviews de Fillon avant,pendant et après les primaires. Ç… https://t.co/iF05jgqH4j ---> @JJBourdin_RMC Pourquoi ne pas passer des extraits des interviews de Fillon avant,pendant et après les primaires. Ç susp_pts  https://t.co/iF05jgqH4j\n",
      "****************\n",
      "Mdrrr a la fin il avait dit \" je craint degun \" https://t.co/Sj9Hw5leSj ---> Mdrrr a la fin il avait dit \" je craint degun \" https://t.co/Sj9Hw5leSj\n",
      "****************\n",
      "RT @Enima__: Y'a un mec il m'doit 20€ jlui envoie plein de photos de Fillon il m'lache des \"???\" Il veut pas comprendre rend l'argent fdp ---> RT @Enima__: Y'a un mec il m'doit 20€ jlui envoie plein de photos de Fillon il m'lache des \" mult_int_mark \" Il veut pas comprendre rend l'argent fdp\n",
      "****************\n",
      "Couverts par le #PS.\n",
      "#Antifa #Délinquance #Extrêmegauche #Hollande #frontnational #MarineLePen #FN #news #infos\n",
      "https://t.co/uFxXop6ZUf ---> Couverts par le #PS.\n",
      "#Antifa #Délinquance #Extrêmegauche #Hollande #frontnational #MarineLePen #FN #news #infos\n",
      "https://t.co/uFxXop6ZUf\n",
      "****************\n",
      "Sarkozy inspire Macron ? Depuis le temps que je dis que le progr éco de Macron est proche de celui de NS. .. https://t.co/sStugB2tXR ---> Sarkozy inspire Macron  single_int_mark  Depuis le temps que je dis que le progr éco de Macron est proche de celui de NS.  susp_pts  https://t.co/sStugB2tXR\n",
      "****************\n",
      "RT @JeudyBruno: Asselineau mouche Macron : \"Vous êtes toujours d'accord avec tout le monde\" Marine Le Pen eclate de rire. Macron rit jaune… ---> RT @JeudyBruno: Asselineau mouche Macron : \"Vous êtes toujours d'accord avec tout le monde\" Marine Le Pen eclate de rire. Macron rit jaune susp_pts \n",
      "****************\n",
      "RT @ULYSSE888: #Macron: \"Il n'y a pas de culture française.\"\n",
      "#Mélenchon: \"Nous ne descendons pas des Gaulois.\"\n",
      "#Hamon: \"Je suis fier qu'on… ---> RT @ULYSSE888: #Macron: \"Il n'y a pas de culture française.\"\n",
      "#Mélenchon: \"Nous ne descendons pas des Gaulois.\"\n",
      "#Hamon: \"Je suis fier qu'on susp_pts \n",
      "****************\n",
      "RT @SondageWorId: Rt et Follow pour le sondage ! ? \n",
      "Qui préfère tu ? #sondage #fillon #fillon2017 #DupontAignan #droite #Presidentielle2017 ---> RT @SondageWorId: Rt et Follow pour le sondage  single_excl_mark   single_int_mark  \n",
      "Qui préfère tu  single_int_mark  #sondage #fillon #fillon2017 #DupontAignan #droite #Presidentielle2017\n",
      "****************\n"
     ]
    },
    {
     "data": {
      "text/plain": [
       "True"
      ]
     },
     "execution_count": 14,
     "metadata": {},
     "output_type": "execute_result"
    }
   ],
   "source": [
    "N = 10\n",
    "\n",
    "cursor = twitter_db.cursor()\n",
    "\n",
    "query = (\"SELECT text FROM tweets WHERE lang='fr' LIMIT \" + str(N))\n",
    "\n",
    "cursor.execute(query)\n",
    "\n",
    "for text in cursor:\n",
    "    print(\"{} ---> {}\".format(text[0], format_punctuation(text[0])))\n",
    "    print(\"****************\")\n",
    "\n",
    "cursor.close()"
   ]
  }
 ],
 "metadata": {
  "kernelspec": {
   "display_name": "Python 3",
   "language": "python",
   "name": "python3"
  },
  "language_info": {
   "codemirror_mode": {
    "name": "ipython",
    "version": 3
   },
   "file_extension": ".py",
   "mimetype": "text/x-python",
   "name": "python",
   "nbconvert_exporter": "python",
   "pygments_lexer": "ipython3",
   "version": "3.5.4"
  }
 },
 "nbformat": 4,
 "nbformat_minor": 2
}

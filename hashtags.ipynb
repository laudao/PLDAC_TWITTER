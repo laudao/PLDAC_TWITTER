{
 "cells": [
  {
   "cell_type": "code",
   "execution_count": 1,
   "metadata": {},
   "outputs": [],
   "source": [
    "%load_ext autoreload\n",
    "%autoreload 2\n",
    "from utils import *"
   ]
  },
  {
   "cell_type": "code",
   "execution_count": 2,
   "metadata": {},
   "outputs": [],
   "source": [
    "twitter_db = connect_to_db()"
   ]
  },
  {
   "cell_type": "code",
   "execution_count": null,
   "metadata": {},
   "outputs": [],
   "source": [
    "N = 100\n",
    "hashtags = []\n",
    "\n",
    "cursor = twitter_db.cursor()\n",
    "\n",
    "query = (\"SELECT h.hash, count(h.hash) \\\n",
    "          FROM hashs h, tweet_hash th, tweets t \\\n",
    "          WHERE h.hash_id = th.hash_id AND th.tweet_id = t.tweet_id \\\n",
    "          GROUP BY h.hash\")\n",
    "\n",
    "cursor.execute(query)\n",
    "\n",
    "for h in cursor:\n",
    "    hashtags.append(h[0])\n",
    "\n",
    "cursor.close()"
   ]
  }
 ],
 "metadata": {
  "kernelspec": {
   "display_name": "Python 3",
   "language": "python",
   "name": "python3"
  },
  "language_info": {
   "codemirror_mode": {
    "name": "ipython",
    "version": 3
   },
   "file_extension": ".py",
   "mimetype": "text/x-python",
   "name": "python",
   "nbconvert_exporter": "python",
   "pygments_lexer": "ipython3",
   "version": "3.5.4"
  }
 },
 "nbformat": 4,
 "nbformat_minor": 2
}
